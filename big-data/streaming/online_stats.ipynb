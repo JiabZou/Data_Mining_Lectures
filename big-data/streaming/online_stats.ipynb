{
 "cells": [
  {
   "attachments": {},
   "cell_type": "markdown",
   "metadata": {},
   "source": [
    "# Online statistics\n",
    "\n",
    "Basic statistics are the building blocks of statistical models. For instance, being able to compute an average and a variance is fundamental. In this tutorial, we will take a look at how to compute basic statistics in an online fashion.\n",
    "\n",
    "We will use stock market data to feed our examples. This requires installing the Yahoo finance SDK for Python:\n",
    "\n",
    "```py\n",
    "pip install yfinance\n",
    "```"
   ]
  },
  {
   "cell_type": "code",
   "execution_count": 41,
   "metadata": {},
   "outputs": [
    {
     "name": "stdout",
     "output_type": "stream",
     "text": [
      "[*********************100%***********************]  4 of 4 completed\n"
     ]
    },
    {
     "data": {
      "text/html": [
       "<div>\n",
       "<style scoped>\n",
       "    .dataframe tbody tr th:only-of-type {\n",
       "        vertical-align: middle;\n",
       "    }\n",
       "\n",
       "    .dataframe tbody tr th {\n",
       "        vertical-align: top;\n",
       "    }\n",
       "\n",
       "    .dataframe thead tr th {\n",
       "        text-align: left;\n",
       "    }\n",
       "\n",
       "    .dataframe thead tr:last-of-type th {\n",
       "        text-align: right;\n",
       "    }\n",
       "</style>\n",
       "<table border=\"1\" class=\"dataframe\">\n",
       "  <thead>\n",
       "    <tr>\n",
       "      <th></th>\n",
       "      <th colspan=\"4\" halign=\"left\">Adj Close</th>\n",
       "      <th colspan=\"4\" halign=\"left\">Close</th>\n",
       "      <th colspan=\"4\" halign=\"left\">High</th>\n",
       "      <th colspan=\"4\" halign=\"left\">Low</th>\n",
       "      <th colspan=\"4\" halign=\"left\">Open</th>\n",
       "      <th colspan=\"4\" halign=\"left\">Volume</th>\n",
       "    </tr>\n",
       "    <tr>\n",
       "      <th></th>\n",
       "      <th>AAPL</th>\n",
       "      <th>AMZN</th>\n",
       "      <th>GOOGL</th>\n",
       "      <th>MSFT</th>\n",
       "      <th>AAPL</th>\n",
       "      <th>AMZN</th>\n",
       "      <th>GOOGL</th>\n",
       "      <th>MSFT</th>\n",
       "      <th>AAPL</th>\n",
       "      <th>AMZN</th>\n",
       "      <th>GOOGL</th>\n",
       "      <th>MSFT</th>\n",
       "      <th>AAPL</th>\n",
       "      <th>AMZN</th>\n",
       "      <th>GOOGL</th>\n",
       "      <th>MSFT</th>\n",
       "      <th>AAPL</th>\n",
       "      <th>AMZN</th>\n",
       "      <th>GOOGL</th>\n",
       "      <th>MSFT</th>\n",
       "      <th>AAPL</th>\n",
       "      <th>AMZN</th>\n",
       "      <th>GOOGL</th>\n",
       "      <th>MSFT</th>\n",
       "    </tr>\n",
       "    <tr>\n",
       "      <th>Date</th>\n",
       "      <th></th>\n",
       "      <th></th>\n",
       "      <th></th>\n",
       "      <th></th>\n",
       "      <th></th>\n",
       "      <th></th>\n",
       "      <th></th>\n",
       "      <th></th>\n",
       "      <th></th>\n",
       "      <th></th>\n",
       "      <th></th>\n",
       "      <th></th>\n",
       "      <th></th>\n",
       "      <th></th>\n",
       "      <th></th>\n",
       "      <th></th>\n",
       "      <th></th>\n",
       "      <th></th>\n",
       "      <th></th>\n",
       "      <th></th>\n",
       "      <th></th>\n",
       "      <th></th>\n",
       "      <th></th>\n",
       "      <th></th>\n",
       "    </tr>\n",
       "  </thead>\n",
       "  <tbody>\n",
       "    <tr>\n",
       "      <th>2021-12-27</th>\n",
       "      <td>179.016113</td>\n",
       "      <td>169.669495</td>\n",
       "      <td>147.906494</td>\n",
       "      <td>338.423340</td>\n",
       "      <td>180.330002</td>\n",
       "      <td>169.669495</td>\n",
       "      <td>147.906494</td>\n",
       "      <td>342.450012</td>\n",
       "      <td>180.419998</td>\n",
       "      <td>172.942993</td>\n",
       "      <td>148.343994</td>\n",
       "      <td>342.480011</td>\n",
       "      <td>177.070007</td>\n",
       "      <td>169.215500</td>\n",
       "      <td>147.169495</td>\n",
       "      <td>335.429993</td>\n",
       "      <td>177.089996</td>\n",
       "      <td>171.037003</td>\n",
       "      <td>147.255997</td>\n",
       "      <td>335.459991</td>\n",
       "      <td>74919600</td>\n",
       "      <td>58688000</td>\n",
       "      <td>15976000</td>\n",
       "      <td>19947000</td>\n",
       "    </tr>\n",
       "    <tr>\n",
       "      <th>2021-12-28</th>\n",
       "      <td>177.983704</td>\n",
       "      <td>170.660995</td>\n",
       "      <td>146.686996</td>\n",
       "      <td>337.237457</td>\n",
       "      <td>179.289993</td>\n",
       "      <td>170.660995</td>\n",
       "      <td>146.686996</td>\n",
       "      <td>341.250000</td>\n",
       "      <td>181.330002</td>\n",
       "      <td>172.175995</td>\n",
       "      <td>148.298996</td>\n",
       "      <td>343.809998</td>\n",
       "      <td>178.529999</td>\n",
       "      <td>169.135498</td>\n",
       "      <td>146.054504</td>\n",
       "      <td>340.320007</td>\n",
       "      <td>180.160004</td>\n",
       "      <td>170.182495</td>\n",
       "      <td>148.235992</td>\n",
       "      <td>343.149994</td>\n",
       "      <td>79144300</td>\n",
       "      <td>54638000</td>\n",
       "      <td>18200000</td>\n",
       "      <td>15661500</td>\n",
       "    </tr>\n",
       "    <tr>\n",
       "      <th>2021-12-29</th>\n",
       "      <td>178.073044</td>\n",
       "      <td>169.201004</td>\n",
       "      <td>146.654999</td>\n",
       "      <td>337.929199</td>\n",
       "      <td>179.380005</td>\n",
       "      <td>169.201004</td>\n",
       "      <td>146.654999</td>\n",
       "      <td>341.950012</td>\n",
       "      <td>180.630005</td>\n",
       "      <td>171.212006</td>\n",
       "      <td>147.417007</td>\n",
       "      <td>344.299988</td>\n",
       "      <td>178.139999</td>\n",
       "      <td>168.600494</td>\n",
       "      <td>145.647507</td>\n",
       "      <td>339.679993</td>\n",
       "      <td>179.330002</td>\n",
       "      <td>170.839996</td>\n",
       "      <td>146.644501</td>\n",
       "      <td>341.299988</td>\n",
       "      <td>62348900</td>\n",
       "      <td>35754000</td>\n",
       "      <td>17788000</td>\n",
       "      <td>15042000</td>\n",
       "    </tr>\n",
       "    <tr>\n",
       "      <th>2021-12-30</th>\n",
       "      <td>176.901611</td>\n",
       "      <td>168.644501</td>\n",
       "      <td>146.200500</td>\n",
       "      <td>335.330139</td>\n",
       "      <td>178.199997</td>\n",
       "      <td>168.644501</td>\n",
       "      <td>146.200500</td>\n",
       "      <td>339.320007</td>\n",
       "      <td>180.570007</td>\n",
       "      <td>170.888000</td>\n",
       "      <td>147.300003</td>\n",
       "      <td>343.130005</td>\n",
       "      <td>178.089996</td>\n",
       "      <td>168.524002</td>\n",
       "      <td>145.994507</td>\n",
       "      <td>338.820007</td>\n",
       "      <td>179.470001</td>\n",
       "      <td>169.699997</td>\n",
       "      <td>146.694000</td>\n",
       "      <td>341.910004</td>\n",
       "      <td>59773000</td>\n",
       "      <td>37584000</td>\n",
       "      <td>15688000</td>\n",
       "      <td>15994500</td>\n",
       "    </tr>\n",
       "    <tr>\n",
       "      <th>2021-12-31</th>\n",
       "      <td>176.276230</td>\n",
       "      <td>166.716995</td>\n",
       "      <td>144.852005</td>\n",
       "      <td>332.365417</td>\n",
       "      <td>177.570007</td>\n",
       "      <td>166.716995</td>\n",
       "      <td>144.852005</td>\n",
       "      <td>336.320007</td>\n",
       "      <td>179.229996</td>\n",
       "      <td>169.350006</td>\n",
       "      <td>146.698502</td>\n",
       "      <td>339.359985</td>\n",
       "      <td>177.259995</td>\n",
       "      <td>166.558502</td>\n",
       "      <td>144.852005</td>\n",
       "      <td>335.850006</td>\n",
       "      <td>178.089996</td>\n",
       "      <td>168.955994</td>\n",
       "      <td>146.050003</td>\n",
       "      <td>338.510010</td>\n",
       "      <td>64062300</td>\n",
       "      <td>47830000</td>\n",
       "      <td>18136000</td>\n",
       "      <td>18000800</td>\n",
       "    </tr>\n",
       "  </tbody>\n",
       "</table>\n",
       "</div>"
      ],
      "text/plain": [
       "             Adj Close                                           Close  \\\n",
       "                  AAPL        AMZN       GOOGL        MSFT        AAPL   \n",
       "Date                                                                     \n",
       "2021-12-27  179.016113  169.669495  147.906494  338.423340  180.330002   \n",
       "2021-12-28  177.983704  170.660995  146.686996  337.237457  179.289993   \n",
       "2021-12-29  178.073044  169.201004  146.654999  337.929199  179.380005   \n",
       "2021-12-30  176.901611  168.644501  146.200500  335.330139  178.199997   \n",
       "2021-12-31  176.276230  166.716995  144.852005  332.365417  177.570007   \n",
       "\n",
       "                                                      High              \\\n",
       "                  AMZN       GOOGL        MSFT        AAPL        AMZN   \n",
       "Date                                                                     \n",
       "2021-12-27  169.669495  147.906494  342.450012  180.419998  172.942993   \n",
       "2021-12-28  170.660995  146.686996  341.250000  181.330002  172.175995   \n",
       "2021-12-29  169.201004  146.654999  341.950012  180.630005  171.212006   \n",
       "2021-12-30  168.644501  146.200500  339.320007  180.570007  170.888000   \n",
       "2021-12-31  166.716995  144.852005  336.320007  179.229996  169.350006   \n",
       "\n",
       "                                           Low                          \\\n",
       "                 GOOGL        MSFT        AAPL        AMZN       GOOGL   \n",
       "Date                                                                     \n",
       "2021-12-27  148.343994  342.480011  177.070007  169.215500  147.169495   \n",
       "2021-12-28  148.298996  343.809998  178.529999  169.135498  146.054504   \n",
       "2021-12-29  147.417007  344.299988  178.139999  168.600494  145.647507   \n",
       "2021-12-30  147.300003  343.130005  178.089996  168.524002  145.994507   \n",
       "2021-12-31  146.698502  339.359985  177.259995  166.558502  144.852005   \n",
       "\n",
       "                              Open                                      \\\n",
       "                  MSFT        AAPL        AMZN       GOOGL        MSFT   \n",
       "Date                                                                     \n",
       "2021-12-27  335.429993  177.089996  171.037003  147.255997  335.459991   \n",
       "2021-12-28  340.320007  180.160004  170.182495  148.235992  343.149994   \n",
       "2021-12-29  339.679993  179.330002  170.839996  146.644501  341.299988   \n",
       "2021-12-30  338.820007  179.470001  169.699997  146.694000  341.910004   \n",
       "2021-12-31  335.850006  178.089996  168.955994  146.050003  338.510010   \n",
       "\n",
       "              Volume                                \n",
       "                AAPL      AMZN     GOOGL      MSFT  \n",
       "Date                                                \n",
       "2021-12-27  74919600  58688000  15976000  19947000  \n",
       "2021-12-28  79144300  54638000  18200000  15661500  \n",
       "2021-12-29  62348900  35754000  17788000  15042000  \n",
       "2021-12-30  59773000  37584000  15688000  15994500  \n",
       "2021-12-31  64062300  47830000  18136000  18000800  "
      ]
     },
     "execution_count": 41,
     "metadata": {},
     "output_type": "execute_result"
    }
   ],
   "source": [
    "import yfinance as yf\n",
    "\n",
    "history = yf.download(\n",
    "    tickers=['GOOGL', 'MSFT', 'AAPL', 'AMZN'],\n",
    "    start='2020-01-01',\n",
    "    end='2022-01-01'\n",
    ")\n",
    "history.tail()"
   ]
  },
  {
   "cell_type": "code",
   "execution_count": 134,
   "metadata": {},
   "outputs": [
    {
     "data": {
      "text/html": [
       "<div>\n",
       "<style scoped>\n",
       "    .dataframe tbody tr th:only-of-type {\n",
       "        vertical-align: middle;\n",
       "    }\n",
       "\n",
       "    .dataframe tbody tr th {\n",
       "        vertical-align: top;\n",
       "    }\n",
       "\n",
       "    .dataframe thead th {\n",
       "        text-align: right;\n",
       "    }\n",
       "</style>\n",
       "<table border=\"1\" class=\"dataframe\">\n",
       "  <thead>\n",
       "    <tr style=\"text-align: right;\">\n",
       "      <th></th>\n",
       "      <th>ticker</th>\n",
       "      <th>price</th>\n",
       "    </tr>\n",
       "    <tr>\n",
       "      <th>Date</th>\n",
       "      <th></th>\n",
       "      <th></th>\n",
       "    </tr>\n",
       "  </thead>\n",
       "  <tbody>\n",
       "    <tr>\n",
       "      <th>2021-10-20</th>\n",
       "      <td>AMZN</td>\n",
       "      <td>170.753006</td>\n",
       "    </tr>\n",
       "    <tr>\n",
       "      <th>2020-07-28</th>\n",
       "      <td>MSFT</td>\n",
       "      <td>196.991806</td>\n",
       "    </tr>\n",
       "    <tr>\n",
       "      <th>2020-03-18</th>\n",
       "      <td>AAPL</td>\n",
       "      <td>60.465328</td>\n",
       "    </tr>\n",
       "    <tr>\n",
       "      <th>2021-01-28</th>\n",
       "      <td>MSFT</td>\n",
       "      <td>234.157791</td>\n",
       "    </tr>\n",
       "    <tr>\n",
       "      <th>2021-02-26</th>\n",
       "      <td>GOOGL</td>\n",
       "      <td>101.095497</td>\n",
       "    </tr>\n",
       "  </tbody>\n",
       "</table>\n",
       "</div>"
      ],
      "text/plain": [
       "           ticker       price\n",
       "Date                         \n",
       "2021-10-20   AMZN  170.753006\n",
       "2020-07-28   MSFT  196.991806\n",
       "2020-03-18   AAPL   60.465328\n",
       "2021-01-28   MSFT  234.157791\n",
       "2021-02-26  GOOGL  101.095497"
      ]
     },
     "execution_count": 134,
     "metadata": {},
     "output_type": "execute_result"
    }
   ],
   "source": [
    "ticks = history['Adj Close'].melt(\n",
    "    var_name='ticker',\n",
    "    value_name='price',\n",
    "    ignore_index=False\n",
    ")\n",
    "ticks.sample(5)"
   ]
  },
  {
   "attachments": {},
   "cell_type": "markdown",
   "metadata": {},
   "source": [
    "## Mean\n",
    "\n",
    "$$\n",
    "\\left\\{ \n",
    "    \\begin{array}{ll}\n",
    "m_0 = 0  \\\\\n",
    "m_{t+1} = m_t + \\frac{x - m_t}{t+1}\n",
    "\\end{array}\n",
    "\\right.\n",
    "$$"
   ]
  },
  {
   "attachments": {},
   "cell_type": "markdown",
   "metadata": {},
   "source": [
    "We will use Python [dataclasses](https://docs.python.org/3/library/dataclasses.html) for the implementation. These are lightweight containers, they take away a lot of the boilerplate required with regular classes."
   ]
  },
  {
   "cell_type": "code",
   "execution_count": 53,
   "metadata": {},
   "outputs": [
    {
     "data": {
      "text/plain": [
       "Mean(n=0, value=0)"
      ]
     },
     "execution_count": 53,
     "metadata": {},
     "output_type": "execute_result"
    }
   ],
   "source": [
    "from dataclasses import dataclass\n",
    "\n",
    "@dataclass\n",
    "class Mean:\n",
    "    n: float = 0\n",
    "    value: float = 0\n",
    "\n",
    "    def update(self, x):\n",
    "        self.n += 1\n",
    "        self.value += (x - self.value) / self.n\n",
    "\n",
    "Mean()"
   ]
  },
  {
   "cell_type": "code",
   "execution_count": 54,
   "metadata": {},
   "outputs": [
    {
     "data": {
      "text/plain": [
       "Mean(n=505, value=229.89625256226788)"
      ]
     },
     "execution_count": 54,
     "metadata": {},
     "output_type": "execute_result"
    }
   ],
   "source": [
    "mean = Mean()\n",
    "\n",
    "for x in ticks.query('ticker == \"MSFT\"').price:\n",
    "    mean.update(x)\n",
    "    \n",
    "mean"
   ]
  },
  {
   "attachments": {},
   "cell_type": "markdown",
   "metadata": {},
   "source": [
    "**Question 🤔: how can we test this implementation is correct?**"
   ]
  },
  {
   "attachments": {},
   "cell_type": "markdown",
   "metadata": {},
   "source": [
    "## Variance\n",
    "\n",
    "The online variance can be implemented with [Welford's algorithm](https://jonisalonen.com/2013/deriving-welfords-method-for-computing-variance/).\n",
    "\n",
    "$$\n",
    "\\left\\{ \n",
    "    \\begin{array}{ll}\n",
    "m_0 = 0  \\\\\n",
    "v_0 = 0  \\\\\n",
    "s_0 = 0  \\\\\n",
    "m_{t+1} = m_t + \\frac{x - m_t}{t+1} \\\\\n",
    "s_{t+1} = s_t + (x - m_t)(x - m_{t+1}) \\\\\n",
    "v_{t+1} = \\frac{s_{t+1}}{t+1}\n",
    "\\end{array}\n",
    "\\right.\n",
    "$$"
   ]
  },
  {
   "cell_type": "code",
   "execution_count": 63,
   "metadata": {},
   "outputs": [
    {
     "data": {
      "text/plain": [
       "Variance(mean=Mean(n=505, value=229.89625256226788), sos=1355596.386266115, value=2684.349279734881)"
      ]
     },
     "execution_count": 63,
     "metadata": {},
     "output_type": "execute_result"
    }
   ],
   "source": [
    "from dataclasses import field\n",
    "\n",
    "@dataclass\n",
    "class Variance:\n",
    "    mean: Mean = field(default_factory=Mean)\n",
    "    sos: float = 0\n",
    "    value: float = 0\n",
    "\n",
    "    def update(self, x):\n",
    "        mean_old = self.mean.value\n",
    "        self.mean.update(x)\n",
    "        mean_new = self.mean.value\n",
    "        self.sos += (x - mean_old) * (x - mean_new)\n",
    "        self.value = self.sos / self.mean.n\n",
    "\n",
    "var = Variance()\n",
    "\n",
    "for x in ticks.query('ticker == \"MSFT\"').price:\n",
    "    var.update(x)\n",
    "\n",
    "var"
   ]
  },
  {
   "attachments": {},
   "cell_type": "markdown",
   "metadata": {},
   "source": [
    "**Question 🤔: although the output seems correct, what is the issue with the implementation?**"
   ]
  },
  {
   "cell_type": "code",
   "execution_count": 88,
   "metadata": {},
   "outputs": [
    {
     "data": {
      "text/plain": [
       "Variance(n=505, value=2684.3492797348804, mean=Mean(n=505, value=229.89625256226788))"
      ]
     },
     "execution_count": 88,
     "metadata": {},
     "output_type": "execute_result"
    }
   ],
   "source": [
    "@dataclass\n",
    "class Variance(Mean):\n",
    "    mean: Mean = field(default_factory=Mean)\n",
    "\n",
    "    def update(self, x):\n",
    "        mean_old = self.mean.value\n",
    "        self.mean.update(x)\n",
    "        mean_new = self.mean.value\n",
    "        super().update((x - mean_old) * (x - mean_new))\n",
    "\n",
    "var = Variance()\n",
    "\n",
    "for x in ticks.query('ticker == \"MSFT\"').price:\n",
    "    var.update(x)\n",
    "\n",
    "var"
   ]
  },
  {
   "attachments": {},
   "cell_type": "markdown",
   "metadata": {},
   "source": [
    "**Question 🤔: why is this implementation preferable?**"
   ]
  },
  {
   "attachments": {},
   "cell_type": "markdown",
   "metadata": {},
   "source": [
    "## Covariance"
   ]
  },
  {
   "cell_type": "code",
   "execution_count": 96,
   "metadata": {},
   "outputs": [
    {
     "data": {
      "text/plain": [
       "Covariance(n=505, value=1455.8528752664254, mean_x=Mean(n=505, value=99.0374940702231), mean_y=Mean(n=505, value=229.89625256226788))"
      ]
     },
     "execution_count": 96,
     "metadata": {},
     "output_type": "execute_result"
    }
   ],
   "source": [
    "@dataclass\n",
    "class Covariance(Mean):\n",
    "    mean_x: Mean = field(default_factory=Mean)\n",
    "    mean_y: Mean = field(default_factory=Mean)\n",
    "\n",
    "    def update(self, x, y):\n",
    "        dx = x - self.mean_x.value\n",
    "        self.mean_x.update(x)\n",
    "        self.mean_y.update(y)\n",
    "        super().update(dx * (y - self.mean_y.value))\n",
    "\n",
    "cov = Covariance()\n",
    "\n",
    "for _, tick in (\n",
    "    ticks\n",
    "    .query('ticker in (\"GOOGL\", \"MSFT\")')\n",
    "    .pivot(values='price', columns='ticker')\n",
    "    .iterrows()\n",
    "):\n",
    "    cov.update(tick.GOOGL, tick.MSFT)\n",
    "\n",
    "cov"
   ]
  },
  {
   "attachments": {},
   "cell_type": "markdown",
   "metadata": {},
   "source": [
    "## Pearson correlation"
   ]
  },
  {
   "cell_type": "code",
   "execution_count": 98,
   "metadata": {},
   "outputs": [
    {
     "data": {
      "text/plain": [
       "PearsonCorrelation(cov=Covariance(n=505, value=1455.8528752664254, mean_x=Mean(n=505, value=99.0374940702231), mean_y=Mean(n=505, value=229.89625256226788)), var_x=Variance(n=505, value=837.2064192106675, mean=Mean(n=505, value=99.0374940702231)), var_y=Variance(n=505, value=2684.3492797348804, mean=Mean(n=505, value=229.89625256226788)))"
      ]
     },
     "execution_count": 98,
     "metadata": {},
     "output_type": "execute_result"
    }
   ],
   "source": [
    "@dataclass\n",
    "class PearsonCorrelation:\n",
    "    cov: Covariance = field(default_factory=Covariance)\n",
    "    var_x: Variance = field(default_factory=Variance)\n",
    "    var_y: Variance = field(default_factory=Variance)\n",
    "\n",
    "    def update(self, x, y):\n",
    "        self.cov.update(x, y)\n",
    "        self.var_x.update(x)\n",
    "        self.var_y.update(y)\n",
    "\n",
    "    @property\n",
    "    def value(self):\n",
    "        return self.cov.value / (self.var_x.value * self.var_y.value) ** 0.5\n",
    "\n",
    "corr = PearsonCorrelation()\n",
    "\n",
    "for _, tick in (\n",
    "    ticks\n",
    "    .query('ticker in (\"GOOGL\", \"MSFT\")')\n",
    "    .pivot(values='price', columns='ticker')\n",
    "    .iterrows()\n",
    "):\n",
    "    corr.update(tick.GOOGL, tick.MSFT)\n",
    "\n",
    "corr "
   ]
  },
  {
   "cell_type": "code",
   "execution_count": 106,
   "metadata": {},
   "outputs": [
    {
     "data": {
      "text/plain": [
       "{'cov': {'n': 505,\n",
       "  'value': 1455.8528752664254,\n",
       "  'mean_x': {'n': 505, 'value': 99.0374940702231},\n",
       "  'mean_y': {'n': 505, 'value': 229.89625256226788}},\n",
       " 'var_x': {'n': 505,\n",
       "  'value': 837.2064192106675,\n",
       "  'mean': {'n': 505, 'value': 99.0374940702231}},\n",
       " 'var_y': {'n': 505,\n",
       "  'value': 2684.3492797348804,\n",
       "  'mean': {'n': 505, 'value': 229.89625256226788}}}"
      ]
     },
     "execution_count": 106,
     "metadata": {},
     "output_type": "execute_result"
    }
   ],
   "source": [
    "from dataclasses import asdict\n",
    "\n",
    "asdict(corr)"
   ]
  },
  {
   "attachments": {},
   "cell_type": "markdown",
   "metadata": {},
   "source": [
    "## Rolling mean\n",
    "\n",
    "Computing a statistic over a window of time is very useful. For the sake of simplicity, we will only implement rolling windows."
   ]
  },
  {
   "cell_type": "code",
   "execution_count": 110,
   "metadata": {},
   "outputs": [],
   "source": [
    "from collections import deque\n",
    "from typing import Protocol\n",
    "\n",
    "class Rollable(Protocol):\n",
    "\n",
    "    def update(self, x):\n",
    "        ...\n",
    "\n",
    "    def revert(self, x):\n",
    "        ...\n",
    "\n",
    "@dataclass\n",
    "class Rolling:\n",
    "    statistic: Rollable\n",
    "    window_size: int\n",
    "\n",
    "    def __post_init__(self):\n",
    "        self.window = deque(maxlen=self.window_size)\n",
    "\n",
    "    def update(self, x):\n",
    "        self.statistic.update(x)\n",
    "        if self.window.maxlen == len(self.window):\n",
    "            self.statistic.revert(self.window[0])\n",
    "        self.window.append(x)\n",
    "\n",
    "    @property\n",
    "    def value(self):\n",
    "        return self.statistic.value"
   ]
  },
  {
   "cell_type": "code",
   "execution_count": 112,
   "metadata": {},
   "outputs": [],
   "source": [
    "@dataclass\n",
    "class RollableMean(Mean):\n",
    "\n",
    "    def revert(self, x):\n",
    "        self.n -= 1\n",
    "        self.value -= (x - self.value) / self.n"
   ]
  },
  {
   "cell_type": "code",
   "execution_count": 120,
   "metadata": {},
   "outputs": [
    {
     "data": {
      "text/plain": [
       "Rolling(statistic=RollableMean(n=10, value=330.0904785156252), window_size=10)"
      ]
     },
     "execution_count": 120,
     "metadata": {},
     "output_type": "execute_result"
    }
   ],
   "source": [
    "rmean = Rolling(RollableMean(), 10)\n",
    "\n",
    "for x in ticks.query('ticker == \"MSFT\"').price:\n",
    "    rmean.update(x)\n",
    "    \n",
    "rmean"
   ]
  },
  {
   "cell_type": "code",
   "execution_count": 121,
   "metadata": {},
   "outputs": [
    {
     "data": {
      "text/plain": [
       "330.090478515625"
      ]
     },
     "execution_count": 121,
     "metadata": {},
     "output_type": "execute_result"
    }
   ],
   "source": [
    "ticks.query('ticker == \"MSFT\"').tail(10).price.mean()"
   ]
  },
  {
   "attachments": {},
   "cell_type": "markdown",
   "metadata": {},
   "source": [
    "## Using River\n",
    "\n",
    "It's nice to know how these online algorithms work. However, in practice you'll want to use an already existing library. In Python, there is [River](https://github.com/online-ml/river/):\n",
    "\n",
    "```sh\n",
    "pip install river\n",
    "```"
   ]
  },
  {
   "cell_type": "code",
   "execution_count": 123,
   "metadata": {},
   "outputs": [
    {
     "data": {
      "text/plain": [
       "Mean: 330.090479"
      ]
     },
     "execution_count": 123,
     "metadata": {},
     "output_type": "execute_result"
    }
   ],
   "source": [
    "from river import stats\n",
    "from river import utils\n",
    "\n",
    "rmean = utils.Rolling(stats.Mean(), 10)\n",
    "\n",
    "for x in ticks.query('ticker == \"MSFT\"').price:\n",
    "    rmean.update(x)\n",
    "    \n",
    "rmean"
   ]
  },
  {
   "attachments": {},
   "cell_type": "markdown",
   "metadata": {},
   "source": [
    "## Divide and conquer"
   ]
  },
  {
   "cell_type": "code",
   "execution_count": 132,
   "metadata": {},
   "outputs": [
    {
     "data": {
      "text/plain": [
       "Mean: 229.896253"
      ]
     },
     "execution_count": 132,
     "metadata": {},
     "output_type": "execute_result"
    }
   ],
   "source": [
    "A = stats.Mean()\n",
    "year = 2020\n",
    "for x in ticks.query('ticker == \"MSFT\" and Date.dt.year == @year').price:\n",
    "    A.update(x)\n",
    "    \n",
    "B = stats.Mean()\n",
    "year = 2021\n",
    "for x in ticks.query('ticker == \"MSFT\" and Date.dt.year == @year').price:\n",
    "    B.update(x)\n",
    "\n",
    "C = A + B\n",
    "C"
   ]
  },
  {
   "attachments": {},
   "cell_type": "markdown",
   "metadata": {},
   "source": [
    "**Question 🤔: what does this ability of merging statistics enable?**"
   ]
  },
  {
   "attachments": {},
   "cell_type": "markdown",
   "metadata": {},
   "source": [
    "## Slice and dice"
   ]
  },
  {
   "cell_type": "code",
   "execution_count": 138,
   "metadata": {},
   "outputs": [
    {
     "data": {
      "text/plain": [
       "AAPL     116.635108\n",
       "AMZN     150.585230\n",
       "GOOGL     99.037494\n",
       "MSFT     229.896253\n",
       "Name: price_mean_by_ticker, dtype: float64"
      ]
     },
     "execution_count": 138,
     "metadata": {},
     "output_type": "execute_result"
    }
   ],
   "source": [
    "from river import feature_extraction\n",
    "\n",
    "agg = feature_extraction.Agg(\n",
    "    on='price',\n",
    "    by='ticker',\n",
    "    how=stats.Mean()\n",
    ")\n",
    "\n",
    "for tick in ticks.to_dict('records'):\n",
    "    agg.learn_one(tick)\n",
    "\n",
    "agg.state"
   ]
  },
  {
   "cell_type": "code",
   "execution_count": 145,
   "metadata": {},
   "outputs": [],
   "source": [
    "from river import feature_extraction\n",
    "\n",
    "agg = (\n",
    "    feature_extraction.Agg(on='price', by='ticker', how=stats.Mean()) +\n",
    "    feature_extraction.Agg(on='price', by='ticker', how=stats.Var())\n",
    ")\n",
    "\n",
    "for tick in ticks.to_dict('records'):\n",
    "    agg.learn_one(tick)"
   ]
  },
  {
   "cell_type": "code",
   "execution_count": 146,
   "metadata": {},
   "outputs": [
    {
     "data": {
      "text/plain": [
       "AAPL     116.635108\n",
       "AMZN     150.585230\n",
       "GOOGL     99.037494\n",
       "MSFT     229.896253\n",
       "Name: price_mean_by_ticker, dtype: float64"
      ]
     },
     "execution_count": 146,
     "metadata": {},
     "output_type": "execute_result"
    }
   ],
   "source": [
    "agg[0].state"
   ]
  },
  {
   "cell_type": "code",
   "execution_count": 147,
   "metadata": {},
   "outputs": [
    {
     "data": {
      "text/plain": [
       "AAPL      868.475062\n",
       "AMZN      679.493151\n",
       "GOOGL     838.867543\n",
       "MSFT     2689.675370\n",
       "Name: price_var_by_ticker, dtype: float64"
      ]
     },
     "execution_count": 147,
     "metadata": {},
     "output_type": "execute_result"
    }
   ],
   "source": [
    "agg[1].state"
   ]
  },
  {
   "attachments": {},
   "cell_type": "markdown",
   "metadata": {},
   "source": [
    "## A/B testing application"
   ]
  },
  {
   "cell_type": "code",
   "execution_count": 3,
   "metadata": {},
   "outputs": [
    {
     "data": {
      "text/html": [
       "<div>\n",
       "<style scoped>\n",
       "    .dataframe tbody tr th:only-of-type {\n",
       "        vertical-align: middle;\n",
       "    }\n",
       "\n",
       "    .dataframe tbody tr th {\n",
       "        vertical-align: top;\n",
       "    }\n",
       "\n",
       "    .dataframe thead th {\n",
       "        text-align: right;\n",
       "    }\n",
       "</style>\n",
       "<table border=\"1\" class=\"dataframe\">\n",
       "  <thead>\n",
       "    <tr style=\"text-align: right;\">\n",
       "      <th></th>\n",
       "      <th>user_id</th>\n",
       "      <th>timestamp</th>\n",
       "      <th>group</th>\n",
       "      <th>landing_page</th>\n",
       "      <th>converted</th>\n",
       "    </tr>\n",
       "  </thead>\n",
       "  <tbody>\n",
       "    <tr>\n",
       "      <th>131228</th>\n",
       "      <td>922696</td>\n",
       "      <td>2017-01-02 13:42:05.378582</td>\n",
       "      <td>treatment</td>\n",
       "      <td>new_page</td>\n",
       "      <td>0</td>\n",
       "    </tr>\n",
       "    <tr>\n",
       "      <th>184884</th>\n",
       "      <td>781507</td>\n",
       "      <td>2017-01-02 13:42:15.234051</td>\n",
       "      <td>control</td>\n",
       "      <td>old_page</td>\n",
       "      <td>0</td>\n",
       "    </tr>\n",
       "    <tr>\n",
       "      <th>83878</th>\n",
       "      <td>737319</td>\n",
       "      <td>2017-01-02 13:42:21.786186</td>\n",
       "      <td>control</td>\n",
       "      <td>old_page</td>\n",
       "      <td>0</td>\n",
       "    </tr>\n",
       "    <tr>\n",
       "      <th>102717</th>\n",
       "      <td>818377</td>\n",
       "      <td>2017-01-02 13:42:26.640581</td>\n",
       "      <td>treatment</td>\n",
       "      <td>new_page</td>\n",
       "      <td>0</td>\n",
       "    </tr>\n",
       "    <tr>\n",
       "      <th>158789</th>\n",
       "      <td>725857</td>\n",
       "      <td>2017-01-02 13:42:27.851110</td>\n",
       "      <td>treatment</td>\n",
       "      <td>new_page</td>\n",
       "      <td>0</td>\n",
       "    </tr>\n",
       "  </tbody>\n",
       "</table>\n",
       "</div>"
      ],
      "text/plain": [
       "        user_id                   timestamp      group landing_page  converted\n",
       "131228   922696  2017-01-02 13:42:05.378582  treatment     new_page          0\n",
       "184884   781507  2017-01-02 13:42:15.234051    control     old_page          0\n",
       "83878    737319  2017-01-02 13:42:21.786186    control     old_page          0\n",
       "102717   818377  2017-01-02 13:42:26.640581  treatment     new_page          0\n",
       "158789   725857  2017-01-02 13:42:27.851110  treatment     new_page          0"
      ]
     },
     "execution_count": 3,
     "metadata": {},
     "output_type": "execute_result"
    }
   ],
   "source": [
    "import pandas as pd\n",
    "\n",
    "url = 'https://raw.githubusercontent.com/alenyeh1014/DataAnalytics-AB_Testing/master/DataFiles/ab_data.csv'\n",
    "events = pd.read_csv(url)\n",
    "events = events.sort_values(by='timestamp')\n",
    "events.head()"
   ]
  },
  {
   "cell_type": "code",
   "execution_count": 28,
   "metadata": {},
   "outputs": [
    {
     "data": {
      "text/plain": [
       "defaultdict(river.stats.mean.Mean,\n",
       "            {'treatment': Mean: 0.11892, 'control': Mean: 0.120399})"
      ]
     },
     "execution_count": 28,
     "metadata": {},
     "output_type": "execute_result"
    }
   ],
   "source": [
    "from collections import defaultdict\n",
    "from river import stats\n",
    "from river import stream\n",
    "\n",
    "conversion_rates = defaultdict(stats.Mean)\n",
    "\n",
    "for event, _ in stream.iter_pandas(events):\n",
    "    group = event['group']\n",
    "    converted = event['converted']\n",
    "    conversion_rates[group].update(converted)\n",
    "\n",
    "conversion_rates"
   ]
  },
  {
   "cell_type": "code",
   "execution_count": 29,
   "metadata": {},
   "outputs": [
    {
     "data": {
      "text/plain": [
       "(-0.003147450060250258, 0.5012556488313168)"
      ]
     },
     "execution_count": 29,
     "metadata": {},
     "output_type": "execute_result"
    }
   ],
   "source": [
    "import statsmodels.api as sm\n",
    "\n",
    "z_score, p_value = sm.stats.proportions_ztest(\n",
    "    [conversion_rates['treatment'].get(), conversion_rates['control'].get()],\n",
    "    [conversion_rates['treatment'].n, conversion_rates['control'].n],\n",
    "    alternative='larger'\n",
    ")\n",
    "z_score, p_value"
   ]
  },
  {
   "attachments": {},
   "cell_type": "markdown",
   "metadata": {},
   "source": [
    "**Question 🤔: what's the conclusion of this test?**\n",
    "\n",
    "We can also run the test at any point in time."
   ]
  },
  {
   "cell_type": "code",
   "execution_count": 33,
   "metadata": {},
   "outputs": [
    {
     "name": "stdout",
     "output_type": "stream",
     "text": [
      "At time 10000, p-value is 0.5017003797428943\n",
      "At time 20000, p-value is 0.5016591526314012\n",
      "At time 30000, p-value is 0.5036727980355485\n",
      "At time 40000, p-value is 0.502629111005679\n",
      "At time 50000, p-value is 0.50306104724114\n",
      "At time 60000, p-value is 0.5018889329631347\n",
      "At time 70000, p-value is 0.5020726098111026\n",
      "At time 80000, p-value is 0.5026496191551849\n",
      "At time 90000, p-value is 0.5017898097357284\n",
      "At time 100000, p-value is 0.5018808441436245\n",
      "At time 110000, p-value is 0.5007958908340566\n",
      "At time 120000, p-value is 0.5001146001610731\n",
      "At time 130000, p-value is 0.5004514720905143\n",
      "At time 140000, p-value is 0.5005564623588821\n",
      "At time 150000, p-value is 0.5009082052779854\n",
      "At time 160000, p-value is 0.501131267314793\n",
      "At time 170000, p-value is 0.5013340807415309\n",
      "At time 180000, p-value is 0.5014484061459883\n",
      "At time 190000, p-value is 0.5015544671976391\n",
      "At time 200000, p-value is 0.5014694245011267\n",
      "At time 210000, p-value is 0.5009732901851823\n",
      "At time 220000, p-value is 0.5010833884409136\n",
      "At time 230000, p-value is 0.5011256017499925\n",
      "At time 240000, p-value is 0.5012144158530043\n",
      "At time 250000, p-value is 0.5011221272021643\n",
      "At time 260000, p-value is 0.5012471799016949\n",
      "At time 270000, p-value is 0.5013564448607422\n",
      "At time 280000, p-value is 0.5013626328834699\n",
      "At time 290000, p-value is 0.5012866785584893\n"
     ]
    }
   ],
   "source": [
    "conversion_rates = defaultdict(stats.Mean)\n",
    "p_values = []\n",
    "\n",
    "for t, (event, _) in enumerate(stream.iter_pandas(events)):\n",
    "    group = event['group']\n",
    "    converted = event['converted']\n",
    "    conversion_rates[group].update(converted)\n",
    "    if t and t % 10_000 == 0:\n",
    "        _, p_value = sm.stats.proportions_ztest(\n",
    "            [conversion_rates['treatment'].get(), conversion_rates['control'].get()],\n",
    "            [conversion_rates['treatment'].n, conversion_rates['control'].n],\n",
    "            alternative='larger'\n",
    "        )\n",
    "        print(f'At time {t}, p-value is {p_value}')"
   ]
  },
  {
   "attachments": {},
   "cell_type": "markdown",
   "metadata": {},
   "source": [
    "**Question 🤔: what are the pros/cons of checking A/B test results before the test has ended?**\n",
    "\n",
    "**Question 🤔: how would we have done this with batch tools?**"
   ]
  }
 ],
 "metadata": {
  "kernelspec": {
   "display_name": "Python 3",
   "language": "python",
   "name": "python3"
  },
  "language_info": {
   "codemirror_mode": {
    "name": "ipython",
    "version": 3
   },
   "file_extension": ".py",
   "mimetype": "text/x-python",
   "name": "python",
   "nbconvert_exporter": "python",
   "pygments_lexer": "ipython3",
   "version": "3.11.0"
  },
  "orig_nbformat": 4,
  "vscode": {
   "interpreter": {
    "hash": "55fbbcf542e06cc59ad76a1e0d5dc36ee204d6d2b704491656ee6b3487310122"
   }
  }
 },
 "nbformat": 4,
 "nbformat_minor": 2
}
