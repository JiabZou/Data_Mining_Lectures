{
 "cells": [
  {
   "attachments": {},
   "cell_type": "markdown",
   "metadata": {},
   "source": [
    "# Online statistics\n",
    "\n",
    "## Mean"
   ]
  },
  {
   "attachments": {},
   "cell_type": "markdown",
   "metadata": {},
   "source": [
    "$$\n",
    "\\left\\{ \n",
    "    \\begin{array}{ll}\n",
    "m_0 = 0  \\\\\n",
    "m_{t+1} = m_t + \\frac{x - m_t}{t+1}\n",
    "\\end{array}\n",
    "\\right.\n",
    "$$"
   ]
  },
  {
   "attachments": {},
   "cell_type": "markdown",
   "metadata": {},
   "source": [
    "## Variance"
   ]
  },
  {
   "attachments": {},
   "cell_type": "markdown",
   "metadata": {},
   "source": [
    "## Pearson correlation"
   ]
  },
  {
   "attachments": {},
   "cell_type": "markdown",
   "metadata": {},
   "source": [
    "## Rolling mean"
   ]
  },
  {
   "attachments": {},
   "cell_type": "markdown",
   "metadata": {},
   "source": [
    "## Parallelism"
   ]
  },
  {
   "attachments": {},
   "cell_type": "markdown",
   "metadata": {},
   "source": [
    "## Aggregations"
   ]
  },
  {
   "attachments": {},
   "cell_type": "markdown",
   "metadata": {},
   "source": [
    "## A/B testing application"
   ]
  },
  {
   "cell_type": "code",
   "execution_count": 3,
   "metadata": {},
   "outputs": [
    {
     "data": {
      "text/html": [
       "<div>\n",
       "<style scoped>\n",
       "    .dataframe tbody tr th:only-of-type {\n",
       "        vertical-align: middle;\n",
       "    }\n",
       "\n",
       "    .dataframe tbody tr th {\n",
       "        vertical-align: top;\n",
       "    }\n",
       "\n",
       "    .dataframe thead th {\n",
       "        text-align: right;\n",
       "    }\n",
       "</style>\n",
       "<table border=\"1\" class=\"dataframe\">\n",
       "  <thead>\n",
       "    <tr style=\"text-align: right;\">\n",
       "      <th></th>\n",
       "      <th>user_id</th>\n",
       "      <th>timestamp</th>\n",
       "      <th>group</th>\n",
       "      <th>landing_page</th>\n",
       "      <th>converted</th>\n",
       "    </tr>\n",
       "  </thead>\n",
       "  <tbody>\n",
       "    <tr>\n",
       "      <th>131228</th>\n",
       "      <td>922696</td>\n",
       "      <td>2017-01-02 13:42:05.378582</td>\n",
       "      <td>treatment</td>\n",
       "      <td>new_page</td>\n",
       "      <td>0</td>\n",
       "    </tr>\n",
       "    <tr>\n",
       "      <th>184884</th>\n",
       "      <td>781507</td>\n",
       "      <td>2017-01-02 13:42:15.234051</td>\n",
       "      <td>control</td>\n",
       "      <td>old_page</td>\n",
       "      <td>0</td>\n",
       "    </tr>\n",
       "    <tr>\n",
       "      <th>83878</th>\n",
       "      <td>737319</td>\n",
       "      <td>2017-01-02 13:42:21.786186</td>\n",
       "      <td>control</td>\n",
       "      <td>old_page</td>\n",
       "      <td>0</td>\n",
       "    </tr>\n",
       "    <tr>\n",
       "      <th>102717</th>\n",
       "      <td>818377</td>\n",
       "      <td>2017-01-02 13:42:26.640581</td>\n",
       "      <td>treatment</td>\n",
       "      <td>new_page</td>\n",
       "      <td>0</td>\n",
       "    </tr>\n",
       "    <tr>\n",
       "      <th>158789</th>\n",
       "      <td>725857</td>\n",
       "      <td>2017-01-02 13:42:27.851110</td>\n",
       "      <td>treatment</td>\n",
       "      <td>new_page</td>\n",
       "      <td>0</td>\n",
       "    </tr>\n",
       "  </tbody>\n",
       "</table>\n",
       "</div>"
      ],
      "text/plain": [
       "        user_id                   timestamp      group landing_page  converted\n",
       "131228   922696  2017-01-02 13:42:05.378582  treatment     new_page          0\n",
       "184884   781507  2017-01-02 13:42:15.234051    control     old_page          0\n",
       "83878    737319  2017-01-02 13:42:21.786186    control     old_page          0\n",
       "102717   818377  2017-01-02 13:42:26.640581  treatment     new_page          0\n",
       "158789   725857  2017-01-02 13:42:27.851110  treatment     new_page          0"
      ]
     },
     "execution_count": 3,
     "metadata": {},
     "output_type": "execute_result"
    }
   ],
   "source": [
    "import pandas as pd\n",
    "\n",
    "url = 'https://raw.githubusercontent.com/alenyeh1014/DataAnalytics-AB_Testing/master/DataFiles/ab_data.csv'\n",
    "events = pd.read_csv(url)\n",
    "events = events.sort_values(by='timestamp')\n",
    "events.head()"
   ]
  },
  {
   "cell_type": "code",
   "execution_count": 28,
   "metadata": {},
   "outputs": [
    {
     "data": {
      "text/plain": [
       "defaultdict(river.stats.mean.Mean,\n",
       "            {'treatment': Mean: 0.11892, 'control': Mean: 0.120399})"
      ]
     },
     "execution_count": 28,
     "metadata": {},
     "output_type": "execute_result"
    }
   ],
   "source": [
    "from collections import defaultdict\n",
    "from river import stats\n",
    "from river import stream\n",
    "\n",
    "conversion_rates = defaultdict(stats.Mean)\n",
    "\n",
    "for event, _ in stream.iter_pandas(events):\n",
    "    group = event['group']\n",
    "    converted = event['converted']\n",
    "    conversion_rates[group].update(converted)\n",
    "\n",
    "conversion_rates"
   ]
  },
  {
   "cell_type": "code",
   "execution_count": 29,
   "metadata": {},
   "outputs": [
    {
     "data": {
      "text/plain": [
       "(-0.003147450060250258, 0.5012556488313168)"
      ]
     },
     "execution_count": 29,
     "metadata": {},
     "output_type": "execute_result"
    }
   ],
   "source": [
    "import statsmodels.api as sm\n",
    "\n",
    "z_score, p_value = sm.stats.proportions_ztest(\n",
    "    [conversion_rates['treatment'].get(), conversion_rates['control'].get()],\n",
    "    [conversion_rates['treatment'].n, conversion_rates['control'].n],\n",
    "    alternative='larger'\n",
    ")\n",
    "z_score, p_value"
   ]
  },
  {
   "attachments": {},
   "cell_type": "markdown",
   "metadata": {},
   "source": [
    "**Question 🤔: what's the conclusion of this test?**\n",
    "\n",
    "We can also run the test at any point in time."
   ]
  },
  {
   "cell_type": "code",
   "execution_count": 33,
   "metadata": {},
   "outputs": [
    {
     "name": "stdout",
     "output_type": "stream",
     "text": [
      "At time 10000, p-value is 0.5017003797428943\n",
      "At time 20000, p-value is 0.5016591526314012\n",
      "At time 30000, p-value is 0.5036727980355485\n",
      "At time 40000, p-value is 0.502629111005679\n",
      "At time 50000, p-value is 0.50306104724114\n",
      "At time 60000, p-value is 0.5018889329631347\n",
      "At time 70000, p-value is 0.5020726098111026\n",
      "At time 80000, p-value is 0.5026496191551849\n",
      "At time 90000, p-value is 0.5017898097357284\n",
      "At time 100000, p-value is 0.5018808441436245\n",
      "At time 110000, p-value is 0.5007958908340566\n",
      "At time 120000, p-value is 0.5001146001610731\n",
      "At time 130000, p-value is 0.5004514720905143\n",
      "At time 140000, p-value is 0.5005564623588821\n",
      "At time 150000, p-value is 0.5009082052779854\n",
      "At time 160000, p-value is 0.501131267314793\n",
      "At time 170000, p-value is 0.5013340807415309\n",
      "At time 180000, p-value is 0.5014484061459883\n",
      "At time 190000, p-value is 0.5015544671976391\n",
      "At time 200000, p-value is 0.5014694245011267\n",
      "At time 210000, p-value is 0.5009732901851823\n",
      "At time 220000, p-value is 0.5010833884409136\n",
      "At time 230000, p-value is 0.5011256017499925\n",
      "At time 240000, p-value is 0.5012144158530043\n",
      "At time 250000, p-value is 0.5011221272021643\n",
      "At time 260000, p-value is 0.5012471799016949\n",
      "At time 270000, p-value is 0.5013564448607422\n",
      "At time 280000, p-value is 0.5013626328834699\n",
      "At time 290000, p-value is 0.5012866785584893\n"
     ]
    }
   ],
   "source": [
    "conversion_rates = defaultdict(stats.Mean)\n",
    "p_values = []\n",
    "\n",
    "for t, (event, _) in enumerate(stream.iter_pandas(events)):\n",
    "    group = event['group']\n",
    "    converted = event['converted']\n",
    "    conversion_rates[group].update(converted)\n",
    "    if t and t % 10_000 == 0:\n",
    "        _, p_value = sm.stats.proportions_ztest(\n",
    "            [conversion_rates['treatment'].get(), conversion_rates['control'].get()],\n",
    "            [conversion_rates['treatment'].n, conversion_rates['control'].n],\n",
    "            alternative='larger'\n",
    "        )\n",
    "        print(f'At time {t}, p-value is {p_value}')"
   ]
  },
  {
   "attachments": {},
   "cell_type": "markdown",
   "metadata": {},
   "source": [
    "**Question 🤔: what are the pros/cons of checking A/B test results before the test has ended?**\n",
    "\n",
    "**Question 🤔: how would we have done this with batch tools?**"
   ]
  }
 ],
 "metadata": {
  "kernelspec": {
   "display_name": "Python 3",
   "language": "python",
   "name": "python3"
  },
  "language_info": {
   "codemirror_mode": {
    "name": "ipython",
    "version": 3
   },
   "file_extension": ".py",
   "mimetype": "text/x-python",
   "name": "python",
   "nbconvert_exporter": "python",
   "pygments_lexer": "ipython3",
   "version": "3.11.0"
  },
  "orig_nbformat": 4,
  "vscode": {
   "interpreter": {
    "hash": "55fbbcf542e06cc59ad76a1e0d5dc36ee204d6d2b704491656ee6b3487310122"
   }
  }
 },
 "nbformat": 4,
 "nbformat_minor": 2
}
