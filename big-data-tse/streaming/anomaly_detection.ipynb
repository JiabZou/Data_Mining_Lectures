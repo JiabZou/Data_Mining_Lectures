{
 "cells": [
  {
   "attachments": {},
   "cell_type": "markdown",
   "metadata": {},
   "source": [
    "# Streaming anomaly detection"
   ]
  },
  {
   "attachments": {},
   "cell_type": "markdown",
   "metadata": {},
   "source": [
    "**Question 🤔: what sets anomaly detection apart from other machine learning tasks?**"
   ]
  },
  {
   "cell_type": "code",
   "execution_count": null,
   "metadata": {},
   "outputs": [],
   "source": [
    "- Predict, then fit\n",
    "- Progressive validation\n",
    "    - See [this](https://maxhalford.github.io/blog/online-learning-evaluation/) for more"
   ]
  },
  {
   "cell_type": "code",
   "execution_count": null,
   "metadata": {},
   "outputs": [],
   "source": [
    ">>> from river import compose\n",
    "    >>> from river import datasets\n",
    "    >>> from river import metrics\n",
    "    >>> from river import preprocessing\n",
    "    >>> model = compose.Pipeline(\n",
    "    ...     preprocessing.MinMaxScaler(),\n",
    "    ...     anomaly.HalfSpaceTrees(seed=42)\n",
    "    ... )\n",
    "    >>> auc = metrics.ROCAUC()\n",
    "    >>> for x, y in datasets.CreditCard().take(2500):\n",
    "    ...     score = model.score_one(x)\n",
    "    ...     model = model.learn_one(x)\n",
    "    ...     auc = auc.update(y, score)\n",
    "    >>> auc\n",
    "    ROCAUC: 91.15%"
   ]
  },
  {
   "attachments": {},
   "cell_type": "markdown",
   "metadata": {},
   "source": [
    "## A supervised approach"
   ]
  },
  {
   "attachments": {},
   "cell_type": "markdown",
   "metadata": {},
   "source": [
    "https://riverml.xyz/0.15.0/examples/imbalanced-learning/"
   ]
  }
 ],
 "metadata": {
  "kernelspec": {
   "display_name": "Python 3",
   "language": "python",
   "name": "python3"
  },
  "language_info": {
   "name": "python",
   "version": "3.11.0"
  },
  "orig_nbformat": 4,
  "vscode": {
   "interpreter": {
    "hash": "55fbbcf542e06cc59ad76a1e0d5dc36ee204d6d2b704491656ee6b3487310122"
   }
  }
 },
 "nbformat": 4,
 "nbformat_minor": 2
}
