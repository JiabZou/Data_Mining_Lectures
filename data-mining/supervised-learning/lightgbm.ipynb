{
 "cells": [
  {
   "cell_type": "code",
   "execution_count": null,
   "metadata": {},
   "outputs": [],
   "source": [
    "https://mlcourse.ai/book/topic10/topic10_gradient_boosting.html\n",
    "http://nicolas-hug.com/pres_scipy_2019/#1\n",
    "https://nicolas-hug.com/blog/gradient_boosting_descent#wait-what\n",
    "https://inria.github.io/scikit-learn-mooc/python_scripts/parameter_tuning_manual.html\n",
    "\n",
    "- Early stopping\n",
    "- Cross-validation\n",
    "- Hyperameter tuning\n",
    "- Feature importance\n"
   ]
  },
  {
   "cell_type": "markdown",
   "metadata": {},
   "source": [
    "Final function"
   ]
  },
  {
   "cell_type": "markdown",
   "metadata": {},
   "source": [
    "Lab: apply this to a Kaggle competition"
   ]
  }
 ],
 "metadata": {
  "language_info": {
   "name": "python"
  }
 },
 "nbformat": 4,
 "nbformat_minor": 2
}
