{
 "cells": [
  {
   "cell_type": "markdown",
   "metadata": {},
   "source": [
    "- https://www.kaggle.com/code/prashant111/lightgbm-classifier-in-python"
   ]
  },
  {
   "cell_type": "code",
   "execution_count": 1,
   "metadata": {},
   "outputs": [
    {
     "data": {
      "text/html": [
       "<div>\n",
       "<style scoped>\n",
       "    .dataframe tbody tr th:only-of-type {\n",
       "        vertical-align: middle;\n",
       "    }\n",
       "\n",
       "    .dataframe tbody tr th {\n",
       "        vertical-align: top;\n",
       "    }\n",
       "\n",
       "    .dataframe thead th {\n",
       "        text-align: right;\n",
       "    }\n",
       "</style>\n",
       "<table border=\"1\" class=\"dataframe\">\n",
       "  <thead>\n",
       "    <tr style=\"text-align: right;\">\n",
       "      <th></th>\n",
       "      <th>id</th>\n",
       "      <th>pickup_datetime</th>\n",
       "      <th>trip_duration</th>\n",
       "      <th>l1_distance</th>\n",
       "      <th>l2_distance</th>\n",
       "      <th>hour</th>\n",
       "      <th>weekday</th>\n",
       "      <th>avg_duration_per_hour_recent</th>\n",
       "      <th>avg_duration_per_weekday_recent</th>\n",
       "      <th>avg_duration_recent</th>\n",
       "      <th>pickup_cell_id</th>\n",
       "      <th>dropoff_cell_id</th>\n",
       "      <th>avg_duration_per_cell_pair</th>\n",
       "      <th>avg_duration_per_hour_per_cell_pair</th>\n",
       "      <th>avg_duration_per_weekday_per_cell_pair</th>\n",
       "    </tr>\n",
       "  </thead>\n",
       "  <tbody>\n",
       "    <tr>\n",
       "      <th>0</th>\n",
       "      <td>id0190469</td>\n",
       "      <td>2016-01-01 00:00:17</td>\n",
       "      <td>849</td>\n",
       "      <td>0.152939</td>\n",
       "      <td>0.118097</td>\n",
       "      <td>0</td>\n",
       "      <td>5</td>\n",
       "      <td>NaN</td>\n",
       "      <td>NaN</td>\n",
       "      <td>NaN</td>\n",
       "      <td>2-7</td>\n",
       "      <td>6-18</td>\n",
       "      <td>NaN</td>\n",
       "      <td>NaN</td>\n",
       "      <td>NaN</td>\n",
       "    </tr>\n",
       "    <tr>\n",
       "      <th>1</th>\n",
       "      <td>id1665586</td>\n",
       "      <td>2016-01-01 00:00:53</td>\n",
       "      <td>1294</td>\n",
       "      <td>0.056721</td>\n",
       "      <td>0.040151</td>\n",
       "      <td>0</td>\n",
       "      <td>5</td>\n",
       "      <td>849.000000</td>\n",
       "      <td>849.000000</td>\n",
       "      <td>849.000000</td>\n",
       "      <td>2-10</td>\n",
       "      <td>4-7</td>\n",
       "      <td>NaN</td>\n",
       "      <td>NaN</td>\n",
       "      <td>NaN</td>\n",
       "    </tr>\n",
       "    <tr>\n",
       "      <th>2</th>\n",
       "      <td>id1210365</td>\n",
       "      <td>2016-01-01 00:01:01</td>\n",
       "      <td>408</td>\n",
       "      <td>0.031929</td>\n",
       "      <td>0.022726</td>\n",
       "      <td>0</td>\n",
       "      <td>5</td>\n",
       "      <td>1071.500000</td>\n",
       "      <td>1071.500000</td>\n",
       "      <td>1071.500000</td>\n",
       "      <td>4-15</td>\n",
       "      <td>5-17</td>\n",
       "      <td>NaN</td>\n",
       "      <td>NaN</td>\n",
       "      <td>NaN</td>\n",
       "    </tr>\n",
       "    <tr>\n",
       "      <th>3</th>\n",
       "      <td>id3888279</td>\n",
       "      <td>2016-01-01 00:01:14</td>\n",
       "      <td>280</td>\n",
       "      <td>0.010040</td>\n",
       "      <td>0.009103</td>\n",
       "      <td>0</td>\n",
       "      <td>5</td>\n",
       "      <td>850.333333</td>\n",
       "      <td>850.333333</td>\n",
       "      <td>850.333333</td>\n",
       "      <td>2-10</td>\n",
       "      <td>2-10</td>\n",
       "      <td>NaN</td>\n",
       "      <td>NaN</td>\n",
       "      <td>NaN</td>\n",
       "    </tr>\n",
       "    <tr>\n",
       "      <th>4</th>\n",
       "      <td>id0924227</td>\n",
       "      <td>2016-01-01 00:01:20</td>\n",
       "      <td>736</td>\n",
       "      <td>0.036060</td>\n",
       "      <td>0.025557</td>\n",
       "      <td>0</td>\n",
       "      <td>5</td>\n",
       "      <td>707.750000</td>\n",
       "      <td>707.750000</td>\n",
       "      <td>707.750000</td>\n",
       "      <td>3-11</td>\n",
       "      <td>2-10</td>\n",
       "      <td>NaN</td>\n",
       "      <td>NaN</td>\n",
       "      <td>NaN</td>\n",
       "    </tr>\n",
       "  </tbody>\n",
       "</table>\n",
       "</div>"
      ],
      "text/plain": [
       "          id     pickup_datetime  trip_duration  l1_distance  l2_distance  \\\n",
       "0  id0190469 2016-01-01 00:00:17            849     0.152939     0.118097   \n",
       "1  id1665586 2016-01-01 00:00:53           1294     0.056721     0.040151   \n",
       "2  id1210365 2016-01-01 00:01:01            408     0.031929     0.022726   \n",
       "3  id3888279 2016-01-01 00:01:14            280     0.010040     0.009103   \n",
       "4  id0924227 2016-01-01 00:01:20            736     0.036060     0.025557   \n",
       "\n",
       "  hour weekday  avg_duration_per_hour_recent  avg_duration_per_weekday_recent  \\\n",
       "0    0       5                           NaN                              NaN   \n",
       "1    0       5                    849.000000                       849.000000   \n",
       "2    0       5                   1071.500000                      1071.500000   \n",
       "3    0       5                    850.333333                       850.333333   \n",
       "4    0       5                    707.750000                       707.750000   \n",
       "\n",
       "   avg_duration_recent pickup_cell_id dropoff_cell_id  \\\n",
       "0                  NaN            2-7            6-18   \n",
       "1           849.000000           2-10             4-7   \n",
       "2          1071.500000           4-15            5-17   \n",
       "3           850.333333           2-10            2-10   \n",
       "4           707.750000           3-11            2-10   \n",
       "\n",
       "   avg_duration_per_cell_pair  avg_duration_per_hour_per_cell_pair  \\\n",
       "0                         NaN                                  NaN   \n",
       "1                         NaN                                  NaN   \n",
       "2                         NaN                                  NaN   \n",
       "3                         NaN                                  NaN   \n",
       "4                         NaN                                  NaN   \n",
       "\n",
       "   avg_duration_per_weekday_per_cell_pair  \n",
       "0                                     NaN  \n",
       "1                                     NaN  \n",
       "2                                     NaN  \n",
       "3                                     NaN  \n",
       "4                                     NaN  "
      ]
     },
     "execution_count": 1,
     "metadata": {},
     "output_type": "execute_result"
    }
   ],
   "source": [
    "import pandas as pd\n",
    "\n",
    "dataset = pd.read_pickle('../../data/taxi_trip_dataset.pkl')\n",
    "dataset.head()\n"
   ]
  },
  {
   "cell_type": "markdown",
   "metadata": {},
   "source": [
    "## Why LightGBM?"
   ]
  },
  {
   "cell_type": "markdown",
   "metadata": {},
   "source": [
    "- Tree boosting works well:\n",
    "    - Trees usually work well on tabular data\n",
    "      - [Why do tree-based models still outperform deep learning on tabular data?](https://arxiv.org/abs/2207.08815)\n",
    "      - [When Do Neural Nets Outperform Boosted Trees on Tabular Data?](https://arxiv.org/abs/2305.02997)\n",
    "      - [Machine Learning Challenge Winning Solutions](https://github.com/microsoft/LightGBM/tree/master/examples#machine-learning-challenge-winning-solutions)\n",
    "    - Not that many parameters to tune:\n",
    "      - Tree height\n",
    "      - Number of trees\n",
    "      - Learning rate\n",
    "- Added benefits of LightGBM:\n",
    "    - Fast\n",
    "    - Supports categorical variables\n",
    "    - Handles missing data\n",
    "    - Can output prediction intervals\n",
    "    - No need to do feature selection\n",
    "    - Provides feature importance\n",
    "    - Works for regression, classification, ranking"
   ]
  },
  {
   "cell_type": "markdown",
   "metadata": {},
   "source": [
    "## Cross-validation"
   ]
  },
  {
   "cell_type": "markdown",
   "metadata": {},
   "source": [
    "## Early stopping"
   ]
  },
  {
   "cell_type": "markdown",
   "metadata": {},
   "source": [
    "## Hyperameter tuning"
   ]
  },
  {
   "cell_type": "markdown",
   "metadata": {},
   "source": [
    "## Feature importance"
   ]
  },
  {
   "cell_type": "markdown",
   "metadata": {},
   "source": [
    "## Quantiles\n",
    "\n",
    "LightGBM can optimize different loss functions."
   ]
  }
 ],
 "metadata": {
  "kernelspec": {
   "display_name": "Python 3",
   "language": "python",
   "name": "python3"
  },
  "language_info": {
   "codemirror_mode": {
    "name": "ipython",
    "version": 3
   },
   "file_extension": ".py",
   "mimetype": "text/x-python",
   "name": "python",
   "nbconvert_exporter": "python",
   "pygments_lexer": "ipython3",
   "version": "3.11.0"
  }
 },
 "nbformat": 4,
 "nbformat_minor": 2
}
