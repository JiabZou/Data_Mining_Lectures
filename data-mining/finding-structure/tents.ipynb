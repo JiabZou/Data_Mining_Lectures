{
 "cells": [
  {
   "cell_type": "code",
   "execution_count": null,
   "metadata": {},
   "outputs": [],
   "source": [
    "https://www.decathlon.fr/browse/c0-tous-les-sports/c1-camping-bivouac/c2-tentes-et-abris/_/N-1gat5l5"
   ]
  }
 ],
 "metadata": {
  "language_info": {
   "name": "python"
  },
  "orig_nbformat": 4
 },
 "nbformat": 4,
 "nbformat_minor": 2
}
