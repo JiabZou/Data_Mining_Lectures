{
 "cells": [
  {
   "cell_type": "markdown",
   "metadata": {},
   "source": [
    "# Anomaly detection through PCA\n",
    "\n",
    "https://chat.openai.com/share/f537f1b7-d5c0-4d1a-b383-8549a606e655"
   ]
  },
  {
   "cell_type": "code",
   "execution_count": 31,
   "metadata": {},
   "outputs": [
    {
     "data": {
      "text/plain": [
       "(70000, 784)"
      ]
     },
     "execution_count": 31,
     "metadata": {},
     "output_type": "execute_result"
    }
   ],
   "source": [
    "from sklearn import datasets\n",
    "\n",
    "X, y = datasets.fetch_openml('mnist_784', version=1, return_X_y=True, parser='auto')\n",
    "X.shape\n"
   ]
  },
  {
   "cell_type": "code",
   "execution_count": 33,
   "metadata": {},
   "outputs": [],
   "source": [
    "from sklearn import decomposition\n",
    "\n",
    "pca = decomposition.PCA(n_components=20)\n",
    "pca.fit(X)\n",
    "X_projected = pca.transform(X)\n",
    "X_reconstructed = pca.inverse_transform(X_projected)\n"
   ]
  },
  {
   "cell_type": "code",
   "execution_count": 36,
   "metadata": {},
   "outputs": [
    {
     "data": {
      "text/html": [
       "<div>\n",
       "<style scoped>\n",
       "    .dataframe tbody tr th:only-of-type {\n",
       "        vertical-align: middle;\n",
       "    }\n",
       "\n",
       "    .dataframe tbody tr th {\n",
       "        vertical-align: top;\n",
       "    }\n",
       "\n",
       "    .dataframe thead th {\n",
       "        text-align: right;\n",
       "    }\n",
       "</style>\n",
       "<table border=\"1\" class=\"dataframe\">\n",
       "  <thead>\n",
       "    <tr style=\"text-align: right;\">\n",
       "      <th></th>\n",
       "      <th>label</th>\n",
       "      <th>residual</th>\n",
       "    </tr>\n",
       "  </thead>\n",
       "  <tbody>\n",
       "    <tr>\n",
       "      <th>0</th>\n",
       "      <td>4</td>\n",
       "      <td>1149.702991</td>\n",
       "    </tr>\n",
       "    <tr>\n",
       "      <th>1</th>\n",
       "      <td>4</td>\n",
       "      <td>839.617518</td>\n",
       "    </tr>\n",
       "    <tr>\n",
       "      <th>2</th>\n",
       "      <td>4</td>\n",
       "      <td>1142.337521</td>\n",
       "    </tr>\n",
       "    <tr>\n",
       "      <th>3</th>\n",
       "      <td>4</td>\n",
       "      <td>735.267536</td>\n",
       "    </tr>\n",
       "    <tr>\n",
       "      <th>4</th>\n",
       "      <td>4</td>\n",
       "      <td>881.670798</td>\n",
       "    </tr>\n",
       "  </tbody>\n",
       "</table>\n",
       "</div>"
      ],
      "text/plain": [
       "  label     residual\n",
       "0     4  1149.702991\n",
       "1     4   839.617518\n",
       "2     4  1142.337521\n",
       "3     4   735.267536\n",
       "4     4   881.670798"
      ]
     },
     "execution_count": 36,
     "metadata": {},
     "output_type": "execute_result"
    }
   ],
   "source": [
    "import numpy as np\n",
    "import pandas as pd\n",
    "\n",
    "residuals = np.linalg.norm(X - X_reconstructed, ord=2, axis=1)\n",
    "residuals = pd.DataFrame({\n",
    "    'label': '4',\n",
    "    'residual': residuals\n",
    "})\n",
    "residuals.head()\n"
   ]
  },
  {
   "cell_type": "markdown",
   "metadata": {},
   "source": [
    "We can now look at the samples with the largest reconstruction error (or the smallest)."
   ]
  },
  {
   "cell_type": "code",
   "execution_count": 40,
   "metadata": {},
   "outputs": [
    {
     "data": {
      "text/html": [
       "<div>\n",
       "<style scoped>\n",
       "    .dataframe tbody tr th:only-of-type {\n",
       "        vertical-align: middle;\n",
       "    }\n",
       "\n",
       "    .dataframe tbody tr th {\n",
       "        vertical-align: top;\n",
       "    }\n",
       "\n",
       "    .dataframe thead th {\n",
       "        text-align: right;\n",
       "    }\n",
       "</style>\n",
       "<table border=\"1\" class=\"dataframe\">\n",
       "  <thead>\n",
       "    <tr style=\"text-align: right;\">\n",
       "      <th></th>\n",
       "      <th>label</th>\n",
       "      <th>residual</th>\n",
       "    </tr>\n",
       "  </thead>\n",
       "  <tbody>\n",
       "    <tr>\n",
       "      <th>5947</th>\n",
       "      <td>4</td>\n",
       "      <td>531.099772</td>\n",
       "    </tr>\n",
       "    <tr>\n",
       "      <th>5616</th>\n",
       "      <td>4</td>\n",
       "      <td>551.846873</td>\n",
       "    </tr>\n",
       "    <tr>\n",
       "      <th>517</th>\n",
       "      <td>4</td>\n",
       "      <td>552.915888</td>\n",
       "    </tr>\n",
       "    <tr>\n",
       "      <th>1118</th>\n",
       "      <td>4</td>\n",
       "      <td>554.701057</td>\n",
       "    </tr>\n",
       "    <tr>\n",
       "      <th>6419</th>\n",
       "      <td>4</td>\n",
       "      <td>557.442401</td>\n",
       "    </tr>\n",
       "  </tbody>\n",
       "</table>\n",
       "</div>"
      ],
      "text/plain": [
       "     label    residual\n",
       "5947     4  531.099772\n",
       "5616     4  551.846873\n",
       "517      4  552.915888\n",
       "1118     4  554.701057\n",
       "6419     4  557.442401"
      ]
     },
     "execution_count": 40,
     "metadata": {},
     "output_type": "execute_result"
    }
   ],
   "source": [
    "top_images\n"
   ]
  },
  {
   "cell_type": "code",
   "execution_count": 42,
   "metadata": {},
   "outputs": [
    {
     "ename": "IndexError",
     "evalue": "too many indices for array: array is 1-dimensional, but 2 were indexed",
     "output_type": "error",
     "traceback": [
      "\u001b[0;31m---------------------------------------------------------------------------\u001b[0m",
      "\u001b[0;31mIndexError\u001b[0m                                Traceback (most recent call last)",
      "\u001b[1;32m/Users/max/projects/data-science-tutorials/data-mining/finding-structure/pca-anomaly-detection.ipynb Cell 9\u001b[0m line \u001b[0;36m3\n\u001b[1;32m     <a href='vscode-notebook-cell:/Users/max/projects/data-science-tutorials/data-mining/finding-structure/pca-anomaly-detection.ipynb#X14sZmlsZQ%3D%3D?line=33'>34</a>\u001b[0m \u001b[39m# Set the title for each row\u001b[39;00m\n\u001b[1;32m     <a href='vscode-notebook-cell:/Users/max/projects/data-science-tutorials/data-mining/finding-structure/pca-anomaly-detection.ipynb#X14sZmlsZQ%3D%3D?line=34'>35</a>\u001b[0m \u001b[39mfor\u001b[39;00m i, label \u001b[39min\u001b[39;00m \u001b[39menumerate\u001b[39m(unique_labels):\n\u001b[0;32m---> <a href='vscode-notebook-cell:/Users/max/projects/data-science-tutorials/data-mining/finding-structure/pca-anomaly-detection.ipynb#X14sZmlsZQ%3D%3D?line=35'>36</a>\u001b[0m     axs[i, \u001b[39m0\u001b[39;49m]\u001b[39m.\u001b[39mset_ylabel(\u001b[39mf\u001b[39m\u001b[39m'\u001b[39m\u001b[39mLabel \u001b[39m\u001b[39m{\u001b[39;00mlabel\u001b[39m}\u001b[39;00m\u001b[39m'\u001b[39m, rotation\u001b[39m=\u001b[39m\u001b[39m0\u001b[39m, labelpad\u001b[39m=\u001b[39m\u001b[39m35\u001b[39m, fontsize\u001b[39m=\u001b[39m\u001b[39m12\u001b[39m)\n\u001b[1;32m     <a href='vscode-notebook-cell:/Users/max/projects/data-science-tutorials/data-mining/finding-structure/pca-anomaly-detection.ipynb#X14sZmlsZQ%3D%3D?line=37'>38</a>\u001b[0m plt\u001b[39m.\u001b[39mshow()\n",
      "\u001b[0;31mIndexError\u001b[0m: too many indices for array: array is 1-dimensional, but 2 were indexed"
     ]
    },
    {
     "data": {
      "image/png": "[encoded data removed]",
      "text/plain": [
       "<Figure size 1200x1200 with 5 Axes>"
      ]
     },
     "metadata": {},
     "output_type": "display_data"
    }
   ],
   "source": [
    "import matplotlib.pyplot as plt\n",
    "import numpy as np\n",
    "\n",
    "# Define the number of images to display for each label\n",
    "num_images_per_label = 5\n",
    "\n",
    "# Create a list of unique labels\n",
    "unique_labels = np.unique(y)\n",
    "\n",
    "# Create a subplot for each label\n",
    "fig, axs = plt.subplots(len(unique_labels), num_images_per_label, figsize=(12, 12))\n",
    "\n",
    "for i, label in enumerate(unique_labels):\n",
    "    # Select the rows with the current label and sort by residual\n",
    "    # Use nsmallest to look at smallest reconstruction errors\n",
    "    top_images = residuals.query(f'label == \"{label}\"').nlargest(num_images_per_label, 'residual')\n",
    "\n",
    "    for j in range(num_images_per_label):\n",
    "        # Get the image index from the top_images DataFrame\n",
    "        image_index = top_images.index[j]\n",
    "\n",
    "        # Reshape and plot the image\n",
    "        image = X.iloc[image_index].values.reshape(28, 28)\n",
    "        axs[i, j].imshow(image, cmap='gray')\n",
    "        axs[i, j].axis('off')\n",
    "\n",
    "        # Set the title to show the residual\n",
    "        residual = top_images['residual'].values[j]\n",
    "        axs[i, j].set_title(f'Residual: {residual:.2f}')\n",
    "\n",
    "# Adjust spacing between subplots for better visualization\n",
    "plt.tight_layout()\n",
    "\n",
    "# Set the title for each row\n",
    "for i, label in enumerate(unique_labels):\n",
    "    axs[i, 0].set_ylabel(f'Label {label}', rotation=0, labelpad=35, fontsize=12)\n",
    "\n",
    "plt.show()\n"
   ]
  },
  {
   "cell_type": "code",
   "execution_count": null,
   "metadata": {},
   "outputs": [],
   "source": []
  },
  {
   "cell_type": "code",
   "execution_count": null,
   "metadata": {},
   "outputs": [],
   "source": []
  }
 ],
 "metadata": {
  "kernelspec": {
   "display_name": "Python 3",
   "language": "python",
   "name": "python3"
  },
  "language_info": {
   "codemirror_mode": {
    "name": "ipython",
    "version": 3
   },
   "file_extension": ".py",
   "mimetype": "text/x-python",
   "name": "python",
   "nbconvert_exporter": "python",
   "pygments_lexer": "ipython3",
   "version": "3.11.0"
  }
 },
 "nbformat": 4,
 "nbformat_minor": 2
}
