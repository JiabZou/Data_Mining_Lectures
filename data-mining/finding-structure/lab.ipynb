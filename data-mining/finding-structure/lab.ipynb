{
 "cells": [
  {
   "cell_type": "markdown",
   "metadata": {},
   "source": [
    "# Lab: analyzing tents data\n",
    "\n",
    "## Data extraction\n",
    "\n",
    "Let's fetch data from Decathlon. We'll do it in two phases. First, we'll make a list of all the tents they have. Then, we'll fetch the data for each tent.\n",
    "\n",
    "Let's start by listing the tents they have."
   ]
  },
  {
   "cell_type": "code",
   "execution_count": 37,
   "metadata": {},
   "outputs": [],
   "source": [
    "import json\n",
    "import re\n",
    "import bs4\n",
    "import requests\n",
    "\n",
    "url = 'https://www.decathlon.fr/tous-les-sports/camping-bivouac/tentes-et-abris'\n",
    "response = requests.get(url)\n",
    "soup = bs4.BeautifulSoup(response.content, 'html.parser')\n",
    "script_tag = soup.find('script', id='__dkt')\n",
    "raw_json = re.search(r'{(.+)}', script_tag.string).group(0)\n",
    "data = json.loads(raw_json)\n"
   ]
  },
  {
   "cell_type": "markdown",
   "metadata": {},
   "source": [
    "Here's a tool explore the JSON: https://jsonhero.io/j/VTrWj5vx53Ys\n",
    "\n",
    "The data is quite deeply nested, but it's not difficult to extract:"
   ]
  },
  {
   "cell_type": "code",
   "execution_count": 38,
   "metadata": {},
   "outputs": [],
   "source": [
    "# Note: if the following doesn't work, try modifying the index. It's possible that Decathlon has changed the structure of the page.\n",
    "idx = 6\n",
    "tents = {\n",
    "    item['webLabel']: f\"https://www.decathlon.fr/{item['url']}\"\n",
    "    for item in data['_ctx']['data'][idx]['data']['blocks']['items']\n",
    "}\n"
   ]
  },
  {
   "cell_type": "markdown",
   "metadata": {},
   "source": [
    "So now we have a URL for each tent. Let's grab some data for the first tent."
   ]
  },
  {
   "cell_type": "code",
   "execution_count": 23,
   "metadata": {},
   "outputs": [],
   "source": [
    "url = tents['Tente de camping - MH100 - 2 places']\n",
    "response = requests.get(url)\n",
    "soup = bs4.BeautifulSoup(response.content, 'html.parser')\n",
    "script_tag = soup.find('script', id='__dkt')\n",
    "raw_json = re.search(r'{(.+)}', script_tag.string).group(0)\n",
    "data = json.loads(raw_json)\n"
   ]
  },
  {
   "cell_type": "markdown",
   "metadata": {},
   "source": [
    "This JSON can be explored here: https://jsonhero.io/j/QeKMElLudiaA"
   ]
  },
  {
   "cell_type": "code",
   "execution_count": 24,
   "metadata": {},
   "outputs": [
    {
     "data": {
      "text/plain": [
       "{'rating': 4.45,\n",
       " 'price': 30,\n",
       " 'weight': '2.6',\n",
       " 'composition': 'Tissu principal\\n75% Polyester, 25% Polyéthylène\\nArceau\\n100% Fibre de verre',\n",
       " 'packed_size': 'Dimensions de la housse : 58cm x 16cm x 16cm / 15 L. Poids : 2,6 kg',\n",
       " 'size': 'Chambre 130 X 210 cm. (2 couchages de 65cm) Hauteur max. utile : 107 cm'}"
      ]
     },
     "execution_count": 24,
     "metadata": {},
     "output_type": "execute_result"
    }
   ],
   "source": [
    "benefits = {\n",
    "    b['label']: b\n",
    "    for b in data['_ctx']['data'][10]['data']['benefits']\n",
    "}\n",
    "{\n",
    "    'rating': data['_ctx']['data'][4]['data']['reviews']['notation'],\n",
    "    'price': data['_ctx']['data'][4]['data']['models'][0]['price'],\n",
    "    'weight': data['_ctx']['data'][4]['data']['models'][0]['grossWeight'],\n",
    "    'composition': data['_ctx']['data'][4]['data']['models'][0]['composition'],\n",
    "    'packed_size': benefits['Facilité de transport']['value'],\n",
    "    'size': benefits['Habitabilité']['value']\n",
    "}\n"
   ]
  },
  {
   "cell_type": "markdown",
   "metadata": {},
   "source": [
    "Ok great, we can extract data for a single tent. Now let's do it for all of them!\n",
    "\n",
    "First, let's list all the tents."
   ]
  },
  {
   "cell_type": "code",
   "execution_count": 39,
   "metadata": {},
   "outputs": [
    {
     "name": "stderr",
     "output_type": "stream",
     "text": [
      "  0%|          | 0/11 [00:00<?, ?it/s]"
     ]
    },
    {
     "name": "stderr",
     "output_type": "stream",
     "text": [
      "100%|██████████| 11/11 [00:10<00:00,  1.08it/s]"
     ]
    },
    {
     "name": "stdout",
     "output_type": "stream",
     "text": [
      "Number of tents: 379\n"
     ]
    },
    {
     "name": "stderr",
     "output_type": "stream",
     "text": [
      "\n"
     ]
    }
   ],
   "source": [
    "from tqdm import tqdm\n",
    "\n",
    "tents_urls = {}\n",
    "\n",
    "def get_page_content_from_decathlon_url(url):\n",
    "    response = requests.get(url)\n",
    "    soup = bs4.BeautifulSoup(response.content, 'html.parser')\n",
    "    script_tag = soup.find('script', id='__dkt')\n",
    "    raw_json = re.search(r'{(.+)}', script_tag.string).group(0)\n",
    "    return json.loads(raw_json)\n",
    "\n",
    "for page in tqdm(range(11)):\n",
    "    url = f'https://www.decathlon.fr/tous-les-sports/camping-bivouac/tentes-et-abris?from={40 * page}&size={40}'\n",
    "    data = get_page_content_from_decathlon_url(url)\n",
    "    tents_urls.update({\n",
    "        item['webLabel']: f\"https://www.decathlon.fr/{item['url']}\"\n",
    "        for item in data['_ctx']['data'][idx]['data']['blocks']['items']\n",
    "    })\n",
    "\n",
    "print(f'Number of tents: {len(tents_urls)}')\n"
   ]
  },
  {
   "cell_type": "markdown",
   "metadata": {},
   "source": [
    "Now we can fetch the data for each tent. There's a lot of tents, so we'll speed things by applying concurrency. We'll use Python's `concurrent.futures` module to do this."
   ]
  },
  {
   "cell_type": "code",
   "execution_count": 29,
   "metadata": {},
   "outputs": [
    {
     "name": "stderr",
     "output_type": "stream",
     "text": [
      "100%|██████████| 379/379 [00:41<00:00,  9.24it/s]\n"
     ]
    },
    {
     "data": {
      "text/plain": [
       "379"
      ]
     },
     "execution_count": 29,
     "metadata": {},
     "output_type": "execute_result"
    }
   ],
   "source": [
    "from concurrent.futures import ThreadPoolExecutor, as_completed\n",
    "\n",
    "tents_raw_data = {}\n",
    "\n",
    "with ThreadPoolExecutor(max_workers=5) as executor:\n",
    "    future_to_url = {\n",
    "        executor.submit(requests.get, tent_url): tent_name\n",
    "        for tent_name, tent_url in tents_urls.items()\n",
    "    }\n",
    "    for future in tqdm(as_completed(future_to_url), total=len(future_to_url)):\n",
    "        tent_name = future_to_url[future]\n",
    "        tents_raw_data[tent_name] = future.result()\n",
    "\n",
    "len(tents_raw_data)\n"
   ]
  },
  {
   "cell_type": "markdown",
   "metadata": {},
   "source": [
    "We now have the raw data. We can now extract the data we want. It's a good idea to split the data obtention and the data extraction into two separate steps. This way, if we make a mistake in the extraction, we don't have to re-fetch the data."
   ]
  },
  {
   "cell_type": "code",
   "execution_count": 30,
   "metadata": {},
   "outputs": [
    {
     "name": "stderr",
     "output_type": "stream",
     "text": [
      "100%|██████████| 379/379 [00:12<00:00, 30.43it/s]\n"
     ]
    },
    {
     "data": {
      "text/plain": [
       "378"
      ]
     },
     "execution_count": 30,
     "metadata": {},
     "output_type": "execute_result"
    }
   ],
   "source": [
    "tents_info = {}\n",
    "\n",
    "for tent_name, response in tqdm(tents_raw_data.items()):\n",
    "\n",
    "    soup = bs4.BeautifulSoup(response.content, 'html.parser')\n",
    "    script_tag = soup.find('script', id='__dkt')\n",
    "    try:\n",
    "        raw_json = re.search(r'{(.+)}', script_tag.string).group(0)\n",
    "    except AttributeError:\n",
    "        continue\n",
    "    data = json.loads(raw_json)\n",
    "\n",
    "    benefits_block = next(filter(\n",
    "        lambda b: b['type'] == 'ProductBenefits',\n",
    "        data['_ctx']['data']\n",
    "    ), {})\n",
    "    details_block = next(filter(\n",
    "        lambda b: b['type'] == 'Supermodel',\n",
    "        data['_ctx']['data']\n",
    "    ))\n",
    "    benefits = {\n",
    "        b['label']: b\n",
    "        for b in benefits_block.get('data', {}).get('benefits', [])\n",
    "    }\n",
    "    tents_info[tent_name] = {\n",
    "        'rating': details_block['data'].get('reviews', {}).get('notation'),\n",
    "        'price': details_block['data']['models'][0]['price'],\n",
    "        'weight': details_block['data']['models'][0].get('grossWeight'),\n",
    "        'composition': details_block['data']['models'][0].get('composition'),\n",
    "        'packed_size': benefits.get('Facilité de transport', {}).get('value'),\n",
    "        'size': benefits.get('Habitabilité', {}).get('value')\n",
    "    }\n",
    "\n",
    "len(tents_info)\n"
   ]
  },
  {
   "cell_type": "code",
   "execution_count": 33,
   "metadata": {},
   "outputs": [
    {
     "data": {
      "text/plain": [
       "rating         247\n",
       "price            0\n",
       "weight         249\n",
       "composition    228\n",
       "packed_size    296\n",
       "size           296\n",
       "dtype: int64"
      ]
     },
     "execution_count": 33,
     "metadata": {},
     "output_type": "execute_result"
    }
   ],
   "source": [
    "tents_df = pd.DataFrame.from_dict(tents_info, orient='index')\n",
    "tents_df.isnull().sum()\n"
   ]
  },
  {
   "cell_type": "code",
   "execution_count": 35,
   "metadata": {},
   "outputs": [
    {
     "data": {
      "text/plain": [
       "68"
      ]
     },
     "execution_count": 35,
     "metadata": {},
     "output_type": "execute_result"
    }
   ],
   "source": [
    "len(tents_df[~tents_df.isnull().any(axis=1)])\n"
   ]
  },
  {
   "cell_type": "code",
   "execution_count": 78,
   "metadata": {},
   "outputs": [
    {
     "data": {
      "text/html": [
       "<div>\n",
       "<style scoped>\n",
       "    .dataframe tbody tr th:only-of-type {\n",
       "        vertical-align: middle;\n",
       "    }\n",
       "\n",
       "    .dataframe tbody tr th {\n",
       "        vertical-align: top;\n",
       "    }\n",
       "\n",
       "    .dataframe thead th {\n",
       "        text-align: right;\n",
       "    }\n",
       "</style>\n",
       "<table border=\"1\" class=\"dataframe\">\n",
       "  <thead>\n",
       "    <tr style=\"text-align: right;\">\n",
       "      <th></th>\n",
       "      <th>rating</th>\n",
       "      <th>price</th>\n",
       "      <th>weight</th>\n",
       "      <th>composition</th>\n",
       "      <th>packed_size</th>\n",
       "      <th>size</th>\n",
       "    </tr>\n",
       "  </thead>\n",
       "  <tbody>\n",
       "    <tr>\n",
       "      <th>Tente à arceaux de camping - Arpenaz 4.1 - 4 Personnes - 1 Chambre</th>\n",
       "      <td>4.13</td>\n",
       "      <td>120.0</td>\n",
       "      <td>10.200</td>\n",
       "      <td>Tissu principal\\n100% Polyester\\nArceau\\n100% ...</td>\n",
       "      <td>Housse rectangulaire | 60 x 24 x 24 cm | 35 li...</td>\n",
       "      <td>Chambre : 240 x 210 cm | Séjour debout : 5 m² ...</td>\n",
       "    </tr>\n",
       "    <tr>\n",
       "      <th>Tente de camping - MH100 - 2 places</th>\n",
       "      <td>4.47</td>\n",
       "      <td>30.0</td>\n",
       "      <td>2.600</td>\n",
       "      <td>Tissu principal\\n75% Polyester, 25% Polyéthylè...</td>\n",
       "      <td>Dimensions de la housse : 58cm x 16cm x 16cm /...</td>\n",
       "      <td>Chambre 130 X 210 cm. (2 couchages de 65cm) Ha...</td>\n",
       "    </tr>\n",
       "    <tr>\n",
       "      <th>Tente de camping - 2 SECONDS - 3 places</th>\n",
       "      <td>4.60</td>\n",
       "      <td>100.0</td>\n",
       "      <td>3.562</td>\n",
       "      <td>Double toit\\n100% Polyester\\nChambre intérieur...</td>\n",
       "      <td>Dimension de la housse : Ø77x9 cm / 41,9 L. Po...</td>\n",
       "      <td>Chambre 180 X 210 cm.\\nHauteur max. utile : 10...</td>\n",
       "    </tr>\n",
       "    <tr>\n",
       "      <th>Tente de camping - 2 SECONDS - 2 places</th>\n",
       "      <td>4.40</td>\n",
       "      <td>65.0</td>\n",
       "      <td>2.900</td>\n",
       "      <td>Tissu principal\\n75% Polyester, 25% Polyéthylè...</td>\n",
       "      <td>Dimension de la housse : Ø65x7 cm / 23,2 L. Po...</td>\n",
       "      <td>Chambre 120 x 210 cm.\\nHauteur max utile : 102...</td>\n",
       "    </tr>\n",
       "    <tr>\n",
       "      <th>Séjour à arceaux de camping - Arpenaz Base - 6 Personnes</th>\n",
       "      <td>4.20</td>\n",
       "      <td>120.0</td>\n",
       "      <td>7.950</td>\n",
       "      <td>Arceau\\n100% Fibre de verre\\nTissu principal\\n...</td>\n",
       "      <td>Housse cylindrique | 57 x 18 cm | 18 litres | ...</td>\n",
       "      <td>Hauteur : 2,15 m | Surface au sol : 6,25 m² | ...</td>\n",
       "    </tr>\n",
       "  </tbody>\n",
       "</table>\n",
       "</div>"
      ],
      "text/plain": [
       "                                                    rating  price  weight  \\\n",
       "Tente à arceaux de camping - Arpenaz 4.1 - 4 Pe...    4.13  120.0  10.200   \n",
       "Tente de camping - MH100 - 2 places                   4.47   30.0   2.600   \n",
       "Tente de camping - 2 SECONDS - 3 places               4.60  100.0   3.562   \n",
       "Tente de camping - 2 SECONDS - 2 places               4.40   65.0   2.900   \n",
       "Séjour à arceaux de camping - Arpenaz Base - 6 ...    4.20  120.0   7.950   \n",
       "\n",
       "                                                                                          composition  \\\n",
       "Tente à arceaux de camping - Arpenaz 4.1 - 4 Pe...  Tissu principal\\n100% Polyester\\nArceau\\n100% ...   \n",
       "Tente de camping - MH100 - 2 places                 Tissu principal\\n75% Polyester, 25% Polyéthylè...   \n",
       "Tente de camping - 2 SECONDS - 3 places             Double toit\\n100% Polyester\\nChambre intérieur...   \n",
       "Tente de camping - 2 SECONDS - 2 places             Tissu principal\\n75% Polyester, 25% Polyéthylè...   \n",
       "Séjour à arceaux de camping - Arpenaz Base - 6 ...  Arceau\\n100% Fibre de verre\\nTissu principal\\n...   \n",
       "\n",
       "                                                                                          packed_size  \\\n",
       "Tente à arceaux de camping - Arpenaz 4.1 - 4 Pe...  Housse rectangulaire | 60 x 24 x 24 cm | 35 li...   \n",
       "Tente de camping - MH100 - 2 places                 Dimensions de la housse : 58cm x 16cm x 16cm /...   \n",
       "Tente de camping - 2 SECONDS - 3 places             Dimension de la housse : Ø77x9 cm / 41,9 L. Po...   \n",
       "Tente de camping - 2 SECONDS - 2 places             Dimension de la housse : Ø65x7 cm / 23,2 L. Po...   \n",
       "Séjour à arceaux de camping - Arpenaz Base - 6 ...  Housse cylindrique | 57 x 18 cm | 18 litres | ...   \n",
       "\n",
       "                                                                                                 size  \n",
       "Tente à arceaux de camping - Arpenaz 4.1 - 4 Pe...  Chambre : 240 x 210 cm | Séjour debout : 5 m² ...  \n",
       "Tente de camping - MH100 - 2 places                 Chambre 130 X 210 cm. (2 couchages de 65cm) Ha...  \n",
       "Tente de camping - 2 SECONDS - 3 places             Chambre 180 X 210 cm.\\nHauteur max. utile : 10...  \n",
       "Tente de camping - 2 SECONDS - 2 places             Chambre 120 x 210 cm.\\nHauteur max utile : 102...  \n",
       "Séjour à arceaux de camping - Arpenaz Base - 6 ...  Hauteur : 2,15 m | Surface au sol : 6,25 m² | ...  "
      ]
     },
     "execution_count": 78,
     "metadata": {},
     "output_type": "execute_result"
    }
   ],
   "source": [
    "tents_df.to_csv('../../data/tents.csv')\n",
    "tents_df.head()\n"
   ]
  },
  {
   "cell_type": "markdown",
   "metadata": {},
   "source": [
    "☝️ If you were not able to extract the data, you can use the already extracted data:"
   ]
  },
  {
   "cell_type": "code",
   "execution_count": 2,
   "metadata": {},
   "outputs": [
    {
     "data": {
      "text/html": [
       "<div>\n",
       "<style scoped>\n",
       "    .dataframe tbody tr th:only-of-type {\n",
       "        vertical-align: middle;\n",
       "    }\n",
       "\n",
       "    .dataframe tbody tr th {\n",
       "        vertical-align: top;\n",
       "    }\n",
       "\n",
       "    .dataframe thead th {\n",
       "        text-align: right;\n",
       "    }\n",
       "</style>\n",
       "<table border=\"1\" class=\"dataframe\">\n",
       "  <thead>\n",
       "    <tr style=\"text-align: right;\">\n",
       "      <th></th>\n",
       "      <th>rating</th>\n",
       "      <th>price</th>\n",
       "      <th>weight</th>\n",
       "      <th>composition</th>\n",
       "      <th>packed_size</th>\n",
       "      <th>size</th>\n",
       "    </tr>\n",
       "  </thead>\n",
       "  <tbody>\n",
       "    <tr>\n",
       "      <th>Tente à arceaux de camping - Arpenaz 4.1 - 4 Personnes - 1 Chambre</th>\n",
       "      <td>4.13</td>\n",
       "      <td>120.0</td>\n",
       "      <td>10.200</td>\n",
       "      <td>Tissu principal\\n100% Polyester\\nArceau\\n100% ...</td>\n",
       "      <td>Housse rectangulaire | 60 x 24 x 24 cm | 35 li...</td>\n",
       "      <td>Chambre : 240 x 210 cm | Séjour debout : 5 m² ...</td>\n",
       "    </tr>\n",
       "    <tr>\n",
       "      <th>Tente de camping - MH100 - 2 places</th>\n",
       "      <td>4.47</td>\n",
       "      <td>30.0</td>\n",
       "      <td>2.600</td>\n",
       "      <td>Tissu principal\\n75% Polyester, 25% Polyéthylè...</td>\n",
       "      <td>Dimensions de la housse : 58cm x 16cm x 16cm /...</td>\n",
       "      <td>Chambre 130 X 210 cm. (2 couchages de 65cm) Ha...</td>\n",
       "    </tr>\n",
       "    <tr>\n",
       "      <th>Tente de camping - 2 SECONDS - 3 places</th>\n",
       "      <td>4.60</td>\n",
       "      <td>100.0</td>\n",
       "      <td>3.562</td>\n",
       "      <td>Double toit\\n100% Polyester\\nChambre intérieur...</td>\n",
       "      <td>Dimension de la housse : Ø77x9 cm / 41,9 L. Po...</td>\n",
       "      <td>Chambre 180 X 210 cm.\\nHauteur max. utile : 10...</td>\n",
       "    </tr>\n",
       "    <tr>\n",
       "      <th>Tente de camping - 2 SECONDS - 2 places</th>\n",
       "      <td>4.40</td>\n",
       "      <td>65.0</td>\n",
       "      <td>2.900</td>\n",
       "      <td>Tissu principal\\n75% Polyester, 25% Polyéthylè...</td>\n",
       "      <td>Dimension de la housse : Ø65x7 cm / 23,2 L. Po...</td>\n",
       "      <td>Chambre 120 x 210 cm.\\nHauteur max utile : 102...</td>\n",
       "    </tr>\n",
       "    <tr>\n",
       "      <th>Séjour à arceaux de camping - Arpenaz Base - 6 Personnes</th>\n",
       "      <td>4.20</td>\n",
       "      <td>120.0</td>\n",
       "      <td>7.950</td>\n",
       "      <td>Arceau\\n100% Fibre de verre\\nTissu principal\\n...</td>\n",
       "      <td>Housse cylindrique | 57 x 18 cm | 18 litres | ...</td>\n",
       "      <td>Hauteur : 2,15 m | Surface au sol : 6,25 m² | ...</td>\n",
       "    </tr>\n",
       "  </tbody>\n",
       "</table>\n",
       "</div>"
      ],
      "text/plain": [
       "                                                    rating  price  weight  \\\n",
       "Tente à arceaux de camping - Arpenaz 4.1 - 4 Pe...    4.13  120.0  10.200   \n",
       "Tente de camping - MH100 - 2 places                   4.47   30.0   2.600   \n",
       "Tente de camping - 2 SECONDS - 3 places               4.60  100.0   3.562   \n",
       "Tente de camping - 2 SECONDS - 2 places               4.40   65.0   2.900   \n",
       "Séjour à arceaux de camping - Arpenaz Base - 6 ...    4.20  120.0   7.950   \n",
       "\n",
       "                                                                                          composition  \\\n",
       "Tente à arceaux de camping - Arpenaz 4.1 - 4 Pe...  Tissu principal\\n100% Polyester\\nArceau\\n100% ...   \n",
       "Tente de camping - MH100 - 2 places                 Tissu principal\\n75% Polyester, 25% Polyéthylè...   \n",
       "Tente de camping - 2 SECONDS - 3 places             Double toit\\n100% Polyester\\nChambre intérieur...   \n",
       "Tente de camping - 2 SECONDS - 2 places             Tissu principal\\n75% Polyester, 25% Polyéthylè...   \n",
       "Séjour à arceaux de camping - Arpenaz Base - 6 ...  Arceau\\n100% Fibre de verre\\nTissu principal\\n...   \n",
       "\n",
       "                                                                                          packed_size  \\\n",
       "Tente à arceaux de camping - Arpenaz 4.1 - 4 Pe...  Housse rectangulaire | 60 x 24 x 24 cm | 35 li...   \n",
       "Tente de camping - MH100 - 2 places                 Dimensions de la housse : 58cm x 16cm x 16cm /...   \n",
       "Tente de camping - 2 SECONDS - 3 places             Dimension de la housse : Ø77x9 cm / 41,9 L. Po...   \n",
       "Tente de camping - 2 SECONDS - 2 places             Dimension de la housse : Ø65x7 cm / 23,2 L. Po...   \n",
       "Séjour à arceaux de camping - Arpenaz Base - 6 ...  Housse cylindrique | 57 x 18 cm | 18 litres | ...   \n",
       "\n",
       "                                                                                                 size  \n",
       "Tente à arceaux de camping - Arpenaz 4.1 - 4 Pe...  Chambre : 240 x 210 cm | Séjour debout : 5 m² ...  \n",
       "Tente de camping - MH100 - 2 places                 Chambre 130 X 210 cm. (2 couchages de 65cm) Ha...  \n",
       "Tente de camping - 2 SECONDS - 3 places             Chambre 180 X 210 cm.\\nHauteur max. utile : 10...  \n",
       "Tente de camping - 2 SECONDS - 2 places             Chambre 120 x 210 cm.\\nHauteur max utile : 102...  \n",
       "Séjour à arceaux de camping - Arpenaz Base - 6 ...  Hauteur : 2,15 m | Surface au sol : 6,25 m² | ...  "
      ]
     },
     "execution_count": 2,
     "metadata": {},
     "output_type": "execute_result"
    }
   ],
   "source": [
    "import pandas as pd\n",
    "\n",
    "tents_df = pd.read_csv('../../data/tents.csv', index_col=0)\n",
    "tents_df.head()\n"
   ]
  },
  {
   "cell_type": "code",
   "execution_count": 3,
   "metadata": {},
   "outputs": [
    {
     "data": {
      "text/plain": [
       "70"
      ]
     },
     "execution_count": 3,
     "metadata": {},
     "output_type": "execute_result"
    }
   ],
   "source": [
    "tents_df = tents_df[~tents_df.isnull().any(axis=1)]\n",
    "len(tents_df)\n"
   ]
  },
  {
   "cell_type": "markdown",
   "metadata": {},
   "source": [
    "## Data analysis\n",
    "\n",
    "This is where the lab starts:\n",
    "\n",
    "1. Do a bit of analysis on the numeric fields\n",
    "2. Run a skyline.\n",
    "3. Run a PCA.\n",
    "4. Difficult: extract the size and/or the packed of the tent, and then rerun the same analysis\n",
    "5. Bonus: build a simple regression model"
   ]
  }
 ],
 "metadata": {
  "kernelspec": {
   "display_name": "Python 3",
   "language": "python",
   "name": "python3"
  },
  "language_info": {
   "codemirror_mode": {
    "name": "ipython",
    "version": 3
   },
   "file_extension": ".py",
   "mimetype": "text/x-python",
   "name": "python",
   "nbconvert_exporter": "python",
   "pygments_lexer": "ipython3",
   "version": "3.11.0"
  },
  "orig_nbformat": 4
 },
 "nbformat": 4,
 "nbformat_minor": 2
}
