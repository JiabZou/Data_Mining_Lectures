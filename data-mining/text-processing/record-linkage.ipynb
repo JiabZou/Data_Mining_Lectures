{
 "cells": [
  {
   "cell_type": "markdown",
   "metadata": {},
   "source": [
    "# Record linkage\n",
    "\n",
    "Record linkage is a common data science problem. The idea is that you have duplicates of the same entity in your data, and you want to find them. For example, you might have a list of people who have made purchases at your store, and you want to find all the purchases made by the same person. Or you might have a list of people who have signed up for your email newsletter, and you want to find all the people who signed up more than once.\n",
    "\n",
    "There are dedicated tools for this, such as [this](https://github.com/J535D165/recordlinkage) and [this](https://github.com/moj-analytical-services/splink). However, record linkage is very problem-specific, and it's often more worthwhile to write your own code."
   ]
  },
  {
   "cell_type": "markdown",
   "metadata": {},
   "source": [
    "https://maxhalford.github.io/blog/transitive-duplicates/"
   ]
  },
  {
   "cell_type": "code",
   "execution_count": null,
   "metadata": {},
   "outputs": [],
   "source": []
  }
 ],
 "metadata": {
  "language_info": {
   "name": "python"
  }
 },
 "nbformat": 4,
 "nbformat_minor": 2
}
