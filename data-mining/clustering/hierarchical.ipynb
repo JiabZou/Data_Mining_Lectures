{
 "cells": [
  {
   "cell_type": "code",
   "execution_count": null,
   "metadata": {},
   "outputs": [],
   "source": [
    "## Hierarchical clustering\n"
   ]
  },
  {
   "cell_type": "markdown",
   "metadata": {},
   "source": [
    "# Hierarchical clustering"
   ]
  },
  {
   "cell_type": "markdown",
   "metadata": {},
   "source": [
    "Clustering on OpenAI embeddings of recipes"
   ]
  },
  {
   "cell_type": "markdown",
   "metadata": {},
   "source": [
    "how it works\n",
    "\n",
    "\n",
    "\n",
    "## Explanation\n",
    "\n",
    "There are two types of hierarchical clustering:\n",
    "\n",
    "- Agglomerative where we start with one cluster per observation and merge recursively\n",
    "- Divisive where we start with one cluster and break it down recursively\n",
    "\n",
    "There are two components:\n",
    "\n",
    "1. A metric which calculates a distance between two points.\n",
    "2. A linkage criterion which computes a distance between two clusters given their pair-wise distances obtained with the metric.\n",
    "\n",
    "Some simple linkage criteria are:\n",
    "\n",
    "- Maximum linkage: $max\\{d(a, b); a \\in A\\, b \\in B\\}$\n",
    "- Minimum linkage: $min\\{d(a, b); a \\in A\\, b \\in B\\}$\n",
    "- Average linkage: $\\frac{1}{|A| \\times |B|} \\sum_{a \\in A} \\sum_{b \\in B} d(a, b)$\n",
    "\n",
    "You can find more linkage criteria [here](https://www.wikiwand.com/en/Hierarchical_clustering#/Linkage_criteria)."
   ]
  },
  {
   "cell_type": "code",
   "execution_count": null,
   "metadata": {},
   "outputs": [],
   "source": [
    "from scipy.cluster import hierarchy\n",
    "\n",
    "\n",
    "linkage = hierarchy.linkage(df, 'single')\n",
    "\n",
    "fig = plt.figure(figsize=(7, 7))\n",
    "hierarchy.dendrogram(linkage, labels=df.index, orientation='left')\n",
    "plt.tight_layout();\n",
    "plt.show();\n"
   ]
  },
  {
   "cell_type": "code",
   "execution_count": null,
   "metadata": {},
   "outputs": [],
   "source": [
    "import itertools\n",
    "\n",
    "\n",
    "def hac(X, metric=l1_distance):\n",
    "    \"\"\"HAC stands for Hierarchical Agglomerative Clustering.\n",
    "\n",
    "    In this implementation we use minimum linkage criterion.\n",
    "    \"\"\"\n",
    "\n",
    "    # Make sure we're working with a numpy.ndarray and not a pandas.DataFrame\n",
    "    if isinstance(X, pd.DataFrame):\n",
    "        X = X.values\n",
    "\n",
    "    # We will store the clusters in a dictionary of lists\n",
    "    clusters = {i: [i] for i, _ in enumerate(X)}\n",
    "\n",
    "    # We will also store the linkage history for plotting purposes\n",
    "    linkage = []\n",
    "\n",
    "    # Compute each pairwise distance\n",
    "    n = len(clusters)\n",
    "    distances = np.zeros(shape=(n, n)) + np.inf\n",
    "    for i in range(n):\n",
    "        for j in range(i+1, n):\n",
    "            dist = metric(X[i], X[j])\n",
    "            distances[i, j] = dist\n",
    "            distances[j, i] = dist\n",
    "\n",
    "    while len(clusters) > 1:\n",
    "\n",
    "        # We're looking for the two closest clusters, denoted a and b\n",
    "        a, b = None, None\n",
    "        min_dist = np.inf\n",
    "\n",
    "        for i, j in itertools.combinations(clusters.keys(), 2):\n",
    "\n",
    "            # Search for the smallest pairwise between both clusters\n",
    "            dist = min(metric(X[k], X[l]) for k in clusters[i] for l in clusters[j])\n",
    "\n",
    "            # Check if the smallest distance is lower than the current lowest distance\n",
    "            if dist < min_dist:\n",
    "                a, b = i, j\n",
    "                min_dist = dist\n",
    "\n",
    "        # Merge the two closest clusters\n",
    "        clusters[n] = clusters.pop(a) + clusters.pop(b)\n",
    "\n",
    "        # Update the linkage matrix\n",
    "        linkage.append([a, b, min_dist, len(clusters[n])])\n",
    "\n",
    "        n += 1\n",
    "\n",
    "    return linkage\n",
    "\n",
    "linkage = hac(df)\n",
    "\n",
    "fig = plt.figure(figsize=(7, 7))\n",
    "hierarchy.dendrogram(linkage, labels=df.index, orientation='left')\n",
    "plt.tight_layout();\n",
    "plt.show();\n"
   ]
  }
 ],
 "metadata": {
  "language_info": {
   "name": "python"
  }
 },
 "nbformat": 4,
 "nbformat_minor": 2
}
