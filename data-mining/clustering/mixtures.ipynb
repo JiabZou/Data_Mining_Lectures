{
 "cells": [
  {
   "cell_type": "code",
   "execution_count": null,
   "metadata": {},
   "outputs": [],
   "source": [
    "https://scikit-learn.org/stable/modules/mixture.html\n",
    "\n",
    "It's like k-means, but probabilistic\n"
   ]
  }
 ],
 "metadata": {
  "language_info": {
   "name": "python"
  }
 },
 "nbformat": 4,
 "nbformat_minor": 2
}
