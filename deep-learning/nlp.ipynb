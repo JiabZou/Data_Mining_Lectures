{
 "cells": [
  {
   "cell_type": "markdown",
   "metadata": {
    "slideshow": {
     "slide_type": "slide"
    }
   },
   "source": [
    "# Yet another practical introduction to deep learning\n",
    "\n",
    "## Natural language processing\n",
    "\n",
    "### Max Halford\n",
    "\n",
    "#### Toulouse School of Economics Master's degree"
   ]
  },
  {
   "cell_type": "code",
   "execution_count": 51,
   "metadata": {},
   "outputs": [
    {
     "name": "stdout",
     "output_type": "stream",
     "text": [
      "Collecting gensim\n",
      "\u001b[?25l  Downloading https://files.pythonhosted.org/packages/44/93/c6011037f24e3106d13f3be55297bf84ece2bf15b278cc4776339dc52db5/gensim-3.8.1-cp37-cp37m-manylinux1_x86_64.whl (24.2MB)\n",
      "\u001b[K    100% |████████████████████████████████| 24.2MB 965kB/s ta 0:00:011\n",
      "\u001b[?25hRequirement already satisfied: scipy>=0.18.1 in /home/max/anaconda3/lib/python3.7/site-packages (from gensim) (1.3.0)\n",
      "Requirement already satisfied: six>=1.5.0 in /home/max/anaconda3/lib/python3.7/site-packages (from gensim) (1.12.0)\n",
      "Collecting smart-open>=1.8.1 (from gensim)\n",
      "\u001b[?25l  Downloading https://files.pythonhosted.org/packages/0c/09/735f2786dfac9bbf39d244ce75c0313d27d4962e71e0774750dc809f2395/smart_open-1.9.0.tar.gz (70kB)\n",
      "\u001b[K    100% |████████████████████████████████| 71kB 1.3MB/s ta 0:00:01\n",
      "\u001b[?25hRequirement already satisfied: numpy>=1.11.3 in /home/max/anaconda3/lib/python3.7/site-packages (from gensim) (1.17.2)\n",
      "Requirement already satisfied: boto>=2.32 in /home/max/anaconda3/lib/python3.7/site-packages (from smart-open>=1.8.1->gensim) (2.49.0)\n",
      "Requirement already satisfied: requests in /home/max/anaconda3/lib/python3.7/site-packages (from smart-open>=1.8.1->gensim) (2.21.0)\n",
      "Collecting boto3 (from smart-open>=1.8.1->gensim)\n",
      "\u001b[?25l  Downloading https://files.pythonhosted.org/packages/7f/4f/880cb8ed7856bc6f7b1488210259bbd1155c68d3f0a972b0c90b54205e44/boto3-1.10.14-py2.py3-none-any.whl (128kB)\n",
      "\u001b[K    100% |████████████████████████████████| 133kB 578kB/s ta 0:00:01\n",
      "\u001b[?25hRequirement already satisfied: urllib3<1.25,>=1.21.1 in /home/max/anaconda3/lib/python3.7/site-packages (from requests->smart-open>=1.8.1->gensim) (1.24.1)\n",
      "Requirement already satisfied: chardet<3.1.0,>=3.0.2 in /home/max/anaconda3/lib/python3.7/site-packages (from requests->smart-open>=1.8.1->gensim) (3.0.4)\n",
      "Requirement already satisfied: idna<2.9,>=2.5 in /home/max/anaconda3/lib/python3.7/site-packages (from requests->smart-open>=1.8.1->gensim) (2.8)\n",
      "Requirement already satisfied: certifi>=2017.4.17 in /home/max/anaconda3/lib/python3.7/site-packages (from requests->smart-open>=1.8.1->gensim) (2019.9.11)\n",
      "Collecting s3transfer<0.3.0,>=0.2.0 (from boto3->smart-open>=1.8.1->gensim)\n",
      "\u001b[?25l  Downloading https://files.pythonhosted.org/packages/16/8a/1fc3dba0c4923c2a76e1ff0d52b305c44606da63f718d14d3231e21c51b0/s3transfer-0.2.1-py2.py3-none-any.whl (70kB)\n",
      "\u001b[K    100% |████████████████████████████████| 71kB 3.1MB/s ta 0:00:01\n",
      "\u001b[?25hCollecting jmespath<1.0.0,>=0.7.1 (from boto3->smart-open>=1.8.1->gensim)\n",
      "  Downloading https://files.pythonhosted.org/packages/83/94/7179c3832a6d45b266ddb2aac329e101367fbdb11f425f13771d27f225bb/jmespath-0.9.4-py2.py3-none-any.whl\n",
      "Collecting botocore<1.14.0,>=1.13.14 (from boto3->smart-open>=1.8.1->gensim)\n",
      "\u001b[?25l  Downloading https://files.pythonhosted.org/packages/87/7b/9164e0fd67ced4919131f2bdf3507589a0059f9033feda92b83cc36dae71/botocore-1.13.14-py2.py3-none-any.whl (5.4MB)\n",
      "\u001b[K    100% |████████████████████████████████| 5.4MB 2.0MB/s ta 0:00:01\n",
      "\u001b[?25hRequirement already satisfied: docutils<0.16,>=0.10 in /home/max/anaconda3/lib/python3.7/site-packages (from botocore<1.14.0,>=1.13.14->boto3->smart-open>=1.8.1->gensim) (0.14)\n",
      "Requirement already satisfied: python-dateutil<2.8.1,>=2.1; python_version >= \"2.7\" in /home/max/anaconda3/lib/python3.7/site-packages (from botocore<1.14.0,>=1.13.14->boto3->smart-open>=1.8.1->gensim) (2.8.0)\n",
      "Building wheels for collected packages: smart-open\n",
      "  Building wheel for smart-open (setup.py) ... \u001b[?25ldone\n",
      "\u001b[?25h  Stored in directory: /home/max/.cache/pip/wheels/ab/10/93/5cff86f5b721d77edaecc29959b1c60d894be1f66d91407d28\n",
      "Successfully built smart-open\n",
      "Installing collected packages: jmespath, botocore, s3transfer, boto3, smart-open, gensim\n",
      "Successfully installed boto3-1.10.14 botocore-1.13.14 gensim-3.8.1 jmespath-0.9.4 s3transfer-0.2.1 smart-open-1.9.0\n"
     ]
    }
   ],
   "source": [
    "!pip install gensim"
   ]
  },
  {
   "cell_type": "code",
   "execution_count": 50,
   "metadata": {},
   "outputs": [
    {
     "name": "stdout",
     "output_type": "stream",
     "text": [
      "The watermark extension is already loaded. To reload it, use:\n",
      "  %reload_ext watermark\n",
      "CPython 3.7.4\n",
      "IPython 7.4.0\n",
      "\n",
      "gensim not installed\n",
      "keras 2.2.4\n",
      "matplotlib 3.0.3\n",
      "nltk 3.4\n",
      "requests 2.21.0\n",
      "sklearn 0.21.3\n",
      "spacy 2.2.2\n",
      "tensorflow 1.14.0\n",
      "\n",
      "compiler   : GCC 7.3.0\n",
      "system     : Linux\n",
      "release    : 5.2.10-arch1-1-ARCH\n",
      "machine    : x86_64\n",
      "processor  : \n",
      "CPU cores  : 8\n",
      "interpreter: 64bit\n"
     ]
    }
   ],
   "source": [
    "%matplotlib inline\n",
    "%load_ext watermark\n",
    "%watermark -m -v -p gensim,keras,matplotlib,nltk,requests,sklearn,spacy,tensorflow"
   ]
  },
  {
   "cell_type": "markdown",
   "metadata": {
    "slideshow": {
     "slide_type": "slide"
    }
   },
   "source": [
    "## What is natural language processing?\n",
    "\n",
    "- Natural language processing (NLP in short) is a subbranch of artifical intelligence dedicated to freeform text.\n",
    "- It includes a wide array of tasks:\n",
    "    - Topic classification\n",
    "    - Sentiment analysis\n",
    "    - [Tokenization](https://nlp.stanford.edu/IR-book/html/htmledition/tokenization-1.html)\n",
    "    - [Sentence similarity evaluation](https://www.kaggle.com/c/quora-question-pairs)\n",
    "    - Machine translation \n",
    "    - Search engine relevance\n",
    "    - Fake news detection\n",
    "    - And much, much more\n",
    "- It has been a research topic since the 50s\n",
    "- In the late 80s people started to have success by using machine learning\n",
    "- Nowadays deep learning is widely for many NLP tasks and has even [surpassed humans on some benchmarks](https://gluebenchmark.com/leaderboard)"
   ]
  },
  {
   "cell_type": "markdown",
   "metadata": {
    "slideshow": {
     "slide_type": "slide"
    }
   },
   "source": [
    "## The traditional approach\n",
    "\n",
    "In traditional NLP, we represent words with occurrence vectors:\n",
    "   \n",
    "1. Pure counts: 1 if the word appears, 0 if not\n",
    "2. TF-IDF: term count divided by document count\n",
    "  \n",
    "Many [variants exist](https://www.wikiwand.com/en/Tf%E2%80%93idf#/Derivatives), but the idea is always the same."
   ]
  },
  {
   "cell_type": "code",
   "execution_count": 3,
   "metadata": {},
   "outputs": [],
   "source": [
    "import numpy as np\n",
    "from sklearn import datasets\n",
    "\n",
    "newsgroups = datasets.fetch_20newsgroups()\n",
    "X = np.array(newsgroups.data)\n",
    "y = np.array([newsgroups.target_names[i] for i in newsgroups.target])"
   ]
  },
  {
   "cell_type": "code",
   "execution_count": 4,
   "metadata": {},
   "outputs": [
    {
     "data": {
      "text/plain": [
       "['alt.atheism',\n",
       " 'comp.graphics',\n",
       " 'comp.os.ms-windows.misc',\n",
       " 'comp.sys.ibm.pc.hardware',\n",
       " 'comp.sys.mac.hardware',\n",
       " 'comp.windows.x',\n",
       " 'misc.forsale',\n",
       " 'rec.autos',\n",
       " 'rec.motorcycles',\n",
       " 'rec.sport.baseball',\n",
       " 'rec.sport.hockey',\n",
       " 'sci.crypt',\n",
       " 'sci.electronics',\n",
       " 'sci.med',\n",
       " 'sci.space',\n",
       " 'soc.religion.christian',\n",
       " 'talk.politics.guns',\n",
       " 'talk.politics.mideast',\n",
       " 'talk.politics.misc',\n",
       " 'talk.religion.misc']"
      ]
     },
     "execution_count": 4,
     "metadata": {},
     "output_type": "execute_result"
    }
   ],
   "source": [
    "newsgroups.target_names"
   ]
  },
  {
   "cell_type": "code",
   "execution_count": 5,
   "metadata": {},
   "outputs": [
    {
     "name": "stdout",
     "output_type": "stream",
     "text": [
      "rec.autos\n",
      "\n",
      "From: lerxst@wam.umd.edu (where's my thing)\n",
      "Subject: WHAT car is this!?\n",
      "Nntp-Posting-Host: rac3.wam.umd.edu\n",
      "Organization: University of Maryland, College Park\n",
      "Lines: 15\n",
      "\n",
      " I was wondering if anyone out there could enlighten me on this car I saw\n",
      "the other day. It was a 2-door sports car, looked to be from the late 60s/\n",
      "early 70s. It was called a Bricklin. The doors were really small. In addition,\n",
      "the front bumper was separate from the rest of the body. This is \n",
      "all I know. If anyone can tellme a model name, engine specs, years\n",
      "of production, where this car is made, history, or whatever info you\n",
      "have on this funky looking car, please e-mail.\n",
      "\n",
      "Thanks,\n",
      "- IL\n",
      "   ---- brought to you by your neighborhood Lerxst ----\n",
      "\n",
      "\n",
      "\n",
      "\n",
      "\n"
     ]
    }
   ],
   "source": [
    "i = 0\n",
    "print(y[i])\n",
    "print()\n",
    "print(X[i])"
   ]
  },
  {
   "cell_type": "markdown",
   "metadata": {
    "slideshow": {
     "slide_type": "slide"
    }
   },
   "source": [
    "## A side-note on cleaning text"
   ]
  },
  {
   "cell_type": "markdown",
   "metadata": {},
   "source": [
    "### Stemming"
   ]
  },
  {
   "cell_type": "markdown",
   "metadata": {},
   "source": [
    "The idea of [stemming](https://www.wikiwand.com/en/Stemming) is to replace a word by it's \"root\". The root is the part of the word to which you add inflectional (changing/deriving) affixes such as (-ed,-ize, -s,-de,mis). Note that this root does not necessarily have a meaning. The first successful and widespread is called the [Porter stemmer](http://snowball.tartarus.org/algorithms/porter/stemmer.html)."
   ]
  },
  {
   "cell_type": "code",
   "execution_count": 6,
   "metadata": {},
   "outputs": [
    {
     "name": "stdout",
     "output_type": "stream",
     "text": [
      "caresses -> caress\n",
      "flies -> fli\n",
      "dies -> die\n",
      "mules -> mule\n",
      "denied -> deni\n",
      "died -> die\n",
      "agreed -> agre\n",
      "owned -> own\n",
      "humbled -> humbl\n",
      "sized -> size\n",
      "meeting -> meet\n",
      "stating -> state\n",
      "siezing -> siez\n",
      "itemization -> item\n",
      "sensational -> sensat\n",
      "traditional -> tradit\n",
      "reference -> refer\n",
      "colonizer -> colon\n",
      "plotted -> plot\n",
      "burger -> burger\n",
      "burgers -> burger\n",
      "specs -> spec\n",
      "specification -> specif\n",
      "fishing -> fish\n",
      "fished -> fish\n",
      "fisher -> fisher\n",
      "argue -> argu\n",
      "argued -> argu\n",
      "argues -> argu\n",
      "arguing -> argu\n",
      "argus -> argu\n"
     ]
    }
   ],
   "source": [
    "from nltk.stem.porter import *\n",
    "\n",
    "stemmer = PorterStemmer()\n",
    "\n",
    "words = [\n",
    "    'caresses', 'flies', 'dies', 'mules', 'denied',\n",
    "    'died', 'agreed', 'owned', 'humbled', 'sized',\n",
    "    'meeting', 'stating', 'siezing', 'itemization',\n",
    "    'sensational', 'traditional', 'reference', 'colonizer',\n",
    "    'plotted', 'burger', 'burgers', 'specs', 'specification',\n",
    "    'fishing', 'fished', 'fisher',\n",
    "    'argue', 'argued', 'argues', 'arguing', 'argus'\n",
    "]\n",
    "\n",
    "for word in words:\n",
    "    stemmed = stemmer.stem(word)\n",
    "    print(f'{word} -> {stemmed}')"
   ]
  },
  {
   "cell_type": "markdown",
   "metadata": {},
   "source": [
    "### Lemmatization"
   ]
  },
  {
   "cell_type": "markdown",
   "metadata": {},
   "source": [
    "Lemmatization is the same as stemming, except that it uses a morphological database to find roots that have meaning. A good lemmatizer can convert plurals to singular, conjuguate forms to infinitive, etc."
   ]
  },
  {
   "cell_type": "code",
   "execution_count": 7,
   "metadata": {},
   "outputs": [
    {
     "name": "stderr",
     "output_type": "stream",
     "text": [
      "[nltk_data] Downloading package wordnet to /home/max/nltk_data...\n",
      "[nltk_data]   Package wordnet is already up-to-date!\n"
     ]
    },
    {
     "data": {
      "text/plain": [
       "True"
      ]
     },
     "execution_count": 7,
     "metadata": {},
     "output_type": "execute_result"
    }
   ],
   "source": [
    "import nltk\n",
    "\n",
    "nltk.download('wordnet')"
   ]
  },
  {
   "cell_type": "code",
   "execution_count": 8,
   "metadata": {},
   "outputs": [
    {
     "data": {
      "text/plain": [
       "'octopus'"
      ]
     },
     "execution_count": 8,
     "metadata": {},
     "output_type": "execute_result"
    }
   ],
   "source": [
    "from nltk.stem import WordNetLemmatizer \n",
    "  \n",
    "lemmatizer = WordNetLemmatizer() \n",
    "\n",
    "lemmatizer.lemmatize('octopi')  # Spots the plural form"
   ]
  },
  {
   "cell_type": "code",
   "execution_count": 9,
   "metadata": {},
   "outputs": [
    {
     "data": {
      "text/plain": [
       "'octopi'"
      ]
     },
     "execution_count": 9,
     "metadata": {},
     "output_type": "execute_result"
    }
   ],
   "source": [
    "stemmer.stem('octopi')"
   ]
  },
  {
   "cell_type": "code",
   "execution_count": 10,
   "metadata": {},
   "outputs": [
    {
     "data": {
      "text/plain": [
       "'took'"
      ]
     },
     "execution_count": 10,
     "metadata": {},
     "output_type": "execute_result"
    }
   ],
   "source": [
    "lemmatizer.lemmatize('took')  # Doesn't produce \"take\""
   ]
  },
  {
   "cell_type": "markdown",
   "metadata": {},
   "source": [
    "### Spelling correction"
   ]
  },
  {
   "cell_type": "markdown",
   "metadata": {},
   "source": [
    "From [Peter Norvig's blog](https://norvig.com/spell-correct.html)."
   ]
  },
  {
   "cell_type": "markdown",
   "metadata": {},
   "source": [
    "We'll first load the entire works of Sherlock Holmes from Arthur Conan Doyle."
   ]
  },
  {
   "cell_type": "code",
   "execution_count": 11,
   "metadata": {},
   "outputs": [],
   "source": [
    "import requests\n",
    "\n",
    "response = requests.get('https://norvig.com/big.txt')\n",
    "sherlock_holmes = response.text"
   ]
  },
  {
   "cell_type": "code",
   "execution_count": 14,
   "metadata": {},
   "outputs": [
    {
     "data": {
      "text/plain": [
       "'The Project Gutenberg EBook of The Adventures of Sherlock Holmes\\nby Sir Arthur Conan Doyle\\n(#15 in o'"
      ]
     },
     "execution_count": 14,
     "metadata": {},
     "output_type": "execute_result"
    }
   ],
   "source": [
    "sherlock_holmes[:100]"
   ]
  },
  {
   "cell_type": "markdown",
   "metadata": {},
   "source": [
    "Now let's run the code provided by Peter Norvig, we'll explain right after."
   ]
  },
  {
   "cell_type": "code",
   "execution_count": 15,
   "metadata": {},
   "outputs": [],
   "source": [
    "import re\n",
    "from collections import Counter\n",
    "\n",
    "def words(text): return re.findall(r'\\w+', text.lower())\n",
    "\n",
    "WORDS = Counter(words(sherlock_holmes))\n",
    "\n",
    "def P(word, N=sum(WORDS.values())): \n",
    "    \"Probability of `word`.\"\n",
    "    return WORDS[word] / N\n",
    "\n",
    "def correction(word): \n",
    "    \"Most probable spelling correction for word.\"\n",
    "    return max(candidates(word), key=P)\n",
    "\n",
    "def candidates(word): \n",
    "    \"Generate possible spelling corrections for word.\"\n",
    "    return (known([word]) or known(edits1(word)) or known(edits2(word)) or [word])\n",
    "\n",
    "def known(words): \n",
    "    \"The subset of `words` that appear in the dictionary of WORDS.\"\n",
    "    return set(w for w in words if w in WORDS)\n",
    "\n",
    "def edits1(word):\n",
    "    \"All edits that are one edit away from `word`.\"\n",
    "    letters    = 'abcdefghijklmnopqrstuvwxyz'\n",
    "    splits     = [(word[:i], word[i:])    for i in range(len(word) + 1)]\n",
    "    deletes    = [L + R[1:]               for L, R in splits if R]\n",
    "    transposes = [L + R[1] + R[0] + R[2:] for L, R in splits if len(R)>1]\n",
    "    replaces   = [L + c + R[1:]           for L, R in splits if R for c in letters]\n",
    "    inserts    = [L + c + R               for L, R in splits for c in letters]\n",
    "    return set(deletes + transposes + replaces + inserts)\n",
    "\n",
    "def edits2(word): \n",
    "    \"All edits that are two edits away from `word`.\"\n",
    "    return (e2 for e1 in edits1(word) for e2 in edits1(e1))"
   ]
  },
  {
   "cell_type": "markdown",
   "metadata": {},
   "source": [
    "Let's try to correct a few sentences."
   ]
  },
  {
   "cell_type": "code",
   "execution_count": 16,
   "metadata": {},
   "outputs": [
    {
     "data": {
      "text/plain": [
       "'spelling'"
      ]
     },
     "execution_count": 16,
     "metadata": {},
     "output_type": "execute_result"
    }
   ],
   "source": [
    "correction('speling')"
   ]
  },
  {
   "cell_type": "code",
   "execution_count": 17,
   "metadata": {},
   "outputs": [
    {
     "data": {
      "text/plain": [
       "'corrected'"
      ]
     },
     "execution_count": 17,
     "metadata": {},
     "output_type": "execute_result"
    }
   ],
   "source": [
    "correction('korrectud')"
   ]
  },
  {
   "cell_type": "code",
   "execution_count": 18,
   "metadata": {},
   "outputs": [
    {
     "data": {
      "text/plain": [
       "'something'"
      ]
     },
     "execution_count": 18,
     "metadata": {},
     "output_type": "execute_result"
    }
   ],
   "source": [
    "correction('somthing')"
   ]
  },
  {
   "cell_type": "markdown",
   "metadata": {},
   "source": [
    "This works suprisingly well, and yet the code is so small! Let's go through it step-by-step."
   ]
  },
  {
   "cell_type": "code",
   "execution_count": 19,
   "metadata": {},
   "outputs": [
    {
     "data": {
      "text/plain": [
       "[('the', 79809), ('of', 40024), ('and', 38312), ('to', 28765), ('in', 22023)]"
      ]
     },
     "execution_count": 19,
     "metadata": {},
     "output_type": "execute_result"
    }
   ],
   "source": [
    "WORDS.most_common(5)"
   ]
  },
  {
   "cell_type": "markdown",
   "metadata": {},
   "source": [
    "The `correction` function calls `candidates` and takes the word that appears the most."
   ]
  },
  {
   "cell_type": "code",
   "execution_count": 20,
   "metadata": {},
   "outputs": [
    {
     "data": {
      "text/plain": [
       "{'something', 'soothing'}"
      ]
     },
     "execution_count": 20,
     "metadata": {},
     "output_type": "execute_result"
    }
   ],
   "source": [
    "candidates('somthing')"
   ]
  },
  {
   "cell_type": "code",
   "execution_count": 21,
   "metadata": {},
   "outputs": [
    {
     "data": {
      "text/plain": [
       "0.0006122348364311102"
      ]
     },
     "execution_count": 21,
     "metadata": {},
     "output_type": "execute_result"
    }
   ],
   "source": [
    "P('something')"
   ]
  },
  {
   "cell_type": "code",
   "execution_count": 22,
   "metadata": {},
   "outputs": [
    {
     "data": {
      "text/plain": [
       "1.4342250926643868e-05"
      ]
     },
     "execution_count": 22,
     "metadata": {},
     "output_type": "execute_result"
    }
   ],
   "source": [
    "P('soothing')"
   ]
  },
  {
   "cell_type": "markdown",
   "metadata": {},
   "source": [
    "The idea of the algorithm is simply to generate potential replacement candidates and pick the one that appears the most. How do we generate candidates? The idea is that a spelling mistake might only involve one or two bad keystrokes. We can thus generate all the possible words that the user *could* have meant."
   ]
  },
  {
   "cell_type": "code",
   "execution_count": 23,
   "metadata": {},
   "outputs": [
    {
     "data": {
      "text/plain": [
       "['somtdhing', 'somthinmg', 'somuthing', 'somtling', 'somthinkg']"
      ]
     },
     "execution_count": 23,
     "metadata": {},
     "output_type": "execute_result"
    }
   ],
   "source": [
    "import random\n",
    "\n",
    "edits = edits1('somthing')\n",
    "random.sample(edits, 5)"
   ]
  },
  {
   "cell_type": "markdown",
   "metadata": {},
   "source": [
    "Now of course many of this words don't actually exist, and we can thus ignore them. This is what the `known` function does. That's all there is to it! Naturally we can imagine many variants, as [explained](https://norvig.com/spell-correct.html) by Peter Norvig, but that's the gist of it."
   ]
  },
  {
   "cell_type": "markdown",
   "metadata": {
    "slideshow": {
     "slide_type": "slide"
    }
   },
   "source": [
    "### A simple TF-IDF model"
   ]
  },
  {
   "cell_type": "markdown",
   "metadata": {},
   "source": [
    "Let's implement a simple TF-IDF model with scikit-learn."
   ]
  },
  {
   "cell_type": "code",
   "execution_count": 39,
   "metadata": {},
   "outputs": [],
   "source": [
    "from sklearn import feature_extraction\n",
    "\n",
    "tfidf = feature_extraction.text.TfidfVectorizer()\n",
    "tfidf = tfidf.fit(X)"
   ]
  },
  {
   "cell_type": "code",
   "execution_count": 40,
   "metadata": {},
   "outputs": [
    {
     "data": {
      "text/plain": [
       "130107"
      ]
     },
     "execution_count": 40,
     "metadata": {},
     "output_type": "execute_result"
    }
   ],
   "source": [
    "len(tfidf.get_feature_names())"
   ]
  },
  {
   "cell_type": "markdown",
   "metadata": {},
   "source": [
    "We can probably ignore some words."
   ]
  },
  {
   "cell_type": "code",
   "execution_count": 41,
   "metadata": {},
   "outputs": [
    {
     "data": {
      "text/plain": [
       "2110"
      ]
     },
     "execution_count": 41,
     "metadata": {},
     "output_type": "execute_result"
    }
   ],
   "source": [
    "tfidf = feature_extraction.text.TfidfVectorizer(min_df=0.01, max_df=0.3)\n",
    "tfidf = tfidf.fit(X)\n",
    "len(tfidf.get_feature_names())"
   ]
  },
  {
   "cell_type": "markdown",
   "metadata": {},
   "source": [
    "Let's also remove stop words, such as \"it\", \"him\", \"a\", etc."
   ]
  },
  {
   "cell_type": "code",
   "execution_count": 42,
   "metadata": {},
   "outputs": [
    {
     "data": {
      "text/plain": [
       "1908"
      ]
     },
     "execution_count": 42,
     "metadata": {},
     "output_type": "execute_result"
    }
   ],
   "source": [
    "tfidf = feature_extraction.text.TfidfVectorizer(min_df=0.01, max_df=0.3, stop_words='english')\n",
    "tfidf = tfidf.fit(X)\n",
    "len(tfidf.get_feature_names())"
   ]
  },
  {
   "cell_type": "code",
   "execution_count": 43,
   "metadata": {},
   "outputs": [
    {
     "data": {
      "text/plain": [
       "<11314x1908 sparse matrix of type '<class 'numpy.float64'>'\n",
       "\twith 600699 stored elements in Compressed Sparse Row format>"
      ]
     },
     "execution_count": 43,
     "metadata": {},
     "output_type": "execute_result"
    }
   ],
   "source": [
    "tfidf.transform(X)"
   ]
  },
  {
   "cell_type": "markdown",
   "metadata": {},
   "source": [
    "Let's build a pipeline and score it."
   ]
  },
  {
   "cell_type": "code",
   "execution_count": 44,
   "metadata": {},
   "outputs": [
    {
     "name": "stdout",
     "output_type": "stream",
     "text": [
      "Score for fold 0: 80.73%\n",
      "Score for fold 1: 80.06%\n",
      "Score for fold 2: 80.99%\n"
     ]
    }
   ],
   "source": [
    "from sklearn import linear_model\n",
    "from sklearn import metrics\n",
    "from sklearn import model_selection\n",
    "from sklearn import pipeline\n",
    "from sklearn import preprocessing\n",
    "\n",
    "\n",
    "model = pipeline.make_pipeline(\n",
    "    tfidf,\n",
    "    linear_model.LogisticRegression(solver='lbfgs', multi_class='auto')\n",
    ")\n",
    "\n",
    "cv = model_selection.KFold(n_splits=3, shuffle=True, random_state=42)\n",
    "\n",
    "val_scores = []\n",
    "\n",
    "for i, (fit_idx, val_idx) in enumerate(cv.split(X, y)):\n",
    "    \n",
    "    X_fit, y_fit = X[fit_idx], y[fit_idx]\n",
    "    X_val, y_val = X[val_idx], y[val_idx]\n",
    "\n",
    "    model = model.fit(X_fit, y_fit)\n",
    "    y_pred = model.predict(X_val)\n",
    "    \n",
    "    score = metrics.accuracy_score(y_val, y_pred)\n",
    "    val_scores.append(score)\n",
    "    \n",
    "    print(f'Score for fold {i}: {100 * score:.2f}%')"
   ]
  },
  {
   "cell_type": "markdown",
   "metadata": {},
   "source": [
    "Let's at some mistakes the model made."
   ]
  },
  {
   "cell_type": "code",
   "execution_count": 27,
   "metadata": {},
   "outputs": [
    {
     "name": "stdout",
     "output_type": "stream",
     "text": [
      "1\n",
      "True label: sci.space\n",
      "Predicted label: comp.windows.x\n",
      "\n",
      "From: jcm@head-cfa.harvard.edu (Jonathan McDowell)\n",
      "Subject: Re: Shuttle Launch Question\n",
      "Organization: Smithsonian Astrophysical Observatory, Cambridge, MA,  USA\n",
      "Distribution: sci\n",
      "Lines: 23\n",
      "\n",
      "From article <C5owCB.n3p@world.std.com>, by tombaker@world.std.com (Tom A Baker):\n",
      ">>In article <C5JLwx.4H9.1@cs.cmu.edu>, ETRAT@ttacs1.ttu.edu (Pack Rat) writes...\n",
      ">>>\"Clear caution & warning memory.  Verify no unexpected\n",
      ">>>errors. ...\".  I am wondering what an \"expected error\" might\n",
      ">>>be.  Sorry if this is a really dumb question, but\n",
      "> \n",
      "> Parity errors in memory or previously known conditions that were waivered.\n",
      ">    \"Yes that is an error, but we already knew about it\"\n",
      "> I'd be curious as to what the real meaning of the quote is.\n",
      "> \n",
      "> tom\n",
      "\n",
      "\n",
      "My understanding is that the 'expected errors' are basically\n",
      "known bugs in the warning system software - things are checked\n",
      "that don't have the right values in yet because they aren't\n",
      "set till after launch, and suchlike. Rather than fix the code\n",
      "and possibly introduce new bugs, they just tell the crew\n",
      "'ok, if you see a warning no. 213 before liftoff, ignore it'.\n",
      "\n",
      " - Jonathan\n",
      "\n",
      "\n",
      "\n",
      "==========\n",
      "10\n",
      "True label: misc.forsale\n",
      "Predicted label: sci.electronics\n",
      "\n",
      "From: rpwhite@cs.nps.navy.mil (rpwhite)\n",
      "Subject: Re: Catalog of Hard-to-Find PC Enhancements (Repost)\n",
      "Organization: Naval Postgraduate School, Monterey\n",
      "Distribution: usa\n",
      "Lines: 35\n",
      "\n",
      "Andy Freeman writes:\n",
      ">Joe Doll writes:\n",
      "\n",
      ")>>   \"The Catalog of Personal Computing Tools for Engineers and Scien-\n",
      ")>>   tists\" lists hardware cards and application software packages for \n",
      ")>>   PC/XT/AT/PS/2 class machines.  Focus is on engineering and scien-\n",
      ")>>   tific applications of PCs, such as data acquisition/control, \n",
      ")>>   design automation, and data analysis and presentation.  \n",
      "\n",
      ")>>   If you would like a free copy, reply with your (U. S. Postal) \n",
      ")>>   mailing address.\n",
      ">>\n",
      ">>    I am very interested in your catalog, but E-mail to you bounces.\n",
      ">\n",
      ">Don't bother - it never comes.  It's a cheap trick for building a\n",
      ">mailing list to sell if my junk mail flow is any indication.\n",
      "\n",
      "I have a copy of this catalog in front of me as I write this.\n",
      "It does have tons of qool stuff in it. \n",
      "My impression is that they try not to send it out to \"browsers\". It\n",
      "appears that if your not a buyer or an engineer they do not want to\n",
      "waste a catalog on you. When you get a catalog there's a \"VIP Code\" you\n",
      "have to give them \"to ensure your continued subscription.\".\n",
      "Anyway, if you want to get in touch with them, the company is\n",
      "\n",
      "Personal Computing Tools\n",
      "550 Division Street\n",
      "Campbell, CA 95008\n",
      "(408) 378-8400 \n",
      "(They also have fax #'s and toll free #'s for ordering and tech support)\n",
      "\n",
      "Please note that I am not associated with them in any way. In fact, I\n",
      "have never ordered from them so I can't comment on their products or\n",
      "service but the catalog is real and I am sitting here salivating over\n",
      "it.\n",
      "\n",
      "==========\n",
      "12\n",
      "True label: comp.graphics\n",
      "Predicted label: comp.windows.x\n",
      "\n",
      "From: kph2q@onyx.cs.Virginia.EDU (Kenneth Hinckley)\n",
      "Subject:   VOICE INPUT -- vendor information needed\n",
      "Reply-To: kph2q@onyx.cs.Virginia.EDU (Kenneth Hinckley)\n",
      "Organization: University of Virginia\n",
      "Lines: 27\n",
      "\n",
      "\n",
      "Hello,\n",
      "     I am looking to add voice input capability to a user interface I am\n",
      "developing on an HP730 (UNIX) workstation.  I would greatly appreciate \n",
      "information anyone would care to offer about voice input systems that are \n",
      "easily accessible from the UNIX environment. \n",
      "\n",
      "     The names or adresses of applicable vendors, as well as any \n",
      "experiences you have had with specific systems, would be very helpful.\n",
      "\n",
      "     Please respond via email; I will post a summary if there is \n",
      "sufficient interest.\n",
      "\n",
      "\n",
      "Thanks,\n",
      "Ken\n",
      "\n",
      "\n",
      "P.S.  I have found several impressive systems for IBM PC's, but I would \n",
      "like to avoid the hassle of purchasing and maintaining a separate PC if \n",
      "at all possible.\n",
      "\n",
      "-------------------------------------------------------------------------------\n",
      "Ken Hinckley (kph2q@virginia.edu)\n",
      "University of Virginia \n",
      "Neurosurgical Visualization Laboratory\n",
      "-------------------------------------------------------------------------------\n",
      "\n",
      "==========\n",
      "13\n",
      "True label: sci.electronics\n",
      "Predicted label: rec.sport.hockey\n",
      "\n",
      "From: xandor@unixg.ubc.ca (John Gilbert )\n",
      "Subject: Re: Exploding TV!\n",
      "Organization: The University of British Columbia\n",
      "Lines: 4\n",
      "Distribution: usa\n",
      "NNTP-Posting-Host: unixg.ubc.ca\n",
      "\n",
      " Just as a not of possible interest on this subject ..\n",
      "It is my understanding that exploding televisions were a major cause of\n",
      "domestic accidents in the Soviet Union in past years!\n",
      "  \n",
      "\n",
      "==========\n",
      "18\n",
      "True label: sci.electronics\n",
      "Predicted label: comp.os.ms-windows.misc\n",
      "\n",
      "From: blakey@ug.cs.dal.ca (Jason Blakey)\n",
      "Subject: FTP sites anyone?\n",
      "Nntp-Posting-Host: ug.cs.dal.ca\n",
      "Organization: Math, Stats & CS, Dalhousie University, Halifax, NS, Canada\n",
      "Lines: 7\n",
      "\n",
      "    Hello netters:)  Does anyone out there know any FTP sites for projects,\n",
      "plans, etc of an electrical nature?  \n",
      "\n",
      "-Jason\n",
      "-- \n",
      " ............................................................................ \n",
      "                      Jason Blakey -> blakey@ug.cs.dal.ca \n",
      "\n",
      "==========\n"
     ]
    }
   ],
   "source": [
    "for i in np.where(y_pred != y_val)[0][:5]:\n",
    "    print(i)\n",
    "    print(f'True label: {y_val[i]}')\n",
    "    print(f'Predicted label: {y_pred[i]}')\n",
    "    print()\n",
    "    print(X_val[i])\n",
    "    print('=' * 10)"
   ]
  },
  {
   "cell_type": "code",
   "execution_count": 54,
   "metadata": {},
   "outputs": [
    {
     "data": {
      "text/plain": [
       "<1x1942 sparse matrix of type '<class 'numpy.float64'>'\n",
       "\twith 14 stored elements in Compressed Sparse Row format>"
      ]
     },
     "execution_count": 54,
     "metadata": {},
     "output_type": "execute_result"
    }
   ],
   "source": [
    "x = X_val[13]\n",
    "tfidf = model.steps[0][1]\n",
    "log_reg = model.steps[1][1]\n",
    "features = tfidf.transform([x])\n",
    "features"
   ]
  },
  {
   "cell_type": "code",
   "execution_count": 55,
   "metadata": {},
   "outputs": [
    {
     "data": {
      "text/plain": [
       "(1942,)"
      ]
     },
     "execution_count": 55,
     "metadata": {},
     "output_type": "execute_result"
    }
   ],
   "source": [
    "features = np.array(features.todense())[0]\n",
    "features.shape"
   ]
  },
  {
   "cell_type": "code",
   "execution_count": 56,
   "metadata": {},
   "outputs": [
    {
     "data": {
      "text/plain": [
       "(20, 1942)"
      ]
     },
     "execution_count": 56,
     "metadata": {},
     "output_type": "execute_result"
    }
   ],
   "source": [
    "log_reg.coef_.shape"
   ]
  },
  {
   "cell_type": "code",
   "execution_count": 64,
   "metadata": {},
   "outputs": [
    {
     "name": "stdout",
     "output_type": "stream",
     "text": [
      "10 rec.sport.hockey\n",
      "    - ca\n",
      "    - tv\n",
      "    - columbia\n",
      "    - john\n",
      "    - zero\n",
      "\n",
      "12 sci.electronics\n",
      "    - tv\n",
      "    - ca\n",
      "    - john\n",
      "    - usa\n",
      "    - possible\n",
      "\n"
     ]
    }
   ],
   "source": [
    "labels = log_reg.classes_\n",
    "tokens = np.array(tfidf.get_feature_names())\n",
    "\n",
    "for i, c in enumerate(labels):\n",
    "    \n",
    "    if c not in ['sci.electronics', 'rec.sport.hockey']:\n",
    "        continue\n",
    "    \n",
    "    w = log_reg.coef_[i]\n",
    "    xw = features * w\n",
    "    top_tokens = tokens[xw.argsort()[-5:][::-1]]\n",
    "    print(i, c)\n",
    "    for token in top_tokens:\n",
    "        print(f'    - {token}')\n",
    "    print()"
   ]
  },
  {
   "cell_type": "markdown",
   "metadata": {},
   "source": [
    "By the way, what happens to unseed words?"
   ]
  },
  {
   "cell_type": "code",
   "execution_count": 14,
   "metadata": {},
   "outputs": [
    {
     "data": {
      "text/plain": [
       "<1x1942 sparse matrix of type '<class 'numpy.float64'>'\n",
       "\twith 0 stored elements in Compressed Sparse Row format>"
      ]
     },
     "execution_count": 14,
     "metadata": {},
     "output_type": "execute_result"
    }
   ],
   "source": [
    "model.steps[0][1].transform(['supercalifragilisticexpialidocious'])"
   ]
  },
  {
   "cell_type": "markdown",
   "metadata": {},
   "source": [
    "Let's take a look the confusion matrix for last fold."
   ]
  },
  {
   "cell_type": "code",
   "execution_count": 15,
   "metadata": {
    "scrolled": true
   },
   "outputs": [
    {
     "data": {
      "image/png": "[encoded data removed]",
      "text/plain": [
       "<Figure size 1008x1008 with 1 Axes>"
      ]
     },
     "metadata": {
      "needs_background": "light"
     },
     "output_type": "display_data"
    }
   ],
   "source": [
    "import matplotlib.pyplot as plt\n",
    "import seaborn as sns\n",
    "\n",
    "cm = metrics.confusion_matrix(y_val, y_pred, labels=newsgroups.target_names)\n",
    "np.fill_diagonal(cm, 0)\n",
    "\n",
    "fig, ax = plt.subplots(figsize=(14, 14))\n",
    "sns.set(font_scale=2)\n",
    "sns.heatmap(\n",
    "    cm,\n",
    "    xticklabels=newsgroups.target_names,\n",
    "    yticklabels=newsgroups.target_names,\n",
    "    ax=ax,\n",
    "    square=True,\n",
    "    annot=True,\n",
    "    fmt='d',\n",
    "    linewidths=0.1,\n",
    "    cbar=False\n",
    ");"
   ]
  },
  {
   "cell_type": "markdown",
   "metadata": {
    "slideshow": {
     "slide_type": "slide"
    }
   },
   "source": [
    "## Issues with the traditional approach\n",
    "\n",
    "The  big issue is that we don't capture the semantic meaning of the words. For instance, assuming a corpus of 6 different words, if we one-hot encode \"pub\", \"bar\", and \"tavern\", we would get:\n",
    "\n",
    "```\n",
    "pub    = [0, 0, 0, 1, 0, 0]\n",
    "bar    = [1, 0, 0, 0, 0, 0]\n",
    "tavern = [0, 0, 0, 0, 0, 1]\n",
    "```\n",
    "\n",
    "These vectors are orthogonal, and yet we know they are similar! If we could find a space where these words would these words would have a similar representation, they we would surely make the lives of our machine learning models easier, right?\n",
    "\n",
    "By the way, [stemming and lematization](https://nlp.stanford.edu/IR-book/html/htmledition/stemming-and-lemmatization-1.html) help, but they only consider the lexical form of each word, and so are only cheap tricks."
   ]
  },
  {
   "cell_type": "markdown",
   "metadata": {
    "slideshow": {
     "slide_type": "slide"
    }
   },
   "source": [
    "## Word embeddings\n",
    "\n",
    "- [John Rupert Firth](https://www.wikiwand.com/en/John_Rupert_Firth): \"a word is characterized by the company it keeps\"\n",
    "- Idea: represent a word by a vector of semantic concepts\n",
    "- For instance:\n",
    "\n",
    "```\n",
    "    queen = {\n",
    "        royalty: 0.98,\n",
    "        woman: 0.9,\n",
    "        country: 0.6\n",
    "    }\n",
    "    \n",
    "    cat = {\n",
    "        woman: 0.7,\n",
    "        animal: 0.95,\n",
    "        individual: 0.8\n",
    "    }\n",
    "    \n",
    "    cats = {\n",
    "        woman: 0.6,\n",
    "        animal: 0.94,\n",
    "        plural: 0.75\n",
    "    }\n",
    "```\n",
    "    \n",
    "- Words embeddings are also called \"word vectors\" or \"word representations\"\n",
    "- There are less semantic concepts than words: lower dimensional space\n",
    "- Synonyms such as \"happy\" and \"cheerful\" will be close in this \"concept space\"\n",
    "- A neural network (but not only) can learn to find these concepts\n",
    "\n",
    "![word2vec](word2vec.png)"
   ]
  },
  {
   "cell_type": "markdown",
   "metadata": {
    "slideshow": {
     "slide_type": "slide"
    }
   },
   "source": [
    "## Words embeddings with spacy\n",
    "\n",
    "[spacy](https://spacy.io/) is a popular NLP toolkit for Python , tt has many features and essentially wraps pre-trained neural networks.\n",
    "\n",
    "We can download the pre-calculated concept vectors via the following command."
   ]
  },
  {
   "cell_type": "code",
   "execution_count": 106,
   "metadata": {},
   "outputs": [
    {
     "name": "stdout",
     "output_type": "stream",
     "text": [
      "Collecting en_core_web_md==2.2.0 from https://github.com/explosion/spacy-models/releases/download/en_core_web_md-2.2.0/en_core_web_md-2.2.0.tar.gz#egg=en_core_web_md==2.2.0\n",
      "\u001b[?25l  Downloading https://github.com/explosion/spacy-models/releases/download/en_core_web_md-2.2.0/en_core_web_md-2.2.0.tar.gz (96.4MB)\n",
      "\u001b[K    100% |████████████████████████████████| 96.4MB 2.3MB/s ta 0:00:0121    33% |██████████▋                     | 32.0MB 16.5MB/s eta 0:00:04    75% |████████████████████████▏       | 72.7MB 2.7MB/s eta 0:00:09\n",
      "\u001b[?25hRequirement already satisfied: spacy>=2.2.0 in /home/max/anaconda3/lib/python3.7/site-packages (from en_core_web_md==2.2.0) (2.2.2)\n",
      "Requirement already satisfied: murmurhash<1.1.0,>=0.28.0 in /home/max/anaconda3/lib/python3.7/site-packages (from spacy>=2.2.0->en_core_web_md==2.2.0) (1.0.2)\n",
      "Requirement already satisfied: requests<3.0.0,>=2.13.0 in /home/max/anaconda3/lib/python3.7/site-packages (from spacy>=2.2.0->en_core_web_md==2.2.0) (2.21.0)\n",
      "Requirement already satisfied: thinc<7.4.0,>=7.3.0 in /home/max/anaconda3/lib/python3.7/site-packages (from spacy>=2.2.0->en_core_web_md==2.2.0) (7.3.1)\n",
      "Requirement already satisfied: cymem<2.1.0,>=2.0.2 in /home/max/anaconda3/lib/python3.7/site-packages (from spacy>=2.2.0->en_core_web_md==2.2.0) (2.0.2)\n",
      "Requirement already satisfied: srsly<1.1.0,>=0.1.0 in /home/max/anaconda3/lib/python3.7/site-packages (from spacy>=2.2.0->en_core_web_md==2.2.0) (0.2.0)\n",
      "Requirement already satisfied: wasabi<1.1.0,>=0.3.0 in /home/max/anaconda3/lib/python3.7/site-packages (from spacy>=2.2.0->en_core_web_md==2.2.0) (0.4.0)\n",
      "Requirement already satisfied: importlib-metadata>=0.20; python_version < \"3.8\" in /home/max/anaconda3/lib/python3.7/site-packages (from spacy>=2.2.0->en_core_web_md==2.2.0) (0.23)\n",
      "Requirement already satisfied: setuptools in /home/max/anaconda3/lib/python3.7/site-packages (from spacy>=2.2.0->en_core_web_md==2.2.0) (40.8.0)\n",
      "Requirement already satisfied: blis<0.5.0,>=0.4.0 in /home/max/anaconda3/lib/python3.7/site-packages (from spacy>=2.2.0->en_core_web_md==2.2.0) (0.4.1)\n",
      "Requirement already satisfied: plac<1.2.0,>=0.9.6 in /home/max/anaconda3/lib/python3.7/site-packages (from spacy>=2.2.0->en_core_web_md==2.2.0) (1.1.3)\n",
      "Requirement already satisfied: preshed<3.1.0,>=3.0.2 in /home/max/anaconda3/lib/python3.7/site-packages (from spacy>=2.2.0->en_core_web_md==2.2.0) (3.0.2)\n",
      "Requirement already satisfied: numpy>=1.15.0 in /home/max/anaconda3/lib/python3.7/site-packages (from spacy>=2.2.0->en_core_web_md==2.2.0) (1.17.2)\n",
      "Requirement already satisfied: idna<2.9,>=2.5 in /home/max/anaconda3/lib/python3.7/site-packages (from requests<3.0.0,>=2.13.0->spacy>=2.2.0->en_core_web_md==2.2.0) (2.8)\n",
      "Requirement already satisfied: urllib3<1.25,>=1.21.1 in /home/max/anaconda3/lib/python3.7/site-packages (from requests<3.0.0,>=2.13.0->spacy>=2.2.0->en_core_web_md==2.2.0) (1.24.1)\n",
      "Requirement already satisfied: chardet<3.1.0,>=3.0.2 in /home/max/anaconda3/lib/python3.7/site-packages (from requests<3.0.0,>=2.13.0->spacy>=2.2.0->en_core_web_md==2.2.0) (3.0.4)\n",
      "Requirement already satisfied: certifi>=2017.4.17 in /home/max/anaconda3/lib/python3.7/site-packages (from requests<3.0.0,>=2.13.0->spacy>=2.2.0->en_core_web_md==2.2.0) (2019.9.11)\n",
      "Requirement already satisfied: tqdm<5.0.0,>=4.10.0 in /home/max/anaconda3/lib/python3.7/site-packages (from thinc<7.4.0,>=7.3.0->spacy>=2.2.0->en_core_web_md==2.2.0) (4.36.1)\n",
      "Requirement already satisfied: zipp>=0.5 in /home/max/anaconda3/lib/python3.7/site-packages (from importlib-metadata>=0.20; python_version < \"3.8\"->spacy>=2.2.0->en_core_web_md==2.2.0) (0.6.0)\n",
      "Requirement already satisfied: more-itertools in /home/max/anaconda3/lib/python3.7/site-packages (from zipp>=0.5->importlib-metadata>=0.20; python_version < \"3.8\"->spacy>=2.2.0->en_core_web_md==2.2.0) (6.0.0)\n",
      "Installing collected packages: en-core-web-md\n",
      "  Running setup.py install for en-core-web-md ... \u001b[?25ldone\n",
      "\u001b[?25hSuccessfully installed en-core-web-md-2.2.0\n",
      "\u001b[38;5;2m✔ Download and installation successful\u001b[0m\n",
      "You can now load the model via spacy.load('en_core_web_md')\n"
     ]
    }
   ],
   "source": [
    "!python -m spacy download en_core_web_md"
   ]
  },
  {
   "cell_type": "markdown",
   "metadata": {},
   "source": [
    "Let us now load the concept vectors named `en_core_web_md`. In the [documentation](https://spacy.io/models/en#en_core_web_md), the following description is given:\n",
    "\n",
    "> English multi-task CNN trained on OntoNotes, with GloVe vectors trained on Common Crawl. Assigns word vectors, context-specific token vectors, POS tags, dependency parse and named entities."
   ]
  },
  {
   "cell_type": "code",
   "execution_count": 27,
   "metadata": {},
   "outputs": [],
   "source": [
    "import spacy\n",
    "\n",
    "nlp = spacy.load('en_core_web_md')  # Takes some time"
   ]
  },
  {
   "cell_type": "code",
   "execution_count": 28,
   "metadata": {},
   "outputs": [
    {
     "data": {
      "text/plain": [
       "spacy.lang.en.English"
      ]
     },
     "execution_count": 28,
     "metadata": {},
     "output_type": "execute_result"
    }
   ],
   "source": [
    "type(nlp)"
   ]
  },
  {
   "cell_type": "code",
   "execution_count": 29,
   "metadata": {},
   "outputs": [],
   "source": [
    "?nlp"
   ]
  },
  {
   "cell_type": "code",
   "execution_count": 30,
   "metadata": {},
   "outputs": [
    {
     "data": {
      "text/plain": [
       "array([ 0.4095   , -0.22693  ,  0.25362  , -0.36055  , -0.37095  ,\n",
       "       -0.35181  ,  0.50669  , -0.77897  , -0.32571  ,  1.4895   ,\n",
       "        0.052438 , -0.36751  , -0.074025 ,  0.37078  ,  0.063077 ,\n",
       "        0.32274  ,  0.346    ,  0.64214  , -0.09583  ,  0.14303  ,\n",
       "       -0.33826  ,  0.79005  , -0.7136   , -0.050134 , -0.46467  ,\n",
       "       -0.067917 , -0.32107  ,  0.042919 ,  0.018576 ,  0.59272  ,\n",
       "       -0.032392 ,  0.72779  ,  0.26002  ,  0.30401  ,  0.43033  ,\n",
       "        0.25546  , -0.37986  , -0.14398  , -0.54399  , -0.46181  ,\n",
       "        0.11046  , -0.034391 , -0.10458  , -0.069689 ,  0.091839 ,\n",
       "       -0.19097  , -0.057108 ,  0.61218  , -0.19544  , -0.31698  ,\n",
       "       -0.46372  ,  0.088749 , -0.052501 , -0.27969  ,  0.025125 ,\n",
       "       -0.42097  , -0.069404 , -0.038672 , -0.26489  ,  0.10911  ,\n",
       "       -0.084848 , -0.23826  ,  0.61538  ,  0.0039223,  0.20285  ,\n",
       "        0.56085  ,  0.015419 ,  0.30707  ,  0.19435  , -0.20358  ,\n",
       "       -0.18724  , -0.10311  , -0.46468  , -0.16804  ,  0.22614  ,\n",
       "        0.040657 , -0.5147   ,  0.46701  ,  0.61985  , -0.46281  ,\n",
       "       -0.8657   ,  0.26458  , -0.015476 ,  0.12292  ,  0.084031 ,\n",
       "       -0.07936  ,  0.58967  , -0.011092 , -0.3795   , -0.053612 ,\n",
       "        0.21134  ,  0.46996  ,  0.11207  , -0.16461  ,  0.43344  ,\n",
       "       -0.40563  , -0.056622 ,  0.37558  , -0.41568  ,  0.48919  ,\n",
       "       -0.21899  ,  0.070619 , -0.17975  , -0.31542  ,  0.030309 ,\n",
       "       -0.50396  , -0.3454   ,  0.046303 ,  0.65506  , -0.34406  ,\n",
       "        0.26439  ,  0.65116  ,  0.064871 , -0.21301  , -0.33609  ,\n",
       "       -0.13405  ,  0.021996 ,  0.13674  ,  0.39605  , -0.53568  ,\n",
       "       -0.4572   ,  0.015033 ,  0.34131  ,  0.081045 ,  0.13898  ,\n",
       "        0.077339 ,  0.12537  , -0.36673  , -0.45194  ,  0.18747  ,\n",
       "       -0.80829  , -0.72773  , -0.16877  , -0.10304  ,  0.61342  ,\n",
       "       -0.11578  , -0.08559  ,  0.32745  ,  0.20161  ,  0.16451  ,\n",
       "       -2.6898   , -0.13789  ,  0.38222  , -0.14568  , -0.54351  ,\n",
       "       -0.057114 ,  0.052728 ,  0.21628  ,  0.17275  , -0.52548  ,\n",
       "        0.33424  , -0.11197  ,  0.32572  ,  0.073191 ,  0.55281  ,\n",
       "       -0.42832  ,  0.66409  , -0.88453  , -0.097977 ,  0.44619  ,\n",
       "       -0.32691  , -0.24954  , -0.077847 , -0.0092577,  0.52026  ,\n",
       "       -0.22013  ,  0.097384 ,  0.55009  , -0.17778  ,  0.31343  ,\n",
       "       -0.27513  , -0.040442 ,  0.21805  ,  0.17002  , -0.072219 ,\n",
       "        0.0059726,  0.35768  ,  0.084917 , -0.86797  ,  0.35865  ,\n",
       "        0.065546 ,  0.10703  ,  0.2024   , -0.38667  , -0.054235 ,\n",
       "        0.2198   , -0.49117  , -0.018379 , -0.10444  ,  0.55107  ,\n",
       "       -0.49634  , -0.29664  ,  0.33894  , -0.0087991, -0.03863  ,\n",
       "       -0.54128  ,  0.0079764,  0.054724 , -0.2015   , -0.18551  ,\n",
       "        0.13176  ,  0.27923  ,  0.076447 , -0.048008 , -0.055424 ,\n",
       "       -0.34943  ,  0.39729  ,  0.2457   ,  0.029499 , -0.68098  ,\n",
       "       -0.6871   ,  0.59309  ,  0.074554 ,  0.20225  , -0.036478 ,\n",
       "        0.14827  , -0.25059  ,  0.26117  , -0.31805  ,  0.45437  ,\n",
       "       -0.038272 ,  0.028742 ,  0.27339  , -0.33354  ,  0.91142  ,\n",
       "        0.31166  ,  0.11014  ,  0.042104 , -0.12473  ,  0.51306  ,\n",
       "        0.16476  ,  0.072608 ,  0.31229  , -0.10835  ,  0.21623  ,\n",
       "       -0.63722  ,  0.21012  , -0.083516 , -0.17219  , -0.51574  ,\n",
       "        0.12891  , -0.42211  ,  0.031661 , -0.27926  ,  0.32035  ,\n",
       "       -0.76117  ,  0.32241  ,  0.14613  , -0.23227  , -0.8071   ,\n",
       "        0.11194  ,  0.38073  , -0.022643 , -0.24833  , -0.26833  ,\n",
       "        0.4066   , -0.13731  , -0.3489   , -0.6394   ,  0.21267  ,\n",
       "       -0.099964 ,  0.37609  , -0.23807  , -0.4519   , -0.29246  ,\n",
       "       -0.06527  ,  0.53402  ,  0.49704  , -1.2046   ,  0.028652 ,\n",
       "       -0.76803  , -0.14139  , -0.27493  ,  0.090442 ,  0.1094   ,\n",
       "       -0.11903  ,  0.26246  , -0.094261 , -0.004892 , -0.22072  ,\n",
       "        0.98163  ,  0.68397  , -0.046815 , -0.26183  , -0.35914  ,\n",
       "        0.10693  ,  0.047385 , -0.12417  , -0.17449  ,  0.056819 ,\n",
       "        0.086431 ,  0.28052  , -0.044373 , -0.29452  , -0.19942  ,\n",
       "        0.59475  , -0.33682  , -0.34563  ,  0.12043  , -0.36494  ],\n",
       "      dtype=float32)"
      ]
     },
     "execution_count": 30,
     "metadata": {},
     "output_type": "execute_result"
    }
   ],
   "source": [
    "nlp('Queen').vector"
   ]
  },
  {
   "cell_type": "code",
   "execution_count": 31,
   "metadata": {},
   "outputs": [
    {
     "name": "stdout",
     "output_type": "stream",
     "text": [
      "Distance between \"Queen\" and \"King\": 0.7252610325813293\n",
      "Distance between \"Queen\" and \"Woman\": 0.4066064953804016\n",
      "Distance between \"Queen\" and \"Man\": 0.27109137177467346\n",
      "Distance between \"King\" and \"Woman\": 0.2655659019947052\n",
      "Distance between \"King\" and \"Man\": 0.4088461697101593\n",
      "Distance between \"Woman\" and \"Man\": 0.7401744723320007\n"
     ]
    }
   ],
   "source": [
    "import itertools\n",
    "import scipy\n",
    "\n",
    "\n",
    "def distance(x, y):\n",
    "    return 1 - scipy.spatial.distance.cosine(x, y)\n",
    "\n",
    "\n",
    "words = ['Queen', 'King', 'Woman', 'Man']\n",
    "\n",
    "for w1, w2 in itertools.combinations(words, 2):\n",
    "    print(f'Distance between \"{w1}\" and \"{w2}\": {distance(nlp(w1).vector, nlp(w2).vector)}')"
   ]
  },
  {
   "cell_type": "code",
   "execution_count": 32,
   "metadata": {},
   "outputs": [
    {
     "data": {
      "text/plain": [
       "0.7880843877792358"
      ]
     },
     "execution_count": 32,
     "metadata": {},
     "output_type": "execute_result"
    }
   ],
   "source": [
    "distance(\n",
    "    x=nlp('King').vector - nlp('Man').vector + nlp('Woman').vector,\n",
    "    y=nlp('Queen').vector\n",
    ")"
   ]
  },
  {
   "cell_type": "code",
   "execution_count": 33,
   "metadata": {},
   "outputs": [
    {
     "data": {
      "text/plain": [
       "0.2540188431739807"
      ]
     },
     "execution_count": 33,
     "metadata": {},
     "output_type": "execute_result"
    }
   ],
   "source": [
    "distance(\n",
    "    x=nlp('Potato').vector,\n",
    "    y=nlp('Queen').vector\n",
    ")"
   ]
  },
  {
   "cell_type": "code",
   "execution_count": 34,
   "metadata": {},
   "outputs": [
    {
     "data": {
      "text/plain": [
       "0.8020331263542175"
      ]
     },
     "execution_count": 34,
     "metadata": {},
     "output_type": "execute_result"
    }
   ],
   "source": [
    "distance(\n",
    "    x=nlp('Brought').vector - nlp('Bring').vector + nlp('Seek').vector,\n",
    "    y=nlp('Sought').vector\n",
    ")"
   ]
  },
  {
   "cell_type": "code",
   "execution_count": 35,
   "metadata": {},
   "outputs": [
    {
     "data": {
      "text/plain": [
       "0.08445359766483307"
      ]
     },
     "execution_count": 35,
     "metadata": {},
     "output_type": "execute_result"
    }
   ],
   "source": [
    "distance(\n",
    "    x=nlp('Brought').vector - nlp('Bring').vector + nlp('Seek').vector,\n",
    "    y=nlp('Potato').vector\n",
    ")"
   ]
  },
  {
   "cell_type": "markdown",
   "metadata": {},
   "source": [
    "Let's convert the newsgroup corpus to vectors. This takes a bit of time..."
   ]
  },
  {
   "cell_type": "code",
   "execution_count": 36,
   "metadata": {},
   "outputs": [],
   "source": [
    "vectors = np.array([\n",
    "    nlp(str(x)).vector\n",
    "    for x in X\n",
    "])"
   ]
  },
  {
   "cell_type": "code",
   "execution_count": 37,
   "metadata": {},
   "outputs": [
    {
     "data": {
      "text/plain": [
       "(11314, 300)"
      ]
     },
     "execution_count": 37,
     "metadata": {},
     "output_type": "execute_result"
    }
   ],
   "source": [
    "vectors.shape"
   ]
  },
  {
   "cell_type": "code",
   "execution_count": 45,
   "metadata": {},
   "outputs": [
    {
     "name": "stderr",
     "output_type": "stream",
     "text": [
      "/home/max/anaconda3/lib/python3.7/site-packages/sklearn/linear_model/logistic.py:947: ConvergenceWarning: lbfgs failed to converge. Increase the number of iterations.\n",
      "  \"of iterations.\", ConvergenceWarning)\n"
     ]
    },
    {
     "name": "stdout",
     "output_type": "stream",
     "text": [
      "Score for fold 0: 78.29%\n"
     ]
    },
    {
     "name": "stderr",
     "output_type": "stream",
     "text": [
      "/home/max/anaconda3/lib/python3.7/site-packages/sklearn/linear_model/logistic.py:947: ConvergenceWarning: lbfgs failed to converge. Increase the number of iterations.\n",
      "  \"of iterations.\", ConvergenceWarning)\n"
     ]
    },
    {
     "name": "stdout",
     "output_type": "stream",
     "text": [
      "Score for fold 1: 76.35%\n",
      "Score for fold 2: 77.96%\n"
     ]
    },
    {
     "name": "stderr",
     "output_type": "stream",
     "text": [
      "/home/max/anaconda3/lib/python3.7/site-packages/sklearn/linear_model/logistic.py:947: ConvergenceWarning: lbfgs failed to converge. Increase the number of iterations.\n",
      "  \"of iterations.\", ConvergenceWarning)\n"
     ]
    }
   ],
   "source": [
    "model = pipeline.make_pipeline(\n",
    "    preprocessing.StandardScaler(),\n",
    "    linear_model.LogisticRegression(solver='lbfgs', multi_class='auto')\n",
    ")\n",
    "    \n",
    "cv = model_selection.KFold(n_splits=3, shuffle=True, random_state=42)\n",
    "\n",
    "val_scores = []\n",
    "\n",
    "for i, (fit_idx, val_idx) in enumerate(cv.split(vectors, y)):\n",
    "    \n",
    "    X_fit, y_fit = vectors[fit_idx], y[fit_idx]\n",
    "    X_val, y_val = vectors[val_idx], y[val_idx]\n",
    "\n",
    "    model = model.fit(X_fit, y_fit)\n",
    "    y_pred = model.predict(X_val)\n",
    "    \n",
    "    score = metrics.accuracy_score(y_val, y_pred)\n",
    "    val_scores.append(score)\n",
    "    \n",
    "    print(f'Score for fold {i}: {100 * score:.2f}%')"
   ]
  },
  {
   "cell_type": "markdown",
   "metadata": {},
   "source": [
    "This isn't working as well as TF-IDF, also the logistic regression seems to be having trouble converging. This is probably because the word embeddings are not \"good enough\" because they are too generalistic. Ideally we should train embeddings for our specific dataset."
   ]
  },
  {
   "cell_type": "markdown",
   "metadata": {},
   "source": [
    "## How does it work?\n",
    "\n",
    "- Words embeddings can be obtained in different ways\n",
    "- The general idea is to teach a neural network to predict a word based on a context:\n",
    "    - CBOW: predict a word given a window of past words.\n",
    "    - Skip-gram: the input is the target word, while the outputs are the words surrounding the target words. \n",
    "- Word2Vec stands for the approach of converting a word/sentence to a vector, CBOW and Skip-Gram are methods based on this approach.\n",
    "- In each case, the words are represented as binary vectors of 0s and 1s\n",
    "- The embeddings are the weights of the intermediate layer! \n",
    "\n",
    "Let's take a closer look at skip-gram model.\n",
    "\n",
    "![skip-gram](skip-gram.png)"
   ]
  },
  {
   "cell_type": "markdown",
   "metadata": {},
   "source": [
    "The basic model used to obtain embeddings is thus a simple neural network with one hidden layer. During training, the inputs and outputs are one-hot encoded versions of the word tokens. The hidden layer is thus a linear combination of words. If you think about it this is thus very similar to [Latent Dirichlet Allocation (LDA)](https://scikit-learn.org/stable/modules/generated/sklearn.decomposition.LatentDirichletAllocation.html) but without the parametric constraints.\n",
    "\n",
    "Naturally, word embeddings is a very active research field and many variants have been proposed.  "
   ]
  },
  {
   "cell_type": "markdown",
   "metadata": {},
   "source": [
    "## Training a word embedding model"
   ]
  },
  {
   "cell_type": "markdown",
   "metadata": {},
   "source": [
    "We'll use scikit-learn to clean the text."
   ]
  },
  {
   "cell_type": "code",
   "execution_count": 46,
   "metadata": {},
   "outputs": [
    {
     "data": {
      "text/plain": [
       "'lerxst wam umd edu thing subject car nntp posting host rac3 wam umd edu organization university maryland college park lines 15 wondering enlighten car saw day door sports car looked late 60s early 70s called bricklin doors really small addition bumper separate rest body know tellme model engine specs years production car history info funky looking car mail thanks il brought neighborhood lerxst'"
      ]
     },
     "execution_count": 46,
     "metadata": {},
     "output_type": "execute_result"
    }
   ],
   "source": [
    "from sklearn import preprocessing\n",
    "\n",
    "counter = feature_extraction.text.CountVectorizer(min_df=0.01, max_df=0.3, stop_words='english')\n",
    "analyzer = counter.build_analyzer()\n",
    "' '.join(analyzer(X[0]))"
   ]
  },
  {
   "cell_type": "markdown",
   "metadata": {},
   "source": [
    "Clean all the documents."
   ]
  },
  {
   "cell_type": "code",
   "execution_count": 47,
   "metadata": {},
   "outputs": [],
   "source": [
    "docs = [analyzer(x) for x in X]"
   ]
  },
  {
   "cell_type": "markdown",
   "metadata": {},
   "source": [
    "We'll use [GenSim](https://radimrehurek.com/gensim/models/word2vec.html) to obtain our word embeddings. The documentation for Word2Vec is available [here](https://radimrehurek.com/gensim/models/word2vec.html#gensim.models.word2vec.Word2Vec)."
   ]
  },
  {
   "cell_type": "code",
   "execution_count": 52,
   "metadata": {},
   "outputs": [],
   "source": [
    "from gensim.models import Word2Vec\n",
    "\n",
    "w2v = Word2Vec(docs, size=100, window=5, min_count=1, workers=4)"
   ]
  },
  {
   "cell_type": "code",
   "execution_count": 54,
   "metadata": {},
   "outputs": [
    {
     "name": "stderr",
     "output_type": "stream",
     "text": [
      "/home/max/anaconda3/lib/python3.7/site-packages/ipykernel_launcher.py:1: DeprecationWarning: Call to deprecated `__getitem__` (Method will be removed in 4.0.0, use self.wv.__getitem__() instead).\n",
      "  \"\"\"Entry point for launching an IPython kernel.\n"
     ]
    },
    {
     "ename": "KeyError",
     "evalue": "\"word 'Queen' not in vocabulary\"",
     "output_type": "error",
     "traceback": [
      "\u001b[0;31m---------------------------------------------------------------------------\u001b[0m",
      "\u001b[0;31mKeyError\u001b[0m                                  Traceback (most recent call last)",
      "\u001b[0;32m<ipython-input-54-d44a473c4b43>\u001b[0m in \u001b[0;36m<module>\u001b[0;34m\u001b[0m\n\u001b[0;32m----> 1\u001b[0;31m \u001b[0mw2v\u001b[0m\u001b[0;34m[\u001b[0m\u001b[0;34m'Queen'\u001b[0m\u001b[0;34m]\u001b[0m\u001b[0;34m\u001b[0m\u001b[0;34m\u001b[0m\u001b[0m\n\u001b[0m",
      "\u001b[0;32m~/anaconda3/lib/python3.7/site-packages/gensim/utils.py\u001b[0m in \u001b[0;36mnew_func1\u001b[0;34m(*args, **kwargs)\u001b[0m\n\u001b[1;32m   1445\u001b[0m                     \u001b[0mstacklevel\u001b[0m\u001b[0;34m=\u001b[0m\u001b[0;36m2\u001b[0m\u001b[0;34m\u001b[0m\u001b[0;34m\u001b[0m\u001b[0m\n\u001b[1;32m   1446\u001b[0m                 )\n\u001b[0;32m-> 1447\u001b[0;31m                 \u001b[0;32mreturn\u001b[0m \u001b[0mfunc\u001b[0m\u001b[0;34m(\u001b[0m\u001b[0;34m*\u001b[0m\u001b[0margs\u001b[0m\u001b[0;34m,\u001b[0m \u001b[0;34m**\u001b[0m\u001b[0mkwargs\u001b[0m\u001b[0;34m)\u001b[0m\u001b[0;34m\u001b[0m\u001b[0;34m\u001b[0m\u001b[0m\n\u001b[0m\u001b[1;32m   1448\u001b[0m \u001b[0;34m\u001b[0m\u001b[0m\n\u001b[1;32m   1449\u001b[0m             \u001b[0;32mreturn\u001b[0m \u001b[0mnew_func1\u001b[0m\u001b[0;34m\u001b[0m\u001b[0;34m\u001b[0m\u001b[0m\n",
      "\u001b[0;32m~/anaconda3/lib/python3.7/site-packages/gensim/models/word2vec.py\u001b[0m in \u001b[0;36m__getitem__\u001b[0;34m(self, words)\u001b[0m\n\u001b[1;32m   1119\u001b[0m \u001b[0;34m\u001b[0m\u001b[0m\n\u001b[1;32m   1120\u001b[0m         \"\"\"\n\u001b[0;32m-> 1121\u001b[0;31m         \u001b[0;32mreturn\u001b[0m \u001b[0mself\u001b[0m\u001b[0;34m.\u001b[0m\u001b[0mwv\u001b[0m\u001b[0;34m.\u001b[0m\u001b[0m__getitem__\u001b[0m\u001b[0;34m(\u001b[0m\u001b[0mwords\u001b[0m\u001b[0;34m)\u001b[0m\u001b[0;34m\u001b[0m\u001b[0;34m\u001b[0m\u001b[0m\n\u001b[0m\u001b[1;32m   1122\u001b[0m \u001b[0;34m\u001b[0m\u001b[0m\n\u001b[1;32m   1123\u001b[0m     \u001b[0;34m@\u001b[0m\u001b[0mdeprecated\u001b[0m\u001b[0;34m(\u001b[0m\u001b[0;34m\"Method will be removed in 4.0.0, use self.wv.__contains__() instead\"\u001b[0m\u001b[0;34m)\u001b[0m\u001b[0;34m\u001b[0m\u001b[0;34m\u001b[0m\u001b[0m\n",
      "\u001b[0;32m~/anaconda3/lib/python3.7/site-packages/gensim/models/keyedvectors.py\u001b[0m in \u001b[0;36m__getitem__\u001b[0;34m(self, entities)\u001b[0m\n\u001b[1;32m    351\u001b[0m         \u001b[0;32mif\u001b[0m \u001b[0misinstance\u001b[0m\u001b[0;34m(\u001b[0m\u001b[0mentities\u001b[0m\u001b[0;34m,\u001b[0m \u001b[0mstring_types\u001b[0m\u001b[0;34m)\u001b[0m\u001b[0;34m:\u001b[0m\u001b[0;34m\u001b[0m\u001b[0;34m\u001b[0m\u001b[0m\n\u001b[1;32m    352\u001b[0m             \u001b[0;31m# allow calls like trained_model['office'], as a shorthand for trained_model[['office']]\u001b[0m\u001b[0;34m\u001b[0m\u001b[0;34m\u001b[0m\u001b[0;34m\u001b[0m\u001b[0m\n\u001b[0;32m--> 353\u001b[0;31m             \u001b[0;32mreturn\u001b[0m \u001b[0mself\u001b[0m\u001b[0;34m.\u001b[0m\u001b[0mget_vector\u001b[0m\u001b[0;34m(\u001b[0m\u001b[0mentities\u001b[0m\u001b[0;34m)\u001b[0m\u001b[0;34m\u001b[0m\u001b[0;34m\u001b[0m\u001b[0m\n\u001b[0m\u001b[1;32m    354\u001b[0m \u001b[0;34m\u001b[0m\u001b[0m\n\u001b[1;32m    355\u001b[0m         \u001b[0;32mreturn\u001b[0m \u001b[0mvstack\u001b[0m\u001b[0;34m(\u001b[0m\u001b[0;34m[\u001b[0m\u001b[0mself\u001b[0m\u001b[0;34m.\u001b[0m\u001b[0mget_vector\u001b[0m\u001b[0;34m(\u001b[0m\u001b[0mentity\u001b[0m\u001b[0;34m)\u001b[0m \u001b[0;32mfor\u001b[0m \u001b[0mentity\u001b[0m \u001b[0;32min\u001b[0m \u001b[0mentities\u001b[0m\u001b[0;34m]\u001b[0m\u001b[0;34m)\u001b[0m\u001b[0;34m\u001b[0m\u001b[0;34m\u001b[0m\u001b[0m\n",
      "\u001b[0;32m~/anaconda3/lib/python3.7/site-packages/gensim/models/keyedvectors.py\u001b[0m in \u001b[0;36mget_vector\u001b[0;34m(self, word)\u001b[0m\n\u001b[1;32m    469\u001b[0m \u001b[0;34m\u001b[0m\u001b[0m\n\u001b[1;32m    470\u001b[0m     \u001b[0;32mdef\u001b[0m \u001b[0mget_vector\u001b[0m\u001b[0;34m(\u001b[0m\u001b[0mself\u001b[0m\u001b[0;34m,\u001b[0m \u001b[0mword\u001b[0m\u001b[0;34m)\u001b[0m\u001b[0;34m:\u001b[0m\u001b[0;34m\u001b[0m\u001b[0;34m\u001b[0m\u001b[0m\n\u001b[0;32m--> 471\u001b[0;31m         \u001b[0;32mreturn\u001b[0m \u001b[0mself\u001b[0m\u001b[0;34m.\u001b[0m\u001b[0mword_vec\u001b[0m\u001b[0;34m(\u001b[0m\u001b[0mword\u001b[0m\u001b[0;34m)\u001b[0m\u001b[0;34m\u001b[0m\u001b[0;34m\u001b[0m\u001b[0m\n\u001b[0m\u001b[1;32m    472\u001b[0m \u001b[0;34m\u001b[0m\u001b[0m\n\u001b[1;32m    473\u001b[0m     \u001b[0;32mdef\u001b[0m \u001b[0mwords_closer_than\u001b[0m\u001b[0;34m(\u001b[0m\u001b[0mself\u001b[0m\u001b[0;34m,\u001b[0m \u001b[0mw1\u001b[0m\u001b[0;34m,\u001b[0m \u001b[0mw2\u001b[0m\u001b[0;34m)\u001b[0m\u001b[0;34m:\u001b[0m\u001b[0;34m\u001b[0m\u001b[0;34m\u001b[0m\u001b[0m\n",
      "\u001b[0;32m~/anaconda3/lib/python3.7/site-packages/gensim/models/keyedvectors.py\u001b[0m in \u001b[0;36mword_vec\u001b[0;34m(self, word, use_norm)\u001b[0m\n\u001b[1;32m    466\u001b[0m             \u001b[0;32mreturn\u001b[0m \u001b[0mresult\u001b[0m\u001b[0;34m\u001b[0m\u001b[0;34m\u001b[0m\u001b[0m\n\u001b[1;32m    467\u001b[0m         \u001b[0;32melse\u001b[0m\u001b[0;34m:\u001b[0m\u001b[0;34m\u001b[0m\u001b[0;34m\u001b[0m\u001b[0m\n\u001b[0;32m--> 468\u001b[0;31m             \u001b[0;32mraise\u001b[0m \u001b[0mKeyError\u001b[0m\u001b[0;34m(\u001b[0m\u001b[0;34m\"word '%s' not in vocabulary\"\u001b[0m \u001b[0;34m%\u001b[0m \u001b[0mword\u001b[0m\u001b[0;34m)\u001b[0m\u001b[0;34m\u001b[0m\u001b[0;34m\u001b[0m\u001b[0m\n\u001b[0m\u001b[1;32m    469\u001b[0m \u001b[0;34m\u001b[0m\u001b[0m\n\u001b[1;32m    470\u001b[0m     \u001b[0;32mdef\u001b[0m \u001b[0mget_vector\u001b[0m\u001b[0;34m(\u001b[0m\u001b[0mself\u001b[0m\u001b[0;34m,\u001b[0m \u001b[0mword\u001b[0m\u001b[0;34m)\u001b[0m\u001b[0;34m:\u001b[0m\u001b[0;34m\u001b[0m\u001b[0;34m\u001b[0m\u001b[0m\n",
      "\u001b[0;31mKeyError\u001b[0m: \"word 'Queen' not in vocabulary\""
     ]
    }
   ],
   "source": [
    "w2v['Queen']"
   ]
  },
  {
   "cell_type": "code",
   "execution_count": 83,
   "metadata": {},
   "outputs": [
    {
     "name": "stderr",
     "output_type": "stream",
     "text": [
      "/home/max/anaconda3/lib/python3.7/site-packages/ipykernel_launcher.py:1: DeprecationWarning: Call to deprecated `most_similar` (Method will be removed in 4.0.0, use self.wv.most_similar() instead).\n",
      "  \"\"\"Entry point for launching an IPython kernel.\n"
     ]
    },
    {
     "data": {
      "text/plain": [
       "[('college', 0.8586224317550659),\n",
       " ('univ', 0.8255643844604492),\n",
       " ('dept', 0.8070756793022156),\n",
       " ('blacksburg', 0.7937623858451843),\n",
       " ('department', 0.7886319756507874),\n",
       " ('youngstown', 0.7874414920806885),\n",
       " ('bowling', 0.7770978212356567),\n",
       " ('disorganized', 0.7719284296035767),\n",
       " ('physics', 0.771500825881958),\n",
       " ('philosphy', 0.7670626044273376)]"
      ]
     },
     "execution_count": 83,
     "metadata": {},
     "output_type": "execute_result"
    }
   ],
   "source": [
    "w2v.most_similar('university')"
   ]
  },
  {
   "cell_type": "markdown",
   "metadata": {},
   "source": [
    "Let's save the word embeddings to the disk and load them spacy. "
   ]
  },
  {
   "cell_type": "code",
   "execution_count": 78,
   "metadata": {},
   "outputs": [],
   "source": [
    "w2v.wv.save_word2vec_format('newsgroup_embeddings.txt')"
   ]
  },
  {
   "cell_type": "markdown",
   "metadata": {},
   "source": [
    "Load the vectors into spacy."
   ]
  },
  {
   "cell_type": "code",
   "execution_count": 86,
   "metadata": {},
   "outputs": [
    {
     "data": {
      "text/plain": [
       "(129796, 100)"
      ]
     },
     "execution_count": 86,
     "metadata": {},
     "output_type": "execute_result"
    }
   ],
   "source": [
    "w2v.wv.vectors.shape"
   ]
  },
  {
   "cell_type": "code",
   "execution_count": 91,
   "metadata": {},
   "outputs": [],
   "source": [
    "# Inspired from https://stackoverflow.com/questions/42094180/spacy-how-to-load-google-news-word2vec-vectors\n",
    "\n",
    "# Init blank english spacy nlp object\n",
    "nlp = spacy.blank('en')\n",
    "\n",
    "# Loop through range of all indexes, get words associated with each index\n",
    "keys = []\n",
    "for idx in range(w2v.wv.vectors.shape[0]):\n",
    "    keys.append(w2v.wv.index2word[idx])\n",
    "\n",
    "# Set the vectors for our nlp object to\n",
    "nlp.vocab.vectors = spacy.vocab.Vectors(data=w2v.wv.vectors, keys=keys)"
   ]
  },
  {
   "cell_type": "code",
   "execution_count": 92,
   "metadata": {},
   "outputs": [
    {
     "data": {
      "text/plain": [
       "(129796, 100)"
      ]
     },
     "execution_count": 92,
     "metadata": {},
     "output_type": "execute_result"
    }
   ],
   "source": [
    "nlp.vocab.vectors.shape"
   ]
  },
  {
   "cell_type": "markdown",
   "metadata": {},
   "source": [
    "Let's rerun our pipeline and see if using custom embeddings works better than using generic ones."
   ]
  },
  {
   "cell_type": "code",
   "execution_count": 93,
   "metadata": {
    "scrolled": true
   },
   "outputs": [
    {
     "name": "stderr",
     "output_type": "stream",
     "text": [
      "/home/max/anaconda3/lib/python3.7/site-packages/sklearn/linear_model/logistic.py:947: ConvergenceWarning: lbfgs failed to converge. Increase the number of iterations.\n",
      "  \"of iterations.\", ConvergenceWarning)\n"
     ]
    },
    {
     "name": "stdout",
     "output_type": "stream",
     "text": [
      "Score for fold 0: 58.43%\n"
     ]
    },
    {
     "name": "stderr",
     "output_type": "stream",
     "text": [
      "/home/max/anaconda3/lib/python3.7/site-packages/sklearn/linear_model/logistic.py:947: ConvergenceWarning: lbfgs failed to converge. Increase the number of iterations.\n",
      "  \"of iterations.\", ConvergenceWarning)\n"
     ]
    },
    {
     "name": "stdout",
     "output_type": "stream",
     "text": [
      "Score for fold 1: 57.84%\n",
      "Score for fold 2: 56.85%\n"
     ]
    },
    {
     "name": "stderr",
     "output_type": "stream",
     "text": [
      "/home/max/anaconda3/lib/python3.7/site-packages/sklearn/linear_model/logistic.py:947: ConvergenceWarning: lbfgs failed to converge. Increase the number of iterations.\n",
      "  \"of iterations.\", ConvergenceWarning)\n"
     ]
    }
   ],
   "source": [
    "vectors = np.array([\n",
    "    nlp(str(x)).vector\n",
    "    for x in X\n",
    "])\n",
    "\n",
    "model = pipeline.make_pipeline(\n",
    "    preprocessing.StandardScaler(),\n",
    "    linear_model.LogisticRegression(solver='lbfgs', multi_class='auto')\n",
    ")\n",
    "    \n",
    "cv = model_selection.KFold(n_splits=3, shuffle=True, random_state=42)\n",
    "\n",
    "val_scores = []\n",
    "\n",
    "for i, (fit_idx, val_idx) in enumerate(cv.split(vectors, y)):\n",
    "    \n",
    "    X_fit, y_fit = vectors[fit_idx], y[fit_idx]\n",
    "    X_val, y_val = vectors[val_idx], y[val_idx]\n",
    "\n",
    "    model = model.fit(X_fit, y_fit)\n",
    "    y_pred = model.predict(X_val)\n",
    "    \n",
    "    score = metrics.accuracy_score(y_val, y_pred)\n",
    "    val_scores.append(score)\n",
    "    \n",
    "    print(f'Score for fold {i}: {100 * score:.2f}%')"
   ]
  },
  {
   "cell_type": "markdown",
   "metadata": {},
   "source": [
    "We can also train word embeddings as part of a classification pipeline. This was in fact how word embeddings were first introduced in [this 2003 paper](http://www.jmlr.org/papers/volume3/bengio03a/bengio03a.pdf)."
   ]
  },
  {
   "cell_type": "code",
   "execution_count": null,
   "metadata": {},
   "outputs": [],
   "source": [
    "from keras import layers\n",
    "from keras import models\n",
    "\n",
    "# \n",
    "vocab_size = 100\n",
    "max_length = 32\n",
    "\n",
    "# Define the model\n",
    "model = models.Sequential([\n",
    "    layers.embeddings.Embedding(vocab_size, 8, input_length=max_length),\n",
    "    layers.Flatten(),\n",
    "    layers.Dense(1, activation='sigmoid')\n",
    "])\n",
    "\n",
    "model.compile(optimizer='adam', loss='binary_crossentropy', metrics=['acc'])\n",
    "\n",
    "print(model.summary())"
   ]
  },
  {
   "cell_type": "markdown",
   "metadata": {},
   "source": [
    "## Downsides of word embeddings\n",
    "\n",
    "- Words with multiple meanings (polysemy) have a single representation, which obviously isn't correct\n",
    "- No clear to combine words when vectorizing a sentence, by default people use averaging but other methods exist (see [doc2vec](https://medium.com/wisio/a-gentle-introduction-to-doc2vec-db3e8c0cce5e))"
   ]
  },
  {
   "cell_type": "markdown",
   "metadata": {},
   "source": [
    "## Recurrent neural networks (RNNs)\n",
    "\n",
    "- Both the traditional approach and word embeddings do not take into account the structure of a sentence.\n",
    "- Ideally, we would like to take into account the sequential nature of a sentence instead of considering words individually. For instance, we want our model to understand that \"I don't like it\", even though \"like\" is part of the sentence.\n",
    "\n",
    "**Some stuff worth reading when you're bored:**\n",
    "\n",
    "- [The Unreasonable Effectiveness of Recurrent Neural Networks - Andrej Karpathy](http://karpathy.github.io/2015/05/21/rnn-effectiveness/)\n",
    "- [Understanding LSTM Networks - Christopher Olah](https://colah.github.io/posts/2015-08-Understanding-LSTMs/)\n",
    "- [Recurrent Neural Networks Tutorial - WildML](http://www.wildml.com/2015/09/recurrent-neural-networks-tutorial-part-1-introduction-to-rnns/)\n",
    "- [How to implement a simple RNN - Peter Roelants](https://peterroelants.github.io/posts/rnn-implementation-part01/)\n",
    "\n",
    "The basic idea of RNNs is to learn from *sequences*. For example: a sequence of timeseries observations, a succession of words, a sequence of [drawing strokes](https://magenta.tensorflow.org/assets/sketch_rnn_demo/index.html)...\n",
    "\n",
    "![charseq.jpeg](charseq.jpeg)\n",
    "\n",
    "In a standard neural network, our model is schematically:\n",
    "\n",
    "```\n",
    "input -> hidden -> output\n",
    "```\n",
    "\n",
    "For instance, we could have the current value of a stock and we would like to predict it's value in ten minutes. The issue is that we have no memory of the past stock prices. Maybe there's a downward trend, maybe that the pattern of past values is meaningful. We need some way to memorize past information because the IID assumption is violated. A traditional way is through auto-regressive models:\n",
    "\n",
    "```\n",
    "(input + prev_input) -> hidden -> output\n",
    "```\n",
    "\n",
    "This is a well-known approach (for instance the ARMA model for timeseries), but has it's limitations. If we unroll this over 4 iterations, we get:\n",
    "\n",
    "```\n",
    "(input + empty_input) -> hidden -> output\n",
    "(input + prev_input) -> hidden -> output\n",
    "(input + prev_input) -> hidden -> output\n",
    "(input + prev_input) -> hidden -> output\n",
    "```\n",
    "\n",
    "Let's the color the states to visualize what the model can memorize:\n",
    "\n",
    "<pre>\n",
    "<code>\n",
    "(<font color='blue'>input</font> + empty_input) -> <font color='blue'>hidden</font> -> output\n",
    "(<font color='red'>input</font> + prev_<font color='blue'>input</font>) -> <font color='red'>hid</font><font color='blue'>den</font> -> output\n",
    "(<font color='green'>input</font> + prev_<font color='red'>input</font>) -> <font color='green'>hid</font><font color='red'>den</font> -> output\n",
    "(<font color='orange'>input</font> + prev_<font color='green'>input</font>) -> <font color='orange'>hid</font><font color='green'>den</font> -> output\n",
    "</code>\n",
    "</pre>\n",
    "\n",
    "In an RNN, instead of using the previous input layer, we use the previous hidden state. Schematically this is:\n",
    "\n",
    "```\n",
    "(input + prev_hidden) -> hidden -> output\n",
    "```\n",
    "\n",
    "If we unroll this for 4 iterations and color it as we did before, we obtain:\n",
    "\n",
    "<pre>\n",
    "<code>\n",
    "(<font color='blue'>input</font> + empty_input) -> <font color='blue'>hidden</font> -> output\n",
    "(<font color='red'>input</font> + prev_<font color='blue'>hidden</font>) -> <font color='red'>hid</font><font color='blue'>den</font> -> output\n",
    "(<font color='green'>input</font> + prev_<font color='red'>hid</font><font color='blue'>den</font>) -> <font color='green'>hi</font><font color='red'>dd</font><font color='blue'>en</font> -> output\n",
    "(<font color='orange'>input</font> + prev_<font color='green'>hi</font><font color='red'>dd</font><font color='blue'>en</font>) -> <font color='orange'>hi</font><font color='green'>d</font><font color='red'>d</font><font color='blue'>en</font> -> output\n",
    "</code>\n",
    "</pre>\n",
    "\n",
    "This kind of recursion is smart because it implicitely has access to all the previous inputs. It's the key insight of RNNs. The rest of RNN theory and methodology is about learning to remember/forget. By the way, the following visualization is taken from [here](https://iamtrask.github.io/2015/11/15/anyone-can-code-lstm)."
   ]
  },
  {
   "cell_type": "markdown",
   "metadata": {},
   "source": [
    "Now let's see if we can use an RNN to improve the score on our newsgroup classification task."
   ]
  },
  {
   "cell_type": "code",
   "execution_count": 98,
   "metadata": {},
   "outputs": [
    {
     "name": "stdout",
     "output_type": "stream",
     "text": [
      "Found 244134 unique tokens.\n"
     ]
    }
   ],
   "source": [
    "from keras.preprocessing.text import Tokenizer\n",
    "\n",
    "tokenizer = Tokenizer(num_words=50000, filters='!\"#$%&()*+,-./:;<=>?@[\\]^_`{|}~', lower=True)\n",
    "tokenizer.fit_on_texts(X)\n",
    "word_index = tokenizer.word_index\n",
    "print(f'Found {len(word_index)} unique tokens.')"
   ]
  },
  {
   "cell_type": "code",
   "execution_count": 99,
   "metadata": {},
   "outputs": [
    {
     "data": {
      "text/plain": [
       "{'the': 1,\n",
       " '\\n': 2,\n",
       " 'to': 3,\n",
       " 'of': 4,\n",
       " \"'ax\": 5,\n",
       " 'a': 6,\n",
       " 'and': 7,\n",
       " 'in': 8,\n",
       " 'is': 9,\n",
       " 'i': 10,\n",
       " 'that': 11,\n",
       " 'it': 12,\n",
       " 'for': 13,\n",
       " 'you': 14,\n",
       " 'from': 15,\n",
       " '\\n\\n': 16,\n",
       " 'on': 17,\n",
       " 'be': 18,\n",
       " 'this': 19,\n",
       " 'not': 20,\n",
       " 'are': 21,\n",
       " 'have': 22,\n",
       " 'edu': 23,\n",
       " 'with': 24,\n",
       " 'as': 25,\n",
       " 'or': 26,\n",
       " '1': 27,\n",
       " 'was': 28,\n",
       " 'but': 29,\n",
       " 'if': 30,\n",
       " 'they': 31,\n",
       " '\\nsubject': 32,\n",
       " 'at': 33,\n",
       " 'by': 34,\n",
       " 'com': 35,\n",
       " 'an': 36,\n",
       " 'can': 37,\n",
       " 'my': 38,\n",
       " '2': 39,\n",
       " 'will': 40,\n",
       " 'all': 41,\n",
       " 're': 42,\n",
       " 'what': 43,\n",
       " '3': 44,\n",
       " 'do': 45,\n",
       " 'would': 46,\n",
       " 'one': 47,\n",
       " '0': 48,\n",
       " 'there': 49,\n",
       " 'writes': 50,\n",
       " 'about': 51,\n",
       " 'we': 52,\n",
       " 'he': 53,\n",
       " 'has': 54,\n",
       " 'so': 55,\n",
       " 'your': 56,\n",
       " 'no': 57,\n",
       " 'article': 58,\n",
       " 'me': 59,\n",
       " 'any': 60,\n",
       " 'some': 61,\n",
       " 'who': 62,\n",
       " 'out': 63,\n",
       " 'posting': 64,\n",
       " 'like': 65,\n",
       " 'which': 66,\n",
       " 'people': 67,\n",
       " 'more': 68,\n",
       " \"don't\": 69,\n",
       " 'r': 70,\n",
       " 'q': 71,\n",
       " 'w': 72,\n",
       " 'when': 73,\n",
       " '4': 74,\n",
       " 'host': 75,\n",
       " 'up': 76,\n",
       " 'just': 77,\n",
       " 'were': 78,\n",
       " 'p': 79,\n",
       " '5': 80,\n",
       " 'know': 81,\n",
       " 's': 82,\n",
       " 'their': 83,\n",
       " 'how': 84,\n",
       " 'get': 85,\n",
       " 'c': 86,\n",
       " 'other': 87,\n",
       " 'only': 88,\n",
       " 'them': 89,\n",
       " \"'\\nmax\": 90,\n",
       " '7': 91,\n",
       " 'university': 92,\n",
       " 'g': 93,\n",
       " 'had': 94,\n",
       " 'think': 95,\n",
       " 'than': 96,\n",
       " 'x': 97,\n",
       " 'been': 98,\n",
       " 'o': 99,\n",
       " 'his': 100,\n",
       " 'use': 101,\n",
       " '8': 102,\n",
       " 'also': 103,\n",
       " 'time': 104,\n",
       " '\\n\\t': 105,\n",
       " 'e': 106,\n",
       " \"'\": 107,\n",
       " 'does': 108,\n",
       " 'new': 109,\n",
       " '6': 110,\n",
       " 'd': 111,\n",
       " 'u': 112,\n",
       " 'then': 113,\n",
       " '\\norganization': 114,\n",
       " 'n': 115,\n",
       " 'good': 116,\n",
       " 'should': 117,\n",
       " \"it's\": 118,\n",
       " 'am': 119,\n",
       " 'b': 120,\n",
       " 'these': 121,\n",
       " 'the\\n': 122,\n",
       " 'could': 123,\n",
       " 'us': 124,\n",
       " \"i'm\": 125,\n",
       " 't': 126,\n",
       " 'may': 127,\n",
       " 'cs': 128,\n",
       " 'm': 129,\n",
       " 'very': 130,\n",
       " 'why': 131,\n",
       " 'even': 132,\n",
       " 'because': 133,\n",
       " 'v': 134,\n",
       " 'well': 135,\n",
       " '9': 136,\n",
       " 'way': 137,\n",
       " 'now': 138,\n",
       " 'into': 139,\n",
       " 'see': 140,\n",
       " 'two': 141,\n",
       " 'make': 142,\n",
       " 'much': 143,\n",
       " 'ca': 144,\n",
       " 'many': 145,\n",
       " '\\nm': 146,\n",
       " 'those': 147,\n",
       " 'such': 148,\n",
       " 'first': 149,\n",
       " 'l': 150,\n",
       " 'most': 151,\n",
       " 'k': 152,\n",
       " 'say': 153,\n",
       " 'right': 154,\n",
       " 'where': 155,\n",
       " 'system': 156,\n",
       " 'h': 157,\n",
       " 'god': 158,\n",
       " '\\n\\ni': 159,\n",
       " 'z': 160,\n",
       " 'want': 161,\n",
       " 'said': 162,\n",
       " 'did': 163,\n",
       " 'need': 164,\n",
       " 'used': 165,\n",
       " 'over': 166,\n",
       " 'its': 167,\n",
       " 'work': 168,\n",
       " 'our': 169,\n",
       " 'go': 170,\n",
       " 'same': 171,\n",
       " 'anyone': 172,\n",
       " 'being': 173,\n",
       " 'here': 174,\n",
       " 'state': 175,\n",
       " 'j': 176,\n",
       " 'too': 177,\n",
       " 'after': 178,\n",
       " '\\nlines': 179,\n",
       " 'problem': 180,\n",
       " '\\n\\n\\n': 181,\n",
       " 'him': 182,\n",
       " 'really': 183,\n",
       " 'computer': 184,\n",
       " 'f': 185,\n",
       " 'something': 186,\n",
       " 'mail': 187,\n",
       " 'off': 188,\n",
       " '10': 189,\n",
       " 'believe': 190,\n",
       " 'going': 191,\n",
       " 'back': 192,\n",
       " 'still': 193,\n",
       " 'year': 194,\n",
       " '\\nthe': 195,\n",
       " 'years': 196,\n",
       " 'since': 197,\n",
       " 'find': 198,\n",
       " 'help': 199,\n",
       " 'point': 200,\n",
       " 'take': 201,\n",
       " 'windows': 202,\n",
       " 'information': 203,\n",
       " 'using': 204,\n",
       " 'question': 205,\n",
       " 'space': 206,\n",
       " 'must': 207,\n",
       " 'please': 208,\n",
       " 'last': 209,\n",
       " '\\n\\nthe': 210,\n",
       " 'never': 211,\n",
       " 'better': 212,\n",
       " 'things': 213,\n",
       " 'read': 214,\n",
       " 'before': 215,\n",
       " 'etc': 216,\n",
       " 'might': 217,\n",
       " \"can't\": 218,\n",
       " 'own': 219,\n",
       " 'world': 220,\n",
       " 'number': 221,\n",
       " 'y': 222,\n",
       " 'file': 223,\n",
       " 'case': 224,\n",
       " 'while': 225,\n",
       " 'key': 226,\n",
       " 'got': 227,\n",
       " 'news': 228,\n",
       " 'sure': 229,\n",
       " 'both': 230,\n",
       " 'government': 231,\n",
       " '\\t': 232,\n",
       " 'down': 233,\n",
       " 'made': 234,\n",
       " 'bit': 235,\n",
       " 'program': 236,\n",
       " 'data': 237,\n",
       " '\\nx': 238,\n",
       " 'long': 239,\n",
       " 'through': 240,\n",
       " 'without': 241,\n",
       " 'another': 242,\n",
       " \"i've\": 243,\n",
       " 'drive': 244,\n",
       " 'thing': 245,\n",
       " 'software': 246,\n",
       " 'law': 247,\n",
       " 'available': 248,\n",
       " 'look': 249,\n",
       " 'part': 250,\n",
       " 'under': 251,\n",
       " 'power': 252,\n",
       " 'someone': 253,\n",
       " \"doesn't\": 254,\n",
       " 'cc': 255,\n",
       " 'come': 256,\n",
       " 'to\\n': 257,\n",
       " 'few': 258,\n",
       " 'of\\n': 259,\n",
       " 'between': 260,\n",
       " 'day': 261,\n",
       " 'version': 262,\n",
       " 'public': 263,\n",
       " 'little': 264,\n",
       " \"didn't\": 265,\n",
       " 'fact': 266,\n",
       " 'access': 267,\n",
       " 'david': 268,\n",
       " 'give': 269,\n",
       " 'and\\n': 270,\n",
       " 'around': 271,\n",
       " 'anything': 272,\n",
       " '16': 273,\n",
       " 'true': 274,\n",
       " 'best': 275,\n",
       " 'name': 276,\n",
       " \"that's\": 277,\n",
       " 'line': 278,\n",
       " 'course': 279,\n",
       " 'nasa': 280,\n",
       " '20': 281,\n",
       " '1993': 282,\n",
       " 'again': 283,\n",
       " 'however': 284,\n",
       " 'tell': 285,\n",
       " 'ac': 286,\n",
       " 'set': 287,\n",
       " 'each': 288,\n",
       " '15': 289,\n",
       " 'g9v': 290,\n",
       " 'car': 291,\n",
       " 'probably': 292,\n",
       " 'uk': 293,\n",
       " 'every': 294,\n",
       " '\\ni': 295,\n",
       " 'seems': 296,\n",
       " 'research': 297,\n",
       " 'least': 298,\n",
       " 'put': 299,\n",
       " 'hard': 300,\n",
       " 'high': 301,\n",
       " 'lot': 302,\n",
       " 'run': 303,\n",
       " 'says': 304,\n",
       " 'real': 305,\n",
       " 'b8f': 306,\n",
       " 'list': 307,\n",
       " 'great': 308,\n",
       " 'org': 309,\n",
       " 'science': 310,\n",
       " 'far': 311,\n",
       " 'enough': 312,\n",
       " 'life': 313,\n",
       " 'against': 314,\n",
       " 'john': 315,\n",
       " '\\nand': 316,\n",
       " 'try': 317,\n",
       " 'systems': 318,\n",
       " 'end': 319,\n",
       " 'inc': 320,\n",
       " 'old': 321,\n",
       " 'gun': 322,\n",
       " 'post': 323,\n",
       " 'different': 324,\n",
       " 'possible': 325,\n",
       " 'game': 326,\n",
       " 'sun': 327,\n",
       " 'either': 328,\n",
       " '14': 329,\n",
       " 'her': 330,\n",
       " 'free': 331,\n",
       " 'second': 332,\n",
       " 'though': 333,\n",
       " 'group': 334,\n",
       " 'mean': 335,\n",
       " 'non': 336,\n",
       " 'apr': 337,\n",
       " 'she': 338,\n",
       " 'card': 339,\n",
       " '12': 340,\n",
       " 'team': 341,\n",
       " 'support': 342,\n",
       " 'called': 343,\n",
       " 'window': 344,\n",
       " 'netcom': 345,\n",
       " 'nothing': 346,\n",
       " 'chip': 347,\n",
       " 'info': 348,\n",
       " 'edu\\n': 349,\n",
       " 'rather': 350,\n",
       " '30': 351,\n",
       " 'next': 352,\n",
       " 'wrong': 353,\n",
       " 'gov': 354,\n",
       " 'a\\n': 355,\n",
       " 'a86': 356,\n",
       " 'mr': 357,\n",
       " 'let': 358,\n",
       " 'done': 359,\n",
       " 'net': 360,\n",
       " 'bad': 361,\n",
       " 'send': 362,\n",
       " 'problems': 363,\n",
       " 'jesus': 364,\n",
       " 'call': 365,\n",
       " '00': 366,\n",
       " '145': 367,\n",
       " 'based': 368,\n",
       " \"i'd\": 369,\n",
       " 'keep': 370,\n",
       " 'mit': 371,\n",
       " 'order': 372,\n",
       " 'example': 373,\n",
       " 'hp': 374,\n",
       " \"you're\": 375,\n",
       " 'message': 376,\n",
       " 'looking': 377,\n",
       " 'actually': 378,\n",
       " 'subject': 379,\n",
       " 'files': 380,\n",
       " 'else': 381,\n",
       " 'able': 382,\n",
       " 'above': 383,\n",
       " 'found': 384,\n",
       " 'man': 385,\n",
       " 'reason': 386,\n",
       " 'ibm': 387,\n",
       " 'having': 388,\n",
       " 'de': 389,\n",
       " 'email': 390,\n",
       " 'person': 391,\n",
       " 'left': 392,\n",
       " 'place': 393,\n",
       " 'thought': 394,\n",
       " '\\nnntp': 395,\n",
       " '11': 396,\n",
       " 'always': 397,\n",
       " \"isn't\": 398,\n",
       " 'seen': 399,\n",
       " 'code': 400,\n",
       " 'three': 401,\n",
       " 'times': 402,\n",
       " 'following': 403,\n",
       " 'wrote': 404,\n",
       " 'trying': 405,\n",
       " 'less': 406,\n",
       " 'others': 407,\n",
       " '000': 408,\n",
       " 'edu\\norganization': 409,\n",
       " '17': 410,\n",
       " 'control': 411,\n",
       " 'heard': 412,\n",
       " 'doing': 413,\n",
       " 'yet': 414,\n",
       " 'national': 415,\n",
       " 'maybe': 416,\n",
       " 'technology': 417,\n",
       " 'ever': 418,\n",
       " 'win': 419,\n",
       " 'big': 420,\n",
       " 'uucp': 421,\n",
       " 'idea': 422,\n",
       " 'scsi': 423,\n",
       " 'means': 424,\n",
       " 'opinions': 425,\n",
       " 'home': 426,\n",
       " '25': 427,\n",
       " 'away': 428,\n",
       " 'general': 429,\n",
       " 'pl': 430,\n",
       " 'graphics': 431,\n",
       " '24': 432,\n",
       " 'play': 433,\n",
       " '50': 434,\n",
       " 'center': 435,\n",
       " 'thanks': 436,\n",
       " 'dos': 437,\n",
       " 'several': 438,\n",
       " 'quite': 439,\n",
       " 'once': 440,\n",
       " 'given': 441,\n",
       " 'internet': 442,\n",
       " 'mac': 443,\n",
       " 'christian': 444,\n",
       " 'jews': 445,\n",
       " 'kind': 446,\n",
       " 'start': 447,\n",
       " '93': 448,\n",
       " 'phone': 449,\n",
       " 'washington': 450,\n",
       " 'pc': 451,\n",
       " 'israel': 452,\n",
       " 'american': 453,\n",
       " 'getting': 454,\n",
       " 'seem': 455,\n",
       " 'book': 456,\n",
       " 'bill': 457,\n",
       " 'co': 458,\n",
       " 'money': 459,\n",
       " 'mark': 460,\n",
       " 'today': 461,\n",
       " 'ask': 462,\n",
       " 'ago': 463,\n",
       " 'human': 464,\n",
       " 'questions': 465,\n",
       " 'whether': 466,\n",
       " 'makes': 467,\n",
       " 'during': 468,\n",
       " 'ftp': 469,\n",
       " 'standard': 470,\n",
       " 'cannot': 471,\n",
       " '18': 472,\n",
       " 'yes': 473,\n",
       " 'already': 474,\n",
       " 'image': 475,\n",
       " 'disk': 476,\n",
       " 'uiuc': 477,\n",
       " 'remember': 478,\n",
       " 'is\\n': 479,\n",
       " 'games': 480,\n",
       " 'word': 481,\n",
       " 'local': 482,\n",
       " 'current': 483,\n",
       " 'apple': 484,\n",
       " 'source': 485,\n",
       " 'until': 486,\n",
       " 'andrew': 487,\n",
       " 'small': 488,\n",
       " 'evidence': 489,\n",
       " 'speed': 490,\n",
       " '13': 491,\n",
       " \"i'll\": 492,\n",
       " 'issue': 493,\n",
       " 'told': 494,\n",
       " 'answer': 495,\n",
       " 'hand': 496,\n",
       " 'change': 497,\n",
       " 'that\\n': 498,\n",
       " 'large': 499,\n",
       " 'unix': 500,\n",
       " 'came': 501,\n",
       " 'vs': 502,\n",
       " 'note': 503,\n",
       " 'president': 504,\n",
       " 'clipper': 505,\n",
       " 'buy': 506,\n",
       " 'interested': 507,\n",
       " 'bible': 508,\n",
       " 'michael': 509,\n",
       " 'in\\n': 510,\n",
       " 'address': 511,\n",
       " 'whole': 512,\n",
       " 'april': 513,\n",
       " 'reply': 514,\n",
       " 'encryption': 515,\n",
       " 'rights': 516,\n",
       " 'open': 517,\n",
       " 'full': 518,\n",
       " 'price': 519,\n",
       " 'children': 520,\n",
       " 'running': 521,\n",
       " '0d': 522,\n",
       " 'works': 523,\n",
       " 'days': 524,\n",
       " 'turkish': 525,\n",
       " 'show': 526,\n",
       " '\\n\\nif': 527,\n",
       " 'memory': 528,\n",
       " 'server': 529,\n",
       " 'pretty': 530,\n",
       " 'states': 531,\n",
       " 'university\\nlines': 532,\n",
       " 'live': 533,\n",
       " 'color': 534,\n",
       " 'war': 535,\n",
       " 'side': 536,\n",
       " 'fax': 537,\n",
       " 'saying': 538,\n",
       " '19': 539,\n",
       " 'usa\\nlines': 540,\n",
       " 'stuff': 541,\n",
       " 'colorado': 542,\n",
       " '100': 543,\n",
       " 'institute': 544,\n",
       " 'box': 545,\n",
       " 'steve': 546,\n",
       " 'cmu': 547,\n",
       " 'went': 548,\n",
       " 'au': 549,\n",
       " 'robert': 550,\n",
       " '1d9': 551,\n",
       " 'type': 552,\n",
       " 'matter': 553,\n",
       " 'area': 554,\n",
       " 'agree': 555,\n",
       " 'white': 556,\n",
       " 'cost': 557,\n",
       " 'hope': 558,\n",
       " 'jim': 559,\n",
       " 'toronto': 560,\n",
       " 'armenian': 561,\n",
       " '34u': 562,\n",
       " 'important': 563,\n",
       " 'everything': 564,\n",
       " 'comes': 565,\n",
       " \"won't\": 566,\n",
       " 'care': 567,\n",
       " 'israeli': 568,\n",
       " 'ohio': 569,\n",
       " '40': 570,\n",
       " 'feel': 571,\n",
       " 'perhaps': 572,\n",
       " 'machine': 573,\n",
       " 'faq': 574,\n",
       " 'video': 575,\n",
       " 'everyone': 576,\n",
       " 'output': 577,\n",
       " 'paul': 578,\n",
       " 'check': 579,\n",
       " 'programs': 580,\n",
       " \"there's\": 581,\n",
       " 'newsreader': 582,\n",
       " '21': 583,\n",
       " 'mind': 584,\n",
       " 'include': 585,\n",
       " 'understand': 586,\n",
       " 'almost': 587,\n",
       " 'original': 588,\n",
       " 'security': 589,\n",
       " '\\n\\nthanks': 590,\n",
       " 'com\\n': 591,\n",
       " 'often': 592,\n",
       " 'truth': 593,\n",
       " 'men': 594,\n",
       " 'top': 595,\n",
       " 'including': 596,\n",
       " 'simply': 597,\n",
       " 'mike': 598,\n",
       " 'working': 599,\n",
       " 'display': 600,\n",
       " 'single': 601,\n",
       " 'ms': 602,\n",
       " 'hockey': 603,\n",
       " 'low': 604,\n",
       " 'st': 605,\n",
       " 'house': 606,\n",
       " 'love': 607,\n",
       " 'claim': 608,\n",
       " '22': 609,\n",
       " 'q\\t': 610,\n",
       " 'religion': 611,\n",
       " 'size': 612,\n",
       " 'write': 613,\n",
       " 'started': 614,\n",
       " 'armenians': 615,\n",
       " 'guess': 616,\n",
       " 'dept': 617,\n",
       " 'known': 618,\n",
       " 'department': 619,\n",
       " 'sale': 620,\n",
       " 'church': 621,\n",
       " 'wanted': 622,\n",
       " 'anybody': 623,\n",
       " '\\ndistribution': 624,\n",
       " 'instead': 625,\n",
       " 'hell': 626,\n",
       " '\\nbut': 627,\n",
       " 'package': 628,\n",
       " 'school': 629,\n",
       " 'provide': 630,\n",
       " \"wouldn't\": 631,\n",
       " 'columbia': 632,\n",
       " 'history': 633,\n",
       " 'tried': 634,\n",
       " 'later': 635,\n",
       " 'certainly': 636,\n",
       " 'pitt': 637,\n",
       " '32': 638,\n",
       " 'cause': 639,\n",
       " 'making': 640,\n",
       " 'usa': 641,\n",
       " 'cwru': 642,\n",
       " 'consider': 643,\n",
       " 'season': 644,\n",
       " '0t': 645,\n",
       " 'service': 646,\n",
       " 'christians': 647,\n",
       " 'country': 648,\n",
       " 'keys': 649,\n",
       " 'sort': 650,\n",
       " 'level': 651,\n",
       " 'similar': 652,\n",
       " 'earth': 653,\n",
       " 'took': 654,\n",
       " '\\n\\nin': 655,\n",
       " 'couple': 656,\n",
       " 'talk': 657,\n",
       " 'faith': 658,\n",
       " 'death': 659,\n",
       " '\\n\\nthis': 660,\n",
       " 'black': 661,\n",
       " 'pub': 662,\n",
       " 'city': 663,\n",
       " '23': 664,\n",
       " 'although': 665,\n",
       " 'california': 666,\n",
       " 'cx': 667,\n",
       " 'fast': 668,\n",
       " 'numbers': 669,\n",
       " 'att': 670,\n",
       " 'talking': 671,\n",
       " 'text': 672,\n",
       " 'per': 673,\n",
       " 'difference': 674,\n",
       " 'tin': 675,\n",
       " 'likely': 676,\n",
       " 'pay': 677,\n",
       " 'user': 678,\n",
       " 'anyway': 679,\n",
       " '34': 680,\n",
       " 'view': 681,\n",
       " 'players': 682,\n",
       " '3t': 683,\n",
       " 'saw': 684,\n",
       " 'clinton': 685,\n",
       " 'argument': 686,\n",
       " 'guns': 687,\n",
       " '75u': 688,\n",
       " 'hardware': 689,\n",
       " 'police': 690,\n",
       " 'via': 691,\n",
       " 'health': 692,\n",
       " 'correct': 693,\n",
       " 'nice': 694,\n",
       " 'unless': 695,\n",
       " 'berkeley': 696,\n",
       " 'asked': 697,\n",
       " 'major': 698,\n",
       " \"they're\": 699,\n",
       " 'ok': 700,\n",
       " 'certain': 701,\n",
       " 'bike': 702,\n",
       " 'york': 703,\n",
       " 'words': 704,\n",
       " 'screen': 705,\n",
       " 'sound': 706,\n",
       " 'for\\n': 707,\n",
       " 'body': 708,\n",
       " 'sense': 709,\n",
       " 'dead': 710,\n",
       " 'head': 711,\n",
       " 'driver': 712,\n",
       " 'engineering': 713,\n",
       " \"he's\": 714,\n",
       " 'san': 715,\n",
       " '2di': 716,\n",
       " 'stop': 717,\n",
       " 'board': 718,\n",
       " 'deal': 719,\n",
       " 'within': 720,\n",
       " '\\t\\t': 721,\n",
       " 'self': 722,\n",
       " 'press': 723,\n",
       " 'company': 724,\n",
       " 'jewish': 725,\n",
       " 'stanford': 726,\n",
       " 'groups': 727,\n",
       " 'private': 728,\n",
       " 'uses': 729,\n",
       " 'goes': 730,\n",
       " 'contact': 731,\n",
       " 'posted': 732,\n",
       " 'bus': 733,\n",
       " 'christ': 734,\n",
       " 'taken': 735,\n",
       " 'james': 736,\n",
       " 'simple': 737,\n",
       " 'week': 738,\n",
       " 'light': 739,\n",
       " 'experience': 740,\n",
       " 'opinion': 741,\n",
       " '80': 742,\n",
       " 'killed': 743,\n",
       " 'copy': 744,\n",
       " '\\nit': 745,\n",
       " \"we're\": 746,\n",
       " 'usually': 747,\n",
       " 'clear': 748,\n",
       " 'oh': 749,\n",
       " 'western': 750,\n",
       " 'exactly': 751,\n",
       " 'written': 752,\n",
       " 'services': 753,\n",
       " 'mine': 754,\n",
       " 'exist': 755,\n",
       " 'short': 756,\n",
       " 'value': 757,\n",
       " 'usenet': 758,\n",
       " '27': 759,\n",
       " 'myself': 760,\n",
       " 'com\\norganization': 761,\n",
       " 'drivers': 762,\n",
       " 'points': 763,\n",
       " 'especially': 764,\n",
       " 'air': 765,\n",
       " 'anti': 766,\n",
       " 'reading': 767,\n",
       " 'easy': 768,\n",
       " 'guy': 769,\n",
       " 'cleveland': 770,\n",
       " 'force': 771,\n",
       " 'os': 772,\n",
       " 'turn': 773,\n",
       " 'network': 774,\n",
       " 'fine': 775,\n",
       " 'business': 776,\n",
       " 'runs': 777,\n",
       " 'lines': 778,\n",
       " 'common': 779,\n",
       " 'form': 780,\n",
       " 'application': 781,\n",
       " 'college': 782,\n",
       " 'young': 783,\n",
       " 'test': 784,\n",
       " '\\nto': 785,\n",
       " 'mode': 786,\n",
       " 'build': 787,\n",
       " 'happened': 788,\n",
       " 'themselves': 789,\n",
       " 'except': 790,\n",
       " '\\nin': 791,\n",
       " 'laws': 792,\n",
       " 'division': 793,\n",
       " 'radio': 794,\n",
       " 'acs': 795,\n",
       " 'lost': 796,\n",
       " '04': 797,\n",
       " 'built': 798,\n",
       " 'become': 799,\n",
       " 'rest': 800,\n",
       " 'cso': 801,\n",
       " 'needs': 802,\n",
       " '1992': 803,\n",
       " 'hit': 804,\n",
       " '45': 805,\n",
       " 'keith': 806,\n",
       " 'fire': 807,\n",
       " 'cars': 808,\n",
       " 'caltech': 809,\n",
       " 'among': 810,\n",
       " 'night': 811,\n",
       " 'past': 812,\n",
       " 'hear': 813,\n",
       " 'position': 814,\n",
       " 'four': 815,\n",
       " 'office': 816,\n",
       " 'world\\nnntp': 817,\n",
       " 'face': 818,\n",
       " 'mouse': 819,\n",
       " 'bhj': 820,\n",
       " 'particular': 821,\n",
       " 'comp': 822,\n",
       " 'advance': 823,\n",
       " 'political': 824,\n",
       " 'communications': 825,\n",
       " 'rate': 826,\n",
       " 'drives': 827,\n",
       " 'job': 828,\n",
       " 'thus': 829,\n",
       " 'model': 830,\n",
       " 'rutgers': 831,\n",
       " 'red': 832,\n",
       " 'users': 833,\n",
       " 'situation': 834,\n",
       " 'virginia': 835,\n",
       " 'return': 836,\n",
       " 'discussion': 837,\n",
       " 'gets': 838,\n",
       " 'study': 839,\n",
       " 'books': 840,\n",
       " 'front': 841,\n",
       " \"haven't\": 842,\n",
       " 'special': 843,\n",
       " 'interesting': 844,\n",
       " 'itself': 845,\n",
       " 'kill': 846,\n",
       " 'request': 847,\n",
       " 'pittsburgh': 848,\n",
       " 'entry': 849,\n",
       " 'sci': 850,\n",
       " 'date': 851,\n",
       " 'statement': 852,\n",
       " 'motif': 853,\n",
       " 'longer': 854,\n",
       " 'early': 855,\n",
       " 'third': 856,\n",
       " 'crime': 857,\n",
       " 'weapons': 858,\n",
       " 'east': 859,\n",
       " 'monitor': 860,\n",
       " 'effect': 861,\n",
       " 'whatever': 862,\n",
       " 'sell': 863,\n",
       " 'anonymous': 864,\n",
       " 'future': 865,\n",
       " 'assume': 866,\n",
       " 'water': 867,\n",
       " 'women': 868,\n",
       " 'utexas': 869,\n",
       " 'thinking': 870,\n",
       " 'therefore': 871,\n",
       " 'se': 872,\n",
       " 'ones': 873,\n",
       " 'upon': 874,\n",
       " '26': 875,\n",
       " 'policy': 876,\n",
       " 'strong': 877,\n",
       " 'defense': 878,\n",
       " 'process': 879,\n",
       " 'league': 880,\n",
       " 'due': 881,\n",
       " 'manager': 882,\n",
       " 'error': 883,\n",
       " 'society': 884,\n",
       " 'accept': 885,\n",
       " 'looks': 886,\n",
       " '\\nreply': 887,\n",
       " 'considered': 888,\n",
       " '\\nx\\nx': 889,\n",
       " 'format': 890,\n",
       " 'military': 891,\n",
       " 'soon': 892,\n",
       " '\\nthat': 893,\n",
       " \"aren't\": 894,\n",
       " 'ed': 895,\n",
       " 'smith': 896,\n",
       " 'corp': 897,\n",
       " 'plus': 898,\n",
       " 'personal': 899,\n",
       " 'tv': 900,\n",
       " 'giz': 901,\n",
       " 'near': 902,\n",
       " 'act': 903,\n",
       " \"what's\": 904,\n",
       " 'la': 905,\n",
       " '1993apr15': 906,\n",
       " 'fbi': 907,\n",
       " 'ground': 908,\n",
       " 'canada': 909,\n",
       " 'add': 910,\n",
       " 'brian': 911,\n",
       " 'worth': 912,\n",
       " 'food': 913,\n",
       " 'uunet': 914,\n",
       " 'land': 915,\n",
       " 'legal': 916,\n",
       " 'baseball': 917,\n",
       " 'sgi': 918,\n",
       " 'cut': 919,\n",
       " 'federal': 920,\n",
       " 'series': 921,\n",
       " 'behind': 922,\n",
       " 'media': 923,\n",
       " 'needed': 924,\n",
       " 'happen': 925,\n",
       " 'cases': 926,\n",
       " 'road': 927,\n",
       " 'dave': 928,\n",
       " 'explain': 929,\n",
       " 'organization': 930,\n",
       " 'sorry': 931,\n",
       " 'related': 932,\n",
       " 'taking': 933,\n",
       " 'privacy': 934,\n",
       " 'cd': 935,\n",
       " 'coming': 936,\n",
       " \"wasn't\": 937,\n",
       " 'expect': 938,\n",
       " 'move': 939,\n",
       " 'peace': 940,\n",
       " 'members': 941,\n",
       " 'math': 942,\n",
       " 'friend': 943,\n",
       " 'parts': 944,\n",
       " 'project': 945,\n",
       " 'united': 946,\n",
       " '\\n\\n\\t': 947,\n",
       " 'i\\n': 948,\n",
       " 'purpose': 949,\n",
       " '\\n\\nit': 950,\n",
       " 'sent': 951,\n",
       " 'al': 952,\n",
       " 'texas': 953,\n",
       " 'nor': 954,\n",
       " 'univ': 955,\n",
       " 'offer': 956,\n",
       " 'religious': 957,\n",
       " 'period': 958,\n",
       " 'ram': 959,\n",
       " 'months': 960,\n",
       " 'half': 961,\n",
       " 'moral': 962,\n",
       " 'save': 963,\n",
       " 'cup': 964,\n",
       " 'hold': 965,\n",
       " 'along': 966,\n",
       " '\\na': 967,\n",
       " 'bob': 968,\n",
       " 'previous': 969,\n",
       " 'specific': 970,\n",
       " 'action': 971,\n",
       " 'peter': 972,\n",
       " 'sometimes': 973,\n",
       " 'recently': 974,\n",
       " '\\nif': 975,\n",
       " 'mentioned': 976,\n",
       " 'sources': 977,\n",
       " 'includes': 978,\n",
       " 'section': 979,\n",
       " 'are\\n': 980,\n",
       " '28': 981,\n",
       " 'dod': 982,\n",
       " '\\nthis': 983,\n",
       " 'close': 984,\n",
       " 'technical': 985,\n",
       " 'result': 986,\n",
       " 'controller': 987,\n",
       " 'allow': 988,\n",
       " 'medical': 989,\n",
       " 'freenet': 990,\n",
       " 'it\\n': 991,\n",
       " '02': 992,\n",
       " 'frank': 993,\n",
       " 'building': 994,\n",
       " 'north': 995,\n",
       " 'voice': 996,\n",
       " 'necessary': 997,\n",
       " '800': 998,\n",
       " 'ide': 999,\n",
       " '33': 1000,\n",
       " ...}"
      ]
     },
     "execution_count": 99,
     "metadata": {},
     "output_type": "execute_result"
    }
   ],
   "source": [
    "word_index"
   ]
  },
  {
   "cell_type": "code",
   "execution_count": 101,
   "metadata": {},
   "outputs": [
    {
     "data": {
      "text/plain": [
       "(11314, 250)"
      ]
     },
     "execution_count": 101,
     "metadata": {},
     "output_type": "execute_result"
    }
   ],
   "source": [
    "from keras.preprocessing.sequence import pad_sequences\n",
    "\n",
    "tokens = tokenizer.texts_to_sequences(X)\n",
    "tokens = pad_sequences(tokens, maxlen=250)\n",
    "tokens.shape"
   ]
  },
  {
   "cell_type": "code",
   "execution_count": 109,
   "metadata": {},
   "outputs": [
    {
     "data": {
      "text/plain": [
       "array(['rec.autos', 'comp.sys.mac.hardware', 'comp.sys.mac.hardware', ...,\n",
       "       'comp.sys.ibm.pc.hardware', 'comp.graphics', 'rec.motorcycles'],\n",
       "      dtype='<U24')"
      ]
     },
     "execution_count": 109,
     "metadata": {},
     "output_type": "execute_result"
    }
   ],
   "source": [
    "y"
   ]
  },
  {
   "cell_type": "code",
   "execution_count": 108,
   "metadata": {},
   "outputs": [
    {
     "ename": "ValueError",
     "evalue": "Error when checking target: expected dense_3 to have shape (20,) but got array with shape (1,)",
     "output_type": "error",
     "traceback": [
      "\u001b[0;31m---------------------------------------------------------------------------\u001b[0m",
      "\u001b[0;31mValueError\u001b[0m                                Traceback (most recent call last)",
      "\u001b[0;32m<ipython-input-108-4c374514055d>\u001b[0m in \u001b[0;36m<module>\u001b[0;34m\u001b[0m\n\u001b[1;32m     26\u001b[0m         \u001b[0mepochs\u001b[0m\u001b[0;34m=\u001b[0m\u001b[0;36m5\u001b[0m\u001b[0;34m,\u001b[0m\u001b[0;34m\u001b[0m\u001b[0;34m\u001b[0m\u001b[0m\n\u001b[1;32m     27\u001b[0m         \u001b[0mbatch_size\u001b[0m\u001b[0;34m=\u001b[0m\u001b[0;36m16\u001b[0m\u001b[0;34m,\u001b[0m\u001b[0;34m\u001b[0m\u001b[0;34m\u001b[0m\u001b[0m\n\u001b[0;32m---> 28\u001b[0;31m         \u001b[0mvalidation_split\u001b[0m\u001b[0;34m=\u001b[0m\u001b[0;36m0.1\u001b[0m\u001b[0;34m\u001b[0m\u001b[0;34m\u001b[0m\u001b[0m\n\u001b[0m\u001b[1;32m     29\u001b[0m     )\n",
      "\u001b[0;32m~/anaconda3/lib/python3.7/site-packages/keras/engine/training.py\u001b[0m in \u001b[0;36mfit\u001b[0;34m(self, x, y, batch_size, epochs, verbose, callbacks, validation_split, validation_data, shuffle, class_weight, sample_weight, initial_epoch, steps_per_epoch, validation_steps, **kwargs)\u001b[0m\n\u001b[1;32m    950\u001b[0m             \u001b[0msample_weight\u001b[0m\u001b[0;34m=\u001b[0m\u001b[0msample_weight\u001b[0m\u001b[0;34m,\u001b[0m\u001b[0;34m\u001b[0m\u001b[0;34m\u001b[0m\u001b[0m\n\u001b[1;32m    951\u001b[0m             \u001b[0mclass_weight\u001b[0m\u001b[0;34m=\u001b[0m\u001b[0mclass_weight\u001b[0m\u001b[0;34m,\u001b[0m\u001b[0;34m\u001b[0m\u001b[0;34m\u001b[0m\u001b[0m\n\u001b[0;32m--> 952\u001b[0;31m             batch_size=batch_size)\n\u001b[0m\u001b[1;32m    953\u001b[0m         \u001b[0;31m# Prepare validation data.\u001b[0m\u001b[0;34m\u001b[0m\u001b[0;34m\u001b[0m\u001b[0;34m\u001b[0m\u001b[0m\n\u001b[1;32m    954\u001b[0m         \u001b[0mdo_validation\u001b[0m \u001b[0;34m=\u001b[0m \u001b[0;32mFalse\u001b[0m\u001b[0;34m\u001b[0m\u001b[0;34m\u001b[0m\u001b[0m\n",
      "\u001b[0;32m~/anaconda3/lib/python3.7/site-packages/keras/engine/training.py\u001b[0m in \u001b[0;36m_standardize_user_data\u001b[0;34m(self, x, y, sample_weight, class_weight, check_array_lengths, batch_size)\u001b[0m\n\u001b[1;32m    787\u001b[0m                 \u001b[0mfeed_output_shapes\u001b[0m\u001b[0;34m,\u001b[0m\u001b[0;34m\u001b[0m\u001b[0;34m\u001b[0m\u001b[0m\n\u001b[1;32m    788\u001b[0m                 \u001b[0mcheck_batch_axis\u001b[0m\u001b[0;34m=\u001b[0m\u001b[0;32mFalse\u001b[0m\u001b[0;34m,\u001b[0m  \u001b[0;31m# Don't enforce the batch size.\u001b[0m\u001b[0;34m\u001b[0m\u001b[0;34m\u001b[0m\u001b[0m\n\u001b[0;32m--> 789\u001b[0;31m                 exception_prefix='target')\n\u001b[0m\u001b[1;32m    790\u001b[0m \u001b[0;34m\u001b[0m\u001b[0m\n\u001b[1;32m    791\u001b[0m             \u001b[0;31m# Generate sample-wise weight values given the `sample_weight` and\u001b[0m\u001b[0;34m\u001b[0m\u001b[0;34m\u001b[0m\u001b[0;34m\u001b[0m\u001b[0m\n",
      "\u001b[0;32m~/anaconda3/lib/python3.7/site-packages/keras/engine/training_utils.py\u001b[0m in \u001b[0;36mstandardize_input_data\u001b[0;34m(data, names, shapes, check_batch_axis, exception_prefix)\u001b[0m\n\u001b[1;32m    136\u001b[0m                             \u001b[0;34m': expected '\u001b[0m \u001b[0;34m+\u001b[0m \u001b[0mnames\u001b[0m\u001b[0;34m[\u001b[0m\u001b[0mi\u001b[0m\u001b[0;34m]\u001b[0m \u001b[0;34m+\u001b[0m \u001b[0;34m' to have shape '\u001b[0m \u001b[0;34m+\u001b[0m\u001b[0;34m\u001b[0m\u001b[0;34m\u001b[0m\u001b[0m\n\u001b[1;32m    137\u001b[0m                             \u001b[0mstr\u001b[0m\u001b[0;34m(\u001b[0m\u001b[0mshape\u001b[0m\u001b[0;34m)\u001b[0m \u001b[0;34m+\u001b[0m \u001b[0;34m' but got array with shape '\u001b[0m \u001b[0;34m+\u001b[0m\u001b[0;34m\u001b[0m\u001b[0;34m\u001b[0m\u001b[0m\n\u001b[0;32m--> 138\u001b[0;31m                             str(data_shape))\n\u001b[0m\u001b[1;32m    139\u001b[0m     \u001b[0;32mreturn\u001b[0m \u001b[0mdata\u001b[0m\u001b[0;34m\u001b[0m\u001b[0;34m\u001b[0m\u001b[0m\n\u001b[1;32m    140\u001b[0m \u001b[0;34m\u001b[0m\u001b[0m\n",
      "\u001b[0;31mValueError\u001b[0m: Error when checking target: expected dense_3 to have shape (20,) but got array with shape (1,)"
     ]
    }
   ],
   "source": [
    "from keras import layers\n",
    "from keras import models\n",
    "\n",
    "\n",
    "epochs = 5\n",
    "batch_size = 64\n",
    "\n",
    "for i, (fit_idx, val_idx) in enumerate(cv.split(X, y)):\n",
    "    \n",
    "    X_fit, y_fit = X[fit_idx], y[fit_idx]\n",
    "    X_val, y_val = X[val_idx], y[val_idx]\n",
    "    \n",
    "    model = models.Sequential([\n",
    "        layers.Embedding(MAX_NB_WORDS, EMBEDDING_DIM, input_length=X.shape[1]),\n",
    "        layers.SpatialDropout1D(0.2),\n",
    "        layers.LSTM(100, dropout=0.2, recurrent_dropout=0.2),\n",
    "        layers.Dense(20, activation='softmax')    \n",
    "    ])\n",
    "\n",
    "    model.compile(loss='categorical_crossentropy', optimizer='adam', metrics=['accuracy'])\n",
    "\n",
    "    history = model.fit(\n",
    "        X_fit,\n",
    "        y_fit,\n",
    "        epochs=5,\n",
    "        batch_size=16,\n",
    "        validation_split=0.1\n",
    "    )"
   ]
  },
  {
   "cell_type": "markdown",
   "metadata": {
    "slideshow": {
     "slide_type": "slide"
    }
   },
   "source": [
    "## BERT\n",
    "\n",
    "https://yashuseth.blog/2019/06/12/bert-explained-faqs-understand-bert-working/"
   ]
  },
  {
   "cell_type": "markdown",
   "metadata": {
    "slideshow": {
     "slide_type": "slide"
    }
   },
   "source": [
    "## Case-study: Kaggle Toxic Comment Classification Challenge\n",
    "\n",
    "- [1st place solution](https://www.kaggle.com/c/jigsaw-toxic-comment-classification-challenge/discussion/52557#latest-658995)"
   ]
  },
  {
   "cell_type": "markdown",
   "metadata": {
    "slideshow": {
     "slide_type": "slide"
    }
   },
   "source": [
    "## Case-study: Quora Question Pairs\n",
    "\n",
    "To do: describe it\n",
    "\n",
    "- [24th place solution](https://github.com/aerdem4/kaggle-quora-dup)"
   ]
  },
  {
   "cell_type": "markdown",
   "metadata": {
    "slideshow": {
     "slide_type": "slide"
    }
   },
   "source": [
    "## Problem set\n",
    "\n",
    "1. Implement [GloVe](https://nlp.stanford.edu/projects/glove/). Bonus points if you can plug in any stochastic optimizer.\n",
    "2. Implement the FTRL optimizer from [this](https://static.googleusercontent.com/media/research.google.com/en//pubs/archive/41159.pdf) paper. Train a linear (or logistic, your choice) regression with it.\n",
    "3. Do a review on dropout, you can start from the initial [paper](http://jmlr.org/papers/volume15/srivastava14a.old/srivastava14a.pdf).\n",
    "4. Implement [focal loss](https://arxiv.org/abs/1708.02002) in a logistic regression, try it out on the [credit card fraud dataset](https://www.kaggle.com/mlg-ulb/creditcardfraud).\n",
    "5. Do a review on the differences between Word2Vec, Sentence2Vec, and Doc2Vec.\n",
    "6. Implement an autoencoder. Train it on the MNIST training set and use it to find outliers in the MNIST test set. You can start from [this](https://blog.keras.io/building-autoencoders-in-keras.html) tutorial.\n",
    "7. Implement [NBSVM](https://nlp.stanford.edu/pubs/sidaw12_simple_sentiment.pdf) and compare it to SVM and Naive Bayes on a text dataset of your choice.\n",
    "8. Use [Bayesian optimization](http://krasserm.github.io/2018/03/21/bayesian-optimization/) (you can find opensource implementations online) to find the optimal number of layers and neurons for an [MLPClassifier](https://scikit-learn.org/stable/modules/generated/sklearn.neural_network.MLPClassifier.html). Use a dataset of your choice.\n",
    "9. [Throw the kitchen sink](https://www.urbandictionary.com/define.php?term=Throw%20the%20Kitchen%20Sink) at a text classification dataset of your choice. Ideally you should produce a table or a timeline that shows the progress of the accuracy everytime you add something to your model.\n",
    "10. Build an RNN to generate text. You can use whatever dataset you like.\n",
    "11. Do a review on stochastic gradient descent and the different choices a practionner has to make.\n",
    "12. Implement backpropagation and use finite differences to test your implementation."
   ]
  }
 ],
 "metadata": {
  "celltoolbar": "Slideshow",
  "kernelspec": {
   "display_name": "Python 3",
   "language": "python",
   "name": "python3"
  },
  "language_info": {
   "codemirror_mode": {
    "name": "ipython",
    "version": 3
   },
   "file_extension": ".py",
   "mimetype": "text/x-python",
   "name": "python",
   "nbconvert_exporter": "python",
   "pygments_lexer": "ipython3",
   "version": "3.7.4"
  }
 },
 "nbformat": 4,
 "nbformat_minor": 2
}
